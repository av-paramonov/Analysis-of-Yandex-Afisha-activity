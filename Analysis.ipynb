{
 "cells": [
  {
   "cell_type": "markdown",
   "id": "f161fe14-34e6-4475-bfd7-bfa41b5815bf",
   "metadata": {},
   "source": [
    "# Анализ пользовательской активности и проверка гипотез для сервиса Яндекс Афиша (июнь-октябрь 2024 г.)"
   ]
  },
  {
   "cell_type": "markdown",
   "id": "f467b262-4189-4d92-a2d6-2d6b7eed5ac1",
   "metadata": {},
   "source": [
    "- Автор: Парамонов Алексей Валерьевич\n",
    "- Дата: 09.07.2025"
   ]
  },
  {
   "cell_type": "markdown",
   "id": "10a0adc9-3444-4897-9ad5-8051c1f55a1f",
   "metadata": {},
   "source": [
    "## Цели и задачи\n",
    "\n",
    "**Цель:**\n",
    "\n",
    "Выявить причины изменения пользовательского спроса осенью 2024 года и проверить гипотезы о различиях в поведении пользователей мобильных и стационарных устройств.\n",
    "\n",
    "**Задачи:**\n",
    "\n",
    "1. Предобработать данные (конвертация валют, обработка пропусков и выбросов).\n",
    "\n",
    "2. Проанализировать сезонные изменения в распределении заказов.\n",
    "\n",
    "3. Исследовать активность пользователей осенью 2024 года.\n",
    "\n",
    "4. Выявить популярные события и партнёров.\n",
    "\n",
    "5. Проверить статистические гипотезы о поведении пользователей."
   ]
  },
  {
   "cell_type": "markdown",
   "id": "6dd77926-36ee-4ede-9769-63531dae7e10",
   "metadata": {},
   "source": [
    "## Описание данных:\n",
    "\n",
    "Описание датасета `final_tickets_orders_df.csv`\n",
    "\n",
    "*Информация обо всех заказах билетов, совершённых с двух типов устройств — мобильных и стационарных.*\n",
    "\n",
    "- `order_id` — уникальный идентификатор заказа.\n",
    "- `user_id` — уникальный идентификатор пользователя.\n",
    "- `created_dt_msk` — дата создания заказа (московское время).\n",
    "- `created_ts_msk` — дата и время создания заказа (московское время).\n",
    "- `event_id` — идентификатор мероприятия из таблицы events.\n",
    "- `cinema_circuit` — сеть кинотеатров. Если не применимо, то здесь будет значение 'нет'.\n",
    "- `age_limit` — возрастное ограничение мероприятия.\n",
    "- `currency_code` — валюта оплаты, например rub для российских рублей.\n",
    "- `device_type_canonical` — тип устройства, с которого был оформлен заказ, например mobile для мобильных устройств, desktop для стационарных.\n",
    "- `revenue` — выручка от заказа.\n",
    "- `service_name` — название билетного оператора.\n",
    "- `tickets_count` — количество купленных билетов.\n",
    "- `total` — общая сумма заказа.\n",
    "- `days_since_prev` - количество дней с предыдущей покупки для каждого пользователя. Если покупки не было, то данные содержат пропуск.\n",
    "\n",
    "Описание датасета `final_tickets_events_df.csv`\n",
    "\n",
    "*Информация о событиях, включая город и регион события, а также информацию о площадке проведения мероприятия.*\n",
    "\n",
    "- `event_id` — уникальный идентификатор мероприятия.\n",
    "- `event_name` — название мероприятия. Аналог поля event_name_code из исходной базы данных.\n",
    "- `event_type_description` — описание типа мероприятия.\n",
    "- `event_type_main` — основной тип мероприятия: театральная постановка, концерт и так далее.\n",
    "- `organizers` — организаторы мероприятия.\n",
    "- `region_name` — название региона.\n",
    "- `city_name` — название города.\n",
    "- `city_id` - уникальный идентификатор города.\n",
    "- `venue_id` — уникальный идентификатор площадки.\n",
    "- `venue_name` — название площадки.\n",
    "- `venue_address` — адрес площадки.\n",
    "\n",
    "Описание датасета `final_tickets_tenge_df.csv`\n",
    "\n",
    "*Информациия о курсе тенге к российскому рублю за 2024 год. Значения в рублях представлено для 100 тенге.*\n",
    "\n",
    "- `nominal` — номинал (100 тенге).\n",
    "- `data` — дата.\n",
    "- `curs` — курс тенге к рублю.\n",
    "- `cdx` — обозначение валюты (kzt)."
   ]
  },
  {
   "cell_type": "markdown",
   "id": "c008d3d5-9b21-43d3-9211-baad68eb98c1",
   "metadata": {},
   "source": [
    "## Загрузка данных и знакомство с ними"
   ]
  },
  {
   "cell_type": "code",
   "execution_count": 1,
   "id": "0de209fc-d94c-47a3-a9ae-f67569089949",
   "metadata": {},
   "outputs": [],
   "source": [
    "# Импотируем библиотеки\n",
    "import pandas as pd\n",
    "import numpy as np\n",
    "import matplotlib.pyplot as plt\n",
    "import seaborn as sns\n",
    "from scipy import stats\n",
    "from IPython.display import display\n"
   ]
  },
  {
   "cell_type": "code",
   "execution_count": 2,
   "id": "32b0a584-d600-47c5-92fb-0edff02c39a1",
   "metadata": {},
   "outputs": [],
   "source": [
    "# Загрузка данных\n",
    "orders = pd.read_csv('https://.../final_tickets_orders_df.csv')\n",
    "events = pd.read_csv('https://.../final_tickets_events_df.csv')\n",
    "tenge = pd.read_csv('https://.../final_tickets_tenge_df.csv')"
   ]
  },
  {
   "cell_type": "code",
   "execution_count": 3,
   "id": "509dea3b-738e-49f3-b517-9b487fb65829",
   "metadata": {},
   "outputs": [
    {
     "name": "stdout",
     "output_type": "stream",
     "text": [
      "Orders:\n"
     ]
    },
    {
     "data": {
      "text/html": [
       "<div>\n",
       "<style scoped>\n",
       "    .dataframe tbody tr th:only-of-type {\n",
       "        vertical-align: middle;\n",
       "    }\n",
       "\n",
       "    .dataframe tbody tr th {\n",
       "        vertical-align: top;\n",
       "    }\n",
       "\n",
       "    .dataframe thead th {\n",
       "        text-align: right;\n",
       "    }\n",
       "</style>\n",
       "<table border=\"1\" class=\"dataframe\">\n",
       "  <thead>\n",
       "    <tr style=\"text-align: right;\">\n",
       "      <th></th>\n",
       "      <th>order_id</th>\n",
       "      <th>user_id</th>\n",
       "      <th>created_dt_msk</th>\n",
       "      <th>created_ts_msk</th>\n",
       "      <th>event_id</th>\n",
       "      <th>cinema_circuit</th>\n",
       "      <th>age_limit</th>\n",
       "      <th>currency_code</th>\n",
       "      <th>device_type_canonical</th>\n",
       "      <th>revenue</th>\n",
       "      <th>service_name</th>\n",
       "      <th>tickets_count</th>\n",
       "      <th>total</th>\n",
       "      <th>days_since_prev</th>\n",
       "    </tr>\n",
       "  </thead>\n",
       "  <tbody>\n",
       "    <tr>\n",
       "      <th>0</th>\n",
       "      <td>4359165</td>\n",
       "      <td>0002849b70a3ce2</td>\n",
       "      <td>2024-08-20</td>\n",
       "      <td>2024-08-20 16:08:03</td>\n",
       "      <td>169230</td>\n",
       "      <td>нет</td>\n",
       "      <td>16</td>\n",
       "      <td>rub</td>\n",
       "      <td>mobile</td>\n",
       "      <td>1521.94</td>\n",
       "      <td>Край билетов</td>\n",
       "      <td>4</td>\n",
       "      <td>10870.99</td>\n",
       "      <td>NaN</td>\n",
       "    </tr>\n",
       "    <tr>\n",
       "      <th>1</th>\n",
       "      <td>7965605</td>\n",
       "      <td>0005ca5e93f2cf4</td>\n",
       "      <td>2024-07-23</td>\n",
       "      <td>2024-07-23 18:36:24</td>\n",
       "      <td>237325</td>\n",
       "      <td>нет</td>\n",
       "      <td>0</td>\n",
       "      <td>rub</td>\n",
       "      <td>mobile</td>\n",
       "      <td>289.45</td>\n",
       "      <td>Мой билет</td>\n",
       "      <td>2</td>\n",
       "      <td>2067.51</td>\n",
       "      <td>NaN</td>\n",
       "    </tr>\n",
       "    <tr>\n",
       "      <th>2</th>\n",
       "      <td>7292370</td>\n",
       "      <td>0005ca5e93f2cf4</td>\n",
       "      <td>2024-10-06</td>\n",
       "      <td>2024-10-06 13:56:02</td>\n",
       "      <td>578454</td>\n",
       "      <td>нет</td>\n",
       "      <td>0</td>\n",
       "      <td>rub</td>\n",
       "      <td>mobile</td>\n",
       "      <td>1258.57</td>\n",
       "      <td>За билетом!</td>\n",
       "      <td>4</td>\n",
       "      <td>13984.16</td>\n",
       "      <td>75.0</td>\n",
       "    </tr>\n",
       "    <tr>\n",
       "      <th>3</th>\n",
       "      <td>1139875</td>\n",
       "      <td>000898990054619</td>\n",
       "      <td>2024-07-13</td>\n",
       "      <td>2024-07-13 19:40:48</td>\n",
       "      <td>387271</td>\n",
       "      <td>нет</td>\n",
       "      <td>0</td>\n",
       "      <td>rub</td>\n",
       "      <td>mobile</td>\n",
       "      <td>8.49</td>\n",
       "      <td>Лови билет!</td>\n",
       "      <td>2</td>\n",
       "      <td>212.28</td>\n",
       "      <td>NaN</td>\n",
       "    </tr>\n",
       "    <tr>\n",
       "      <th>4</th>\n",
       "      <td>972400</td>\n",
       "      <td>000898990054619</td>\n",
       "      <td>2024-10-04</td>\n",
       "      <td>2024-10-04 22:33:15</td>\n",
       "      <td>509453</td>\n",
       "      <td>нет</td>\n",
       "      <td>18</td>\n",
       "      <td>rub</td>\n",
       "      <td>mobile</td>\n",
       "      <td>1390.41</td>\n",
       "      <td>Билеты без проблем</td>\n",
       "      <td>3</td>\n",
       "      <td>10695.43</td>\n",
       "      <td>83.0</td>\n",
       "    </tr>\n",
       "  </tbody>\n",
       "</table>\n",
       "</div>"
      ],
      "text/plain": [
       "   order_id          user_id created_dt_msk       created_ts_msk  event_id  \\\n",
       "0   4359165  0002849b70a3ce2     2024-08-20  2024-08-20 16:08:03    169230   \n",
       "1   7965605  0005ca5e93f2cf4     2024-07-23  2024-07-23 18:36:24    237325   \n",
       "2   7292370  0005ca5e93f2cf4     2024-10-06  2024-10-06 13:56:02    578454   \n",
       "3   1139875  000898990054619     2024-07-13  2024-07-13 19:40:48    387271   \n",
       "4    972400  000898990054619     2024-10-04  2024-10-04 22:33:15    509453   \n",
       "\n",
       "  cinema_circuit  age_limit currency_code device_type_canonical  revenue  \\\n",
       "0            нет         16           rub                mobile  1521.94   \n",
       "1            нет          0           rub                mobile   289.45   \n",
       "2            нет          0           rub                mobile  1258.57   \n",
       "3            нет          0           rub                mobile     8.49   \n",
       "4            нет         18           rub                mobile  1390.41   \n",
       "\n",
       "         service_name  tickets_count     total  days_since_prev  \n",
       "0        Край билетов              4  10870.99              NaN  \n",
       "1           Мой билет              2   2067.51              NaN  \n",
       "2         За билетом!              4  13984.16             75.0  \n",
       "3         Лови билет!              2    212.28              NaN  \n",
       "4  Билеты без проблем              3  10695.43             83.0  "
      ]
     },
     "metadata": {},
     "output_type": "display_data"
    },
    {
     "name": "stdout",
     "output_type": "stream",
     "text": [
      "\n",
      "Events:\n"
     ]
    },
    {
     "data": {
      "text/html": [
       "<div>\n",
       "<style scoped>\n",
       "    .dataframe tbody tr th:only-of-type {\n",
       "        vertical-align: middle;\n",
       "    }\n",
       "\n",
       "    .dataframe tbody tr th {\n",
       "        vertical-align: top;\n",
       "    }\n",
       "\n",
       "    .dataframe thead th {\n",
       "        text-align: right;\n",
       "    }\n",
       "</style>\n",
       "<table border=\"1\" class=\"dataframe\">\n",
       "  <thead>\n",
       "    <tr style=\"text-align: right;\">\n",
       "      <th></th>\n",
       "      <th>event_id</th>\n",
       "      <th>event_name</th>\n",
       "      <th>event_type_description</th>\n",
       "      <th>event_type_main</th>\n",
       "      <th>organizers</th>\n",
       "      <th>region_name</th>\n",
       "      <th>city_name</th>\n",
       "      <th>city_id</th>\n",
       "      <th>venue_id</th>\n",
       "      <th>venue_name</th>\n",
       "      <th>venue_address</th>\n",
       "    </tr>\n",
       "  </thead>\n",
       "  <tbody>\n",
       "    <tr>\n",
       "      <th>0</th>\n",
       "      <td>4436</td>\n",
       "      <td>e4f26fba-da77-4c61-928a-6c3e434d793f</td>\n",
       "      <td>спектакль</td>\n",
       "      <td>театр</td>\n",
       "      <td>№4893</td>\n",
       "      <td>Североярская область</td>\n",
       "      <td>Озёрск</td>\n",
       "      <td>2</td>\n",
       "      <td>1600</td>\n",
       "      <td>Кладбище искусств \"Проблема\" и партнеры</td>\n",
       "      <td>наб. Загородная, д. 785</td>\n",
       "    </tr>\n",
       "    <tr>\n",
       "      <th>1</th>\n",
       "      <td>5785</td>\n",
       "      <td>5cc08a60-fdea-4186-9bb2-bffc3603fb77</td>\n",
       "      <td>спектакль</td>\n",
       "      <td>театр</td>\n",
       "      <td>№1931</td>\n",
       "      <td>Светополянский округ</td>\n",
       "      <td>Глиноград</td>\n",
       "      <td>54</td>\n",
       "      <td>2196</td>\n",
       "      <td>Лекции по искусству \"Свет\" Групп</td>\n",
       "      <td>ул. Ягодная, д. 942</td>\n",
       "    </tr>\n",
       "    <tr>\n",
       "      <th>2</th>\n",
       "      <td>8817</td>\n",
       "      <td>8e379a89-3a10-4811-ba06-ec22ebebe989</td>\n",
       "      <td>спектакль</td>\n",
       "      <td>театр</td>\n",
       "      <td>№4896</td>\n",
       "      <td>Североярская область</td>\n",
       "      <td>Озёрск</td>\n",
       "      <td>2</td>\n",
       "      <td>4043</td>\n",
       "      <td>Кинокомитет \"Золотая\" Инк</td>\n",
       "      <td>ш. Коммуны, д. 92 стр. 6</td>\n",
       "    </tr>\n",
       "    <tr>\n",
       "      <th>3</th>\n",
       "      <td>8849</td>\n",
       "      <td>682e3129-6a32-4952-9d8a-ef7f60d4c247</td>\n",
       "      <td>спектакль</td>\n",
       "      <td>театр</td>\n",
       "      <td>№4960</td>\n",
       "      <td>Каменевский регион</td>\n",
       "      <td>Глиногорск</td>\n",
       "      <td>213</td>\n",
       "      <td>1987</td>\n",
       "      <td>Выставка ремесел \"Свет\" Лтд</td>\n",
       "      <td>пер. Набережный, д. 35</td>\n",
       "    </tr>\n",
       "    <tr>\n",
       "      <th>4</th>\n",
       "      <td>8850</td>\n",
       "      <td>d6e99176-c77f-4af0-9222-07c571f6c624</td>\n",
       "      <td>спектакль</td>\n",
       "      <td>театр</td>\n",
       "      <td>№4770</td>\n",
       "      <td>Лесодальний край</td>\n",
       "      <td>Родниковец</td>\n",
       "      <td>55</td>\n",
       "      <td>4230</td>\n",
       "      <td>Фестивальный проект \"Листья\" Групп</td>\n",
       "      <td>пер. Проезжий, д. 9</td>\n",
       "    </tr>\n",
       "  </tbody>\n",
       "</table>\n",
       "</div>"
      ],
      "text/plain": [
       "   event_id                            event_name event_type_description  \\\n",
       "0      4436  e4f26fba-da77-4c61-928a-6c3e434d793f              спектакль   \n",
       "1      5785  5cc08a60-fdea-4186-9bb2-bffc3603fb77              спектакль   \n",
       "2      8817  8e379a89-3a10-4811-ba06-ec22ebebe989              спектакль   \n",
       "3      8849  682e3129-6a32-4952-9d8a-ef7f60d4c247              спектакль   \n",
       "4      8850  d6e99176-c77f-4af0-9222-07c571f6c624              спектакль   \n",
       "\n",
       "  event_type_main organizers           region_name   city_name  city_id  \\\n",
       "0           театр      №4893  Североярская область      Озёрск        2   \n",
       "1           театр      №1931  Светополянский округ   Глиноград       54   \n",
       "2           театр      №4896  Североярская область      Озёрск        2   \n",
       "3           театр      №4960    Каменевский регион  Глиногорск      213   \n",
       "4           театр      №4770      Лесодальний край  Родниковец       55   \n",
       "\n",
       "   venue_id                               venue_name             venue_address  \n",
       "0      1600  Кладбище искусств \"Проблема\" и партнеры   наб. Загородная, д. 785  \n",
       "1      2196         Лекции по искусству \"Свет\" Групп       ул. Ягодная, д. 942  \n",
       "2      4043                Кинокомитет \"Золотая\" Инк  ш. Коммуны, д. 92 стр. 6  \n",
       "3      1987              Выставка ремесел \"Свет\" Лтд    пер. Набережный, д. 35  \n",
       "4      4230       Фестивальный проект \"Листья\" Групп       пер. Проезжий, д. 9  "
      ]
     },
     "metadata": {},
     "output_type": "display_data"
    },
    {
     "name": "stdout",
     "output_type": "stream",
     "text": [
      "\n",
      "Tenge:\n"
     ]
    },
    {
     "data": {
      "text/html": [
       "<div>\n",
       "<style scoped>\n",
       "    .dataframe tbody tr th:only-of-type {\n",
       "        vertical-align: middle;\n",
       "    }\n",
       "\n",
       "    .dataframe tbody tr th {\n",
       "        vertical-align: top;\n",
       "    }\n",
       "\n",
       "    .dataframe thead th {\n",
       "        text-align: right;\n",
       "    }\n",
       "</style>\n",
       "<table border=\"1\" class=\"dataframe\">\n",
       "  <thead>\n",
       "    <tr style=\"text-align: right;\">\n",
       "      <th></th>\n",
       "      <th>data</th>\n",
       "      <th>nominal</th>\n",
       "      <th>curs</th>\n",
       "      <th>cdx</th>\n",
       "    </tr>\n",
       "  </thead>\n",
       "  <tbody>\n",
       "    <tr>\n",
       "      <th>0</th>\n",
       "      <td>2024-01-10</td>\n",
       "      <td>100</td>\n",
       "      <td>19.9391</td>\n",
       "      <td>kzt</td>\n",
       "    </tr>\n",
       "    <tr>\n",
       "      <th>1</th>\n",
       "      <td>2024-01-11</td>\n",
       "      <td>100</td>\n",
       "      <td>19.7255</td>\n",
       "      <td>kzt</td>\n",
       "    </tr>\n",
       "    <tr>\n",
       "      <th>2</th>\n",
       "      <td>2024-01-12</td>\n",
       "      <td>100</td>\n",
       "      <td>19.5839</td>\n",
       "      <td>kzt</td>\n",
       "    </tr>\n",
       "    <tr>\n",
       "      <th>3</th>\n",
       "      <td>2024-01-13</td>\n",
       "      <td>100</td>\n",
       "      <td>19.4501</td>\n",
       "      <td>kzt</td>\n",
       "    </tr>\n",
       "    <tr>\n",
       "      <th>4</th>\n",
       "      <td>2024-01-14</td>\n",
       "      <td>100</td>\n",
       "      <td>19.4501</td>\n",
       "      <td>kzt</td>\n",
       "    </tr>\n",
       "  </tbody>\n",
       "</table>\n",
       "</div>"
      ],
      "text/plain": [
       "         data  nominal     curs  cdx\n",
       "0  2024-01-10      100  19.9391  kzt\n",
       "1  2024-01-11      100  19.7255  kzt\n",
       "2  2024-01-12      100  19.5839  kzt\n",
       "3  2024-01-13      100  19.4501  kzt\n",
       "4  2024-01-14      100  19.4501  kzt"
      ]
     },
     "metadata": {},
     "output_type": "display_data"
    }
   ],
   "source": [
    "# Выведим первые строки датафреймов на экран\n",
    "print(\"Orders:\")\n",
    "display(orders.head())\n",
    "print(\"\\nEvents:\")\n",
    "display(events.head())\n",
    "print(\"\\nTenge:\")\n",
    "display(tenge.head())"
   ]
  },
  {
   "cell_type": "code",
   "execution_count": 4,
   "id": "a93232a5-fd95-429e-a469-0f2c56f1ef49",
   "metadata": {},
   "outputs": [
    {
     "name": "stdout",
     "output_type": "stream",
     "text": [
      "<class 'pandas.core.frame.DataFrame'>\n",
      "RangeIndex: 290849 entries, 0 to 290848\n",
      "Data columns (total 14 columns):\n",
      " #   Column                 Non-Null Count   Dtype  \n",
      "---  ------                 --------------   -----  \n",
      " 0   order_id               290849 non-null  int64  \n",
      " 1   user_id                290849 non-null  object \n",
      " 2   created_dt_msk         290849 non-null  object \n",
      " 3   created_ts_msk         290849 non-null  object \n",
      " 4   event_id               290849 non-null  int64  \n",
      " 5   cinema_circuit         290849 non-null  object \n",
      " 6   age_limit              290849 non-null  int64  \n",
      " 7   currency_code          290849 non-null  object \n",
      " 8   device_type_canonical  290849 non-null  object \n",
      " 9   revenue                290849 non-null  float64\n",
      " 10  service_name           290849 non-null  object \n",
      " 11  tickets_count          290849 non-null  int64  \n",
      " 12  total                  290849 non-null  float64\n",
      " 13  days_since_prev        268909 non-null  float64\n",
      "dtypes: float64(3), int64(4), object(7)\n",
      "memory usage: 31.1+ MB\n",
      "None\n",
      "<class 'pandas.core.frame.DataFrame'>\n",
      "RangeIndex: 22427 entries, 0 to 22426\n",
      "Data columns (total 11 columns):\n",
      " #   Column                  Non-Null Count  Dtype \n",
      "---  ------                  --------------  ----- \n",
      " 0   event_id                22427 non-null  int64 \n",
      " 1   event_name              22427 non-null  object\n",
      " 2   event_type_description  22427 non-null  object\n",
      " 3   event_type_main         22427 non-null  object\n",
      " 4   organizers              22427 non-null  object\n",
      " 5   region_name             22427 non-null  object\n",
      " 6   city_name               22427 non-null  object\n",
      " 7   city_id                 22427 non-null  int64 \n",
      " 8   venue_id                22427 non-null  int64 \n",
      " 9   venue_name              22427 non-null  object\n",
      " 10  venue_address           22427 non-null  object\n",
      "dtypes: int64(3), object(8)\n",
      "memory usage: 1.9+ MB\n",
      "None\n",
      "<class 'pandas.core.frame.DataFrame'>\n",
      "RangeIndex: 357 entries, 0 to 356\n",
      "Data columns (total 4 columns):\n",
      " #   Column   Non-Null Count  Dtype  \n",
      "---  ------   --------------  -----  \n",
      " 0   data     357 non-null    object \n",
      " 1   nominal  357 non-null    int64  \n",
      " 2   curs     357 non-null    float64\n",
      " 3   cdx      357 non-null    object \n",
      "dtypes: float64(1), int64(1), object(2)\n",
      "memory usage: 11.3+ KB\n",
      "None\n"
     ]
    }
   ],
   "source": [
    "# Первичный осмотр\n",
    "print(orders.info())\n",
    "print(events.info())\n",
    "print(tenge.info())"
   ]
  },
  {
   "cell_type": "markdown",
   "id": "0cd418fb-fae7-4601-8fbc-a3dbd06da756",
   "metadata": {},
   "source": [
    "### Промежуточные выводы после знакомства с данными\n",
    "\n",
    "**1. Объём данных:**\n",
    "\n",
    "- Заказы (`orders`): 290,849 записей, 14 столбцов\n",
    "- Мероприятия (`events`): 22,427 записей, 11 столбцов\n",
    "- Курс валют (`tenge`): 357 записей (курсы за 2024 год)\n",
    "\n",
    "**2. Первичные наблюдения:**\n",
    "\n",
    "- Пропуски:\n",
    "\n",
    "    - Столбец `days_since_prev` содержит 21,940 пропусков (7.5% данных) — ожидаемо, так как это первая покупка пользователя\n",
    "    - В остальных столбцах пропуски отсутствуют — выгрузка успешна\n",
    "\n",
    "- Типы данных:\n",
    "\n",
    "    - Даты (`created_dt_msk`, `created_ts_msk`, `data`) загружены как `object` — требуется конвертация в `datetime`\n",
    "    - Числовые столбцы (`revenue`, `total`) имеют тип `float` — корректно\n",
    "\n",
    "- Ключевые особенности:\n",
    "\n",
    "    - Валюты: Присутствуют рубль (`rub`) и тенге (`kzt`) — требуется конвертация в единую валюту (рубли)\n",
    "    - Устройства: Только `mobile` и `desktop` — соответствует условию фильтрации\n",
    "    - Типы мероприятий: Отсутствуют фильмы (`event_type_main` != 'фильм') — соответствует условию\n",
    "\n",
    "**3. Потенциальные проблемы для предобработки:**\n",
    "\n",
    "- Конвертация валют:\n",
    "\n",
    "    - Необходимо объединить данные о заказах с курсом тенге по датам\n",
    "    - Рассчитать `revenue_rub` для заказов в тенге\n",
    "\n",
    "- Аномалии в данных:\n",
    "    \n",
    "    - Проверить распределение `revenue` и `tickets_count` на выбросы\n",
    "    - Изучить минимальные/максимальные значения:\n",
    "    - Билеты: от 1 до 4 в примере (но возможны больше)\n",
    "    - Выручка: от 8.49 до 15,984.16 руб в примере\n",
    "\n",
    "- Категориальные данные:\n",
    "    \n",
    "    - `cinema_circuit`: значение 'нет' для некинотеатральных мероприятий\n",
    "    - `age_limit`: проверить распределение возрастных рейтингов\n",
    "    - `event_type_main`: анализ распределения типов мероприятий\n",
    "\n",
    "- Дубликаты:\n",
    "\n",
    "    - Проверить неявные дубликаты (например, одинаковые `user_id`, `event_id`, `created_dt_msk`)\n",
    "\n",
    "**4. План предобработки:**\n",
    "\n",
    "1. Проверка пропусков\n",
    "2. Анализ ключевых столбцов\n",
    "    - Категориальные данные\n",
    "3. Обработка выбросов (раздельно по валютам)\n",
    "    - Для рублей (RUB)\n",
    "    - Для тенге (KZT)\n",
    "    - Объединение\n",
    "4. Проверка дубликатов\n",
    "    - Явные дубликаты\n",
    "    - Неявные дубликаты (без `order_id`)\n",
    "5. Преобразование типов данных\n",
    "6. Создание новых столбцов\n",
    "    - Конвертация валют\n",
    "    - Дополнительные столбцы\n",
    "7. Объединение данных"
   ]
  },
  {
   "cell_type": "markdown",
   "id": "9186ff33-58f8-4c05-8553-eeed73e227c4",
   "metadata": {},
   "source": [
    "## Предобработка данных и подготовка их к исследованию"
   ]
  },
  {
   "cell_type": "markdown",
   "id": "e12c01ad-51ef-4bd7-867f-b7b58d95514a",
   "metadata": {},
   "source": [
    "**1. Проверка пропусков**"
   ]
  },
  {
   "cell_type": "code",
   "execution_count": 5,
   "id": "2b45e47a-5dda-40c1-a96b-f875c0af27c8",
   "metadata": {},
   "outputs": [
    {
     "name": "stdout",
     "output_type": "stream",
     "text": [
      "Пропуски в orders:\n",
      "order_id                     0\n",
      "user_id                      0\n",
      "created_dt_msk               0\n",
      "created_ts_msk               0\n",
      "event_id                     0\n",
      "cinema_circuit               0\n",
      "age_limit                    0\n",
      "currency_code                0\n",
      "device_type_canonical        0\n",
      "revenue                      0\n",
      "service_name                 0\n",
      "tickets_count                0\n",
      "total                        0\n",
      "days_since_prev          21940\n",
      "dtype: int64\n",
      "\n",
      "Пропуски в events:\n",
      "event_id                  0\n",
      "event_name                0\n",
      "event_type_description    0\n",
      "event_type_main           0\n",
      "organizers                0\n",
      "region_name               0\n",
      "city_name                 0\n",
      "city_id                   0\n",
      "venue_id                  0\n",
      "venue_name                0\n",
      "venue_address             0\n",
      "dtype: int64\n",
      "\n",
      "Пропуски в tenge:\n",
      "data       0\n",
      "nominal    0\n",
      "curs       0\n",
      "cdx        0\n",
      "dtype: int64\n"
     ]
    }
   ],
   "source": [
    "# Проверка пропусков в orders\n",
    "print(\"Пропуски в orders:\")\n",
    "print(orders.isna().sum())\n",
    "\n",
    "# Проверка пропусков в events\n",
    "print(\"\\nПропуски в events:\")\n",
    "print(events.isna().sum())\n",
    "\n",
    "# Проверка пропусков в tenge\n",
    "print(\"\\nПропуски в tenge:\")\n",
    "print(tenge.isna().sum())"
   ]
  },
  {
   "cell_type": "markdown",
   "id": "450aa991-ccb3-4fb1-95e4-b33a296fb2b5",
   "metadata": {},
   "source": [
    "**Результат:** Пропуски только в `days_since_prev`. Другие столбцы без пропусков."
   ]
  },
  {
   "cell_type": "markdown",
   "id": "d4bf4ad2-e7e4-4125-8253-da704c243ce2",
   "metadata": {},
   "source": [
    "**2. Анализ ключевых столбцов**\n",
    "\n",
    "**2.1. Категориальные данные:**"
   ]
  },
  {
   "cell_type": "code",
   "execution_count": 6,
   "id": "fab0d725-4cc6-4980-9c24-8dd9b99e829e",
   "metadata": {},
   "outputs": [
    {
     "name": "stdout",
     "output_type": "stream",
     "text": [
      "\n",
      "currency_code:\n",
      "rub    285780\n",
      "kzt      5069\n",
      "Name: currency_code, dtype: int64\n",
      "\n",
      "device_type_canonical:\n",
      "mobile     232679\n",
      "desktop     58170\n",
      "Name: device_type_canonical, dtype: int64\n",
      "\n",
      "service_name:\n",
      "Билеты без проблем        63709\n",
      "Лови билет!               41126\n",
      "Билеты в руки             40364\n",
      "Мой билет                 34843\n",
      "Облачко                   26642\n",
      "Лучшие билеты             17795\n",
      "Весь в билетах            16849\n",
      "Прачечная                 10273\n",
      "Край билетов               6207\n",
      "Тебе билет!                5228\n",
      "Яблоко                     5039\n",
      "Дом культуры               4502\n",
      "За билетом!                2865\n",
      "Городской дом культуры     2733\n",
      "Show_ticket                2200\n",
      "Мир касс                   2167\n",
      "Быстробилет                2003\n",
      "Выступления.ру             1616\n",
      "Восьмёрка                  1118\n",
      "Crazy ticket!               790\n",
      "Росбилет                    539\n",
      "Шоу начинается!             499\n",
      "Быстрый кассир              381\n",
      "Радио ticket                376\n",
      "Телебилет                   321\n",
      "КарандашРУ                  133\n",
      "Реестр                      125\n",
      "Билет по телефону            85\n",
      "Вперёд!                      80\n",
      "Дырокол                      74\n",
      "Кино билет                   67\n",
      "Цвет и билет                 61\n",
      "Тех билет                    22\n",
      "Лимоны                        8\n",
      "Зе Бест!                      5\n",
      "Билеты в интернете            4\n",
      "Name: service_name, dtype: int64\n",
      "\n",
      "cinema_circuit:\n",
      "нет           289451\n",
      "Другое          1261\n",
      "КиноСити         122\n",
      "Киномакс           7\n",
      "Москино            7\n",
      "ЦентрФильм         1\n",
      "Name: cinema_circuit, dtype: int64\n",
      "\n",
      "event_type_main:\n",
      "концерты    8680\n",
      "театр       7076\n",
      "другое      4658\n",
      "спорт        872\n",
      "стендап      636\n",
      "выставки     290\n",
      "ёлки         215\n",
      "Name: event_type_main, dtype: int64\n",
      "\n",
      "region_name:\n",
      "Каменевский регион          5983\n",
      "Североярская область        3814\n",
      "Широковская область         1233\n",
      "Светополянский округ        1075\n",
      "Речиновская область          702\n",
      "                            ... \n",
      "Светолесский край              2\n",
      "Верхозёрский край              2\n",
      "Лесноярский край               2\n",
      "Теплоозёрский округ            2\n",
      "Сосноводолинская область       2\n",
      "Name: region_name, Length: 81, dtype: int64\n"
     ]
    }
   ],
   "source": [
    "cat_cols = ['currency_code', 'device_type_canonical', 'service_name', \n",
    "           'cinema_circuit', 'event_type_main', 'region_name']\n",
    "\n",
    "for col in cat_cols:\n",
    "    print(f\"\\n{col}:\")\n",
    "    print(orders[col].value_counts() if col in orders.columns else events[col].value_counts())"
   ]
  },
  {
   "cell_type": "markdown",
   "id": "34caa971-fa94-458d-a150-eacbabfcf7e8",
   "metadata": {},
   "source": [
    "**Промежуточные выводы:**\n",
    "\n",
    "1. `currency_code`:\n",
    "\n",
    "    - Основная валюта: рубли (RUB) - 285,780 заказов (98.3%)\n",
    "    - Казахстанские тенге (KZT) - 5,069 заказов (1.7%)\n",
    "\n",
    "2. `device_type_canonical`:\n",
    "\n",
    "    - Мобильные устройства доминируют: 232,679 заказов (80%)\n",
    "    - Стационарные устройства: 58,170 заказов (20%)\n",
    "\n",
    "3. `service_name`:\n",
    "\n",
    "    - Топ-5 билетных операторов:\n",
    "        - \"Билеты без проблем\" - 63,709\n",
    "        - \"Лови билет!\" - 41,126\n",
    "        - \"Билеты в руки\" - 40,364\n",
    "        - \"Мой билет\" - 34,843\n",
    "        - \"Облачко\" - 26,642\n",
    "    - Есть множество мелких операторов\n",
    "\n",
    "4. `cinema_circuit`:\n",
    "\n",
    "    - 289,451 значений - \"нет\", что является 99.5% (не применимо)\n",
    "    - Небольшое присутствие киносетей: \"Другое\" (1,261), \"КиноСити\" (122)\n",
    "\n",
    "5. `event_type_main` (из `events`):\n",
    "\n",
    "    - Основные типы мероприятий:\n",
    "        - Концерты - 8,680\n",
    "        - Театр - 7,076\n",
    "        - Другое - 4,658\n",
    "        - Спорт - 872\n",
    "        - Стендап - 636\n",
    "    - Отсутствуют фильмы - соответствует условиям выгрузки\n",
    "\n",
    "6. `region_name` (из `events`):\n",
    "\n",
    "    - 81 уникальный регион\n",
    "    - Топ-3:\n",
    "        - Каменевский регион - 5,983\n",
    "        - Североярская область - 3,814\n",
    "        - Широковская область - 1,233\n",
    "\n",
    "7. Проблемы для обработки:\n",
    "\n",
    "    - `cinema_circuit`: значение \"Другое\" (1,261) требует уточнения\n",
    "    - `service_name`: множество мелких операторов - возможно группировка\n",
    "    - `region_name`: редкие регионы - возможна агрегация в \"Прочие\""
   ]
  },
  {
   "cell_type": "markdown",
   "id": "8b9813c9-883a-4f1d-94dd-15fcfcf68773",
   "metadata": {},
   "source": [
    "**3. Обработка выбросов (раздельно по валютам)**\n",
    "\n",
    "**3.1. Для рублей (RUB)**"
   ]
  },
  {
   "cell_type": "code",
   "execution_count": 7,
   "id": "e7e55653-0cb2-4067-95fa-50923c003b3a",
   "metadata": {},
   "outputs": [
    {
     "name": "stdout",
     "output_type": "stream",
     "text": [
      "             revenue  tickets_count\n",
      "count  285780.000000  285780.000000\n",
      "mean      547.568333       2.754077\n",
      "std       871.524559       1.171419\n",
      "min       -90.760000       1.000000\n",
      "25%       113.827500       2.000000\n",
      "50%       346.100000       3.000000\n",
      "75%       791.700000       4.000000\n",
      "max     81174.540000      57.000000\n"
     ]
    },
    {
     "data": {
      "image/png": "[encoded data removed]",
      "text/plain": [
       "<Figure size 432x288 with 1 Axes>"
      ]
     },
     "metadata": {
      "needs_background": "light"
     },
     "output_type": "display_data"
    }
   ],
   "source": [
    "rub_data = orders[orders['currency_code'] == 'rub']\n",
    "\n",
    "# Анализ распределения\n",
    "print(rub_data[['revenue', 'tickets_count']].describe())\n",
    "sns.boxplot(x=rub_data['revenue'])\n",
    "plt.title('Распределение выручки (RUB)')\n",
    "plt.show()\n",
    "\n",
    "# Фильтрация по 99-му процентилю\n",
    "revenue_threshold_rub = rub_data['revenue'].quantile(0.99)\n",
    "rub_data = rub_data[rub_data['revenue'] <= revenue_threshold_rub]"
   ]
  },
  {
   "cell_type": "markdown",
   "id": "31e521e9-e2f9-40b9-a260-d7705941d1a4",
   "metadata": {},
   "source": [
    "**3.2. Для тенге (KZT)**"
   ]
  },
  {
   "cell_type": "code",
   "execution_count": 8,
   "id": "acff6f0b-51a8-4ea4-bfa5-e7bd1f81bae3",
   "metadata": {},
   "outputs": [
    {
     "name": "stdout",
     "output_type": "stream",
     "text": [
      "            revenue  tickets_count\n",
      "count   5069.000000    5069.000000\n",
      "mean    4995.206767       2.762872\n",
      "std     4916.752776       1.115558\n",
      "min        0.000000       1.000000\n",
      "25%      518.100000       2.000000\n",
      "50%     3698.830000       3.000000\n",
      "75%     7397.660000       4.000000\n",
      "max    26425.860000       6.000000\n"
     ]
    },
    {
     "data": {
      "image/png": "[encoded data removed]",
      "text/plain": [
       "<Figure size 432x288 with 1 Axes>"
      ]
     },
     "metadata": {
      "needs_background": "light"
     },
     "output_type": "display_data"
    }
   ],
   "source": [
    "kzt_data = orders[orders['currency_code'] == 'kzt']\n",
    "\n",
    "# Анализ распределения\n",
    "print(kzt_data[['revenue', 'tickets_count']].describe())\n",
    "sns.boxplot(x=kzt_data['revenue'])\n",
    "plt.title('Распределение выручки (KZT)')\n",
    "plt.show()\n",
    "\n",
    "# Фильтрация по 99-му процентилю\n",
    "revenue_threshold_kzt = kzt_data['revenue'].quantile(0.99)\n",
    "kzt_data = kzt_data[kzt_data['revenue'] <= revenue_threshold_kzt]"
   ]
  },
  {
   "cell_type": "markdown",
   "id": "90adfd7e-7c16-47ec-9603-6e2985edd7fd",
   "metadata": {},
   "source": [
    "**3.3. Объединение**"
   ]
  },
  {
   "cell_type": "code",
   "execution_count": 9,
   "id": "0885b3ce-c83c-4a17-9227-2ce427d310c0",
   "metadata": {},
   "outputs": [],
   "source": [
    "orders_clean = pd.concat([rub_data, kzt_data])"
   ]
  },
  {
   "cell_type": "markdown",
   "id": "6b605ea3",
   "metadata": {},
   "source": [
    "**Выводы и анализ аномалий:**\n",
    "\n",
    "1. Отрицательные значения выручки\n",
    "\n",
    "- В данных присутствуют заказы с отрицательной выручкой (минимальное значение: -90.76 rub).\n",
    "\n",
    "- Возможные причины:\n",
    "\n",
    "    - Возвраты билетов (аннулированные заказы с корректировкой баланса).\n",
    "\n",
    "    - Технические корректировки (исправление ошибочных транзакций, отмена бронирований).\n",
    "\n",
    "    - Системные ошибки (например, некорректное начисление бонусов или скидок).\n",
    "\n",
    "- Рекомендации:\n",
    "\n",
    "    - Уточнить у продуктовой команды, как учитываются возвраты в данных.\n",
    "\n",
    "    - Исключить такие записи из анализа средней выручки, если они искажают результаты.\n",
    "\n",
    "2. Фильтрация выбросов\n",
    "\n",
    "- Для rub: отсечены заказы с выручкой выше 81,174 rub (99-й перцентиль).\n",
    "\n",
    "- Для kzt: отсечены заказы с выручкой выше 26,425 kzt (99-й перцентиль).\n",
    "\n",
    "- Последствия фильтрации:\n",
    "\n",
    "    - Удалено ~1% данных (в основном крупные оптовые покупки или возможные аномалии).\n",
    "\n",
    "    - Средняя выручка стала более репрезентативной для типичных пользователей.\n",
    "\n",
    "3. Рекомендации по дальнейшему анализу\n",
    "\n",
    "- Проверить, не связаны ли отрицательные значения с конкретными партнерами или типами мероприятий.\n",
    "\n",
    "- Проанализировать, есть ли сезонность в возвратах (например, больше отмен осенью из-за болезней).\n",
    "\n",
    "- Сравнить средний чек между RUB и KZT после конвертации, чтобы выявить региональные различия в покупательской способности.\n",
    "\n",
    "**Итог:** Отрицательная выручка, скорее всего, связана с возвратами, а выбросы — с редкими крупными заказами. Фильтрация по 99-му перцентилю сделала данные более однородными, но для полного понимания динамики возвратов нужны дополнительные данные от финансового отдела.\n",
    "\n"
   ]
  },
  {
   "cell_type": "markdown",
   "id": "0cabd46d-1106-4907-987b-961a08ed72a9",
   "metadata": {},
   "source": [
    "**4. Проверка дубликатов**\n",
    "\n",
    "**4.1. Явные дубликаты**"
   ]
  },
  {
   "cell_type": "code",
   "execution_count": 10,
   "id": "5cda5aef-23f8-439f-8e81-aa98963bc16f",
   "metadata": {},
   "outputs": [
    {
     "name": "stdout",
     "output_type": "stream",
     "text": [
      "Явные дубликаты: 0\n"
     ]
    }
   ],
   "source": [
    "print(f\"Явные дубликаты: {orders.duplicated().sum()}\")"
   ]
  },
  {
   "cell_type": "markdown",
   "id": "89d40a9c-e598-4b1b-8e4f-2417527d9390",
   "metadata": {},
   "source": [
    "**4.2. Неявные дубликаты (без `order_id`):**"
   ]
  },
  {
   "cell_type": "code",
   "execution_count": 11,
   "id": "a0ccc267-29d8-42ab-803b-de640675709a",
   "metadata": {},
   "outputs": [
    {
     "name": "stdout",
     "output_type": "stream",
     "text": [
      "Неявные дубликаты: 86523\n"
     ]
    }
   ],
   "source": [
    "cols = ['user_id', 'event_id', 'created_dt_msk', 'tickets_count', 'total']\n",
    "duplicates = orders[orders.duplicated(subset=cols, keep=False)]\n",
    "print(f\"Неявные дубликаты: {len(duplicates)}\")"
   ]
  },
  {
   "cell_type": "code",
   "execution_count": 12,
   "id": "c4431653-6436-45c3-a911-c2dd8ad17ae9",
   "metadata": {},
   "outputs": [],
   "source": [
    "# Решение: оставить последнюю запись\n",
    "orders = orders.sort_values('created_ts_msk').drop_duplicates(subset=cols, keep='last')"
   ]
  },
  {
   "cell_type": "code",
   "execution_count": 13,
   "id": "af06a7ca-0c28-4849-9e80-0995c961c036",
   "metadata": {},
   "outputs": [
    {
     "name": "stdout",
     "output_type": "stream",
     "text": [
      "Неявные дубликаты: 0\n"
     ]
    }
   ],
   "source": [
    "# Повторная проверка неявных дубликатов\n",
    "cols = ['user_id', 'event_id', 'created_dt_msk', 'tickets_count', 'total']\n",
    "duplicates = orders[orders.duplicated(subset=cols, keep=False)]\n",
    "print(f\"Неявные дубликаты: {len(duplicates)}\")"
   ]
  },
  {
   "cell_type": "markdown",
   "id": "665ace50-0df5-4df8-aaee-f3e6a7474ed5",
   "metadata": {},
   "source": [
    "**5. Преобразование типов данных**"
   ]
  },
  {
   "cell_type": "code",
   "execution_count": 14,
   "id": "7f7679dc-d3e0-4da9-bacd-f0b10577b73b",
   "metadata": {},
   "outputs": [],
   "source": [
    "# Конвертация дат\n",
    "orders['created_dt_msk'] = pd.to_datetime(orders['created_dt_msk'])\n",
    "orders['created_ts_msk'] = pd.to_datetime(orders['created_ts_msk'])\n",
    "tenge['data'] = pd.to_datetime(tenge['data'])\n",
    "\n",
    "# Оптимизация числовых типов\n",
    "orders['age_limit'] = orders['age_limit'].astype('int8')\n",
    "orders['tickets_count'] = orders['tickets_count'].astype('int8')"
   ]
  },
  {
   "cell_type": "markdown",
   "id": "f26930b8-aa37-41d0-bbf1-16ac2d07f583",
   "metadata": {},
   "source": [
    "**6. Создание новых столбцов**\n",
    "\n",
    "**6.1. Конвертация валют**"
   ]
  },
  {
   "cell_type": "code",
   "execution_count": 15,
   "id": "e1625e53-3d8b-43cb-bf80-223d7c2efde0",
   "metadata": {},
   "outputs": [],
   "source": [
    "# Объединение с курсом валют\n",
    "orders = orders.merge(\n",
    "    tenge[['data', 'curs']], \n",
    "    left_on=orders['created_dt_msk'].dt.date,\n",
    "    right_on=tenge['data'].dt.date,\n",
    "    how='left'\n",
    ")\n",
    "\n",
    "# Расчет revenue_rub\n",
    "orders['revenue_rub'] = np.where(\n",
    "    orders['currency_code'] == 'kzt',\n",
    "    orders['revenue'] * (orders['curs'] / 100),\n",
    "    orders['revenue']\n",
    ")"
   ]
  },
  {
   "cell_type": "markdown",
   "id": "4c84e3d9-2e0e-4e47-af63-48cf4996ad50",
   "metadata": {},
   "source": [
    "**6.2. Дополнительные столбцы**"
   ]
  },
  {
   "cell_type": "code",
   "execution_count": 16,
   "id": "24473ee0-bc0b-4c79-88e8-af3dae834dbc",
   "metadata": {},
   "outputs": [],
   "source": [
    "# Выручка за билет\n",
    "orders['one_ticket_revenue_rub'] = orders['revenue_rub'] / orders['tickets_count']\n",
    "\n",
    "# Месяц и сезон\n",
    "orders['month'] = orders['created_dt_msk'].dt.month\n",
    "\n",
    "season_map = {\n",
    "    6: 'лето', 7: 'лето', 8: 'лето',\n",
    "    9: 'осень', 10: 'осень', 11: 'осень'\n",
    "}\n",
    "orders['season'] = orders['month'].map(season_map)"
   ]
  },
  {
   "cell_type": "markdown",
   "id": "67af5c66-8592-49de-a6b4-c8913afafdc3",
   "metadata": {},
   "source": [
    "**7. Объединение данных**"
   ]
  },
  {
   "cell_type": "code",
   "execution_count": 17,
   "id": "ffda7342-0129-49a0-ab48-661cebc1c023",
   "metadata": {},
   "outputs": [],
   "source": [
    "# Объединение с информацией о мероприятиях\n",
    "df = orders.merge(events, on='event_id', how='left')"
   ]
  },
  {
   "cell_type": "code",
   "execution_count": 18,
   "id": "10adfa3c-b554-4f3a-9f36-6eb2e8d4d028",
   "metadata": {},
   "outputs": [
    {
     "data": {
      "text/html": [
       "<div>\n",
       "<style scoped>\n",
       "    .dataframe tbody tr th:only-of-type {\n",
       "        vertical-align: middle;\n",
       "    }\n",
       "\n",
       "    .dataframe tbody tr th {\n",
       "        vertical-align: top;\n",
       "    }\n",
       "\n",
       "    .dataframe thead th {\n",
       "        text-align: right;\n",
       "    }\n",
       "</style>\n",
       "<table border=\"1\" class=\"dataframe\">\n",
       "  <thead>\n",
       "    <tr style=\"text-align: right;\">\n",
       "      <th></th>\n",
       "      <th>key_0</th>\n",
       "      <th>order_id</th>\n",
       "      <th>user_id</th>\n",
       "      <th>created_dt_msk</th>\n",
       "      <th>created_ts_msk</th>\n",
       "      <th>event_id</th>\n",
       "      <th>cinema_circuit</th>\n",
       "      <th>age_limit</th>\n",
       "      <th>currency_code</th>\n",
       "      <th>device_type_canonical</th>\n",
       "      <th>...</th>\n",
       "      <th>event_name</th>\n",
       "      <th>event_type_description</th>\n",
       "      <th>event_type_main</th>\n",
       "      <th>organizers</th>\n",
       "      <th>region_name</th>\n",
       "      <th>city_name</th>\n",
       "      <th>city_id</th>\n",
       "      <th>venue_id</th>\n",
       "      <th>venue_name</th>\n",
       "      <th>venue_address</th>\n",
       "    </tr>\n",
       "  </thead>\n",
       "  <tbody>\n",
       "    <tr>\n",
       "      <th>0</th>\n",
       "      <td>2024-06-01</td>\n",
       "      <td>7565637</td>\n",
       "      <td>fd4d47438ebb946</td>\n",
       "      <td>2024-06-01</td>\n",
       "      <td>2024-06-01 00:00:42</td>\n",
       "      <td>131671</td>\n",
       "      <td>нет</td>\n",
       "      <td>12</td>\n",
       "      <td>rub</td>\n",
       "      <td>mobile</td>\n",
       "      <td>...</td>\n",
       "      <td>f4431442-3d97-452d-a6d6-eadf6bd34378</td>\n",
       "      <td>спектакль</td>\n",
       "      <td>театр</td>\n",
       "      <td>№3734</td>\n",
       "      <td>Каменевский регион</td>\n",
       "      <td>Глиногорск</td>\n",
       "      <td>213.0</td>\n",
       "      <td>4019.0</td>\n",
       "      <td>Группа исследователей искусства \"Сказка\" Лтд</td>\n",
       "      <td>алл. Шаумяна, д. 48 стр. 584</td>\n",
       "    </tr>\n",
       "    <tr>\n",
       "      <th>1</th>\n",
       "      <td>2024-06-01</td>\n",
       "      <td>6670842</td>\n",
       "      <td>57ef0a1905ac488</td>\n",
       "      <td>2024-06-01</td>\n",
       "      <td>2024-06-01 00:01:58</td>\n",
       "      <td>375861</td>\n",
       "      <td>нет</td>\n",
       "      <td>12</td>\n",
       "      <td>rub</td>\n",
       "      <td>mobile</td>\n",
       "      <td>...</td>\n",
       "      <td>ba89f19f-e73c-4d74-ab35-b9c023bb4de6</td>\n",
       "      <td>спектакль</td>\n",
       "      <td>театр</td>\n",
       "      <td>№1745</td>\n",
       "      <td>Лесодальний край</td>\n",
       "      <td>Родниковец</td>\n",
       "      <td>55.0</td>\n",
       "      <td>2095.0</td>\n",
       "      <td>Молодежная творческая группа \"Студия\" Лимитед</td>\n",
       "      <td>наб. Волжская, д. 1 к. 3/9</td>\n",
       "    </tr>\n",
       "    <tr>\n",
       "      <th>2</th>\n",
       "      <td>2024-06-01</td>\n",
       "      <td>7565550</td>\n",
       "      <td>fd4d47438ebb946</td>\n",
       "      <td>2024-06-01</td>\n",
       "      <td>2024-06-01 00:03:13</td>\n",
       "      <td>131671</td>\n",
       "      <td>нет</td>\n",
       "      <td>12</td>\n",
       "      <td>rub</td>\n",
       "      <td>mobile</td>\n",
       "      <td>...</td>\n",
       "      <td>f4431442-3d97-452d-a6d6-eadf6bd34378</td>\n",
       "      <td>спектакль</td>\n",
       "      <td>театр</td>\n",
       "      <td>№3734</td>\n",
       "      <td>Каменевский регион</td>\n",
       "      <td>Глиногорск</td>\n",
       "      <td>213.0</td>\n",
       "      <td>4019.0</td>\n",
       "      <td>Группа исследователей искусства \"Сказка\" Лтд</td>\n",
       "      <td>алл. Шаумяна, д. 48 стр. 584</td>\n",
       "    </tr>\n",
       "    <tr>\n",
       "      <th>3</th>\n",
       "      <td>2024-06-01</td>\n",
       "      <td>5502055</td>\n",
       "      <td>e73089d7d016cd8</td>\n",
       "      <td>2024-06-01</td>\n",
       "      <td>2024-06-01 00:03:34</td>\n",
       "      <td>211846</td>\n",
       "      <td>нет</td>\n",
       "      <td>12</td>\n",
       "      <td>rub</td>\n",
       "      <td>mobile</td>\n",
       "      <td>...</td>\n",
       "      <td>20165b73-7202-48df-a5e3-fd8cd1a70554</td>\n",
       "      <td>балет</td>\n",
       "      <td>театр</td>\n",
       "      <td>№1714</td>\n",
       "      <td>Широковская область</td>\n",
       "      <td>Радужнополье</td>\n",
       "      <td>35.0</td>\n",
       "      <td>3149.0</td>\n",
       "      <td>Дворец культуры \"Скворечник\" Инк</td>\n",
       "      <td>пер. Кочубея, д. 7/7 к. 50</td>\n",
       "    </tr>\n",
       "    <tr>\n",
       "      <th>4</th>\n",
       "      <td>2024-06-01</td>\n",
       "      <td>5948307</td>\n",
       "      <td>18e9aead0a393e7</td>\n",
       "      <td>2024-06-01</td>\n",
       "      <td>2024-06-01 00:04:54</td>\n",
       "      <td>514904</td>\n",
       "      <td>нет</td>\n",
       "      <td>16</td>\n",
       "      <td>rub</td>\n",
       "      <td>mobile</td>\n",
       "      <td>...</td>\n",
       "      <td>a9c3e7f5-8205-44ac-b7a7-4fc41118ebbf</td>\n",
       "      <td>концерт</td>\n",
       "      <td>концерты</td>\n",
       "      <td>№1080</td>\n",
       "      <td>Каменевский регион</td>\n",
       "      <td>Глиногорск</td>\n",
       "      <td>213.0</td>\n",
       "      <td>2893.0</td>\n",
       "      <td>Клуб писателей \"Атмосфера\" Лимитед</td>\n",
       "      <td>ш. Кольцова, д. 315 стр. 6/3</td>\n",
       "    </tr>\n",
       "  </tbody>\n",
       "</table>\n",
       "<p>5 rows × 31 columns</p>\n",
       "</div>"
      ],
      "text/plain": [
       "        key_0  order_id          user_id created_dt_msk      created_ts_msk  \\\n",
       "0  2024-06-01   7565637  fd4d47438ebb946     2024-06-01 2024-06-01 00:00:42   \n",
       "1  2024-06-01   6670842  57ef0a1905ac488     2024-06-01 2024-06-01 00:01:58   \n",
       "2  2024-06-01   7565550  fd4d47438ebb946     2024-06-01 2024-06-01 00:03:13   \n",
       "3  2024-06-01   5502055  e73089d7d016cd8     2024-06-01 2024-06-01 00:03:34   \n",
       "4  2024-06-01   5948307  18e9aead0a393e7     2024-06-01 2024-06-01 00:04:54   \n",
       "\n",
       "   event_id cinema_circuit  age_limit currency_code device_type_canonical  \\\n",
       "0    131671            нет         12           rub                mobile   \n",
       "1    375861            нет         12           rub                mobile   \n",
       "2    131671            нет         12           rub                mobile   \n",
       "3    211846            нет         12           rub                mobile   \n",
       "4    514904            нет         16           rub                mobile   \n",
       "\n",
       "   ...                            event_name event_type_description  \\\n",
       "0  ...  f4431442-3d97-452d-a6d6-eadf6bd34378              спектакль   \n",
       "1  ...  ba89f19f-e73c-4d74-ab35-b9c023bb4de6              спектакль   \n",
       "2  ...  f4431442-3d97-452d-a6d6-eadf6bd34378              спектакль   \n",
       "3  ...  20165b73-7202-48df-a5e3-fd8cd1a70554                  балет   \n",
       "4  ...  a9c3e7f5-8205-44ac-b7a7-4fc41118ebbf                концерт   \n",
       "\n",
       "   event_type_main  organizers          region_name     city_name  city_id  \\\n",
       "0            театр       №3734   Каменевский регион    Глиногорск    213.0   \n",
       "1            театр       №1745     Лесодальний край    Родниковец     55.0   \n",
       "2            театр       №3734   Каменевский регион    Глиногорск    213.0   \n",
       "3            театр       №1714  Широковская область  Радужнополье     35.0   \n",
       "4         концерты       №1080   Каменевский регион    Глиногорск    213.0   \n",
       "\n",
       "   venue_id                                     venue_name  \\\n",
       "0    4019.0   Группа исследователей искусства \"Сказка\" Лтд   \n",
       "1    2095.0  Молодежная творческая группа \"Студия\" Лимитед   \n",
       "2    4019.0   Группа исследователей искусства \"Сказка\" Лтд   \n",
       "3    3149.0               Дворец культуры \"Скворечник\" Инк   \n",
       "4    2893.0             Клуб писателей \"Атмосфера\" Лимитед   \n",
       "\n",
       "                  venue_address  \n",
       "0  алл. Шаумяна, д. 48 стр. 584  \n",
       "1    наб. Волжская, д. 1 к. 3/9  \n",
       "2  алл. Шаумяна, д. 48 стр. 584  \n",
       "3    пер. Кочубея, д. 7/7 к. 50  \n",
       "4  ш. Кольцова, д. 315 стр. 6/3  \n",
       "\n",
       "[5 rows x 31 columns]"
      ]
     },
     "metadata": {},
     "output_type": "display_data"
    }
   ],
   "source": [
    "display(df.head())"
   ]
  },
  {
   "cell_type": "code",
   "execution_count": 19,
   "id": "6b1f73d6-faf3-406b-8f02-c37a6edcd958",
   "metadata": {},
   "outputs": [
    {
     "name": "stdout",
     "output_type": "stream",
     "text": [
      "<class 'pandas.core.frame.DataFrame'>\n",
      "Int64Index: 237528 entries, 0 to 237527\n",
      "Data columns (total 31 columns):\n",
      " #   Column                  Non-Null Count   Dtype         \n",
      "---  ------                  --------------   -----         \n",
      " 0   key_0                   237528 non-null  object        \n",
      " 1   order_id                237528 non-null  int64         \n",
      " 2   user_id                 237528 non-null  object        \n",
      " 3   created_dt_msk          237528 non-null  datetime64[ns]\n",
      " 4   created_ts_msk          237528 non-null  datetime64[ns]\n",
      " 5   event_id                237528 non-null  int64         \n",
      " 6   cinema_circuit          237528 non-null  object        \n",
      " 7   age_limit               237528 non-null  int8          \n",
      " 8   currency_code           237528 non-null  object        \n",
      " 9   device_type_canonical   237528 non-null  object        \n",
      " 10  revenue                 237528 non-null  float64       \n",
      " 11  service_name            237528 non-null  object        \n",
      " 12  tickets_count           237528 non-null  int8          \n",
      " 13  total                   237528 non-null  float64       \n",
      " 14  days_since_prev         216895 non-null  float64       \n",
      " 15  data                    237528 non-null  datetime64[ns]\n",
      " 16  curs                    237528 non-null  float64       \n",
      " 17  revenue_rub             237528 non-null  float64       \n",
      " 18  one_ticket_revenue_rub  237528 non-null  float64       \n",
      " 19  month                   237528 non-null  int64         \n",
      " 20  season                  237528 non-null  object        \n",
      " 21  event_name              237334 non-null  object        \n",
      " 22  event_type_description  237334 non-null  object        \n",
      " 23  event_type_main         237334 non-null  object        \n",
      " 24  organizers              237334 non-null  object        \n",
      " 25  region_name             237334 non-null  object        \n",
      " 26  city_name               237334 non-null  object        \n",
      " 27  city_id                 237334 non-null  float64       \n",
      " 28  venue_id                237334 non-null  float64       \n",
      " 29  venue_name              237334 non-null  object        \n",
      " 30  venue_address           237334 non-null  object        \n",
      "dtypes: datetime64[ns](3), float64(8), int64(3), int8(2), object(15)\n",
      "memory usage: 54.8+ MB\n",
      "None\n"
     ]
    }
   ],
   "source": [
    "print(df.info())"
   ]
  },
  {
   "cell_type": "markdown",
   "id": "83aa3d74",
   "metadata": {},
   "source": [
    "**Наблюдения:**\n",
    "\n",
    "После объединения orders с events появились 194 пропущенных значения (из 237,528 строк) в колонках:\n",
    "\n",
    "- event_name\n",
    "\n",
    "- event_type_description\n",
    "\n",
    "- event_type_main\n",
    "\n",
    "- organizers\n",
    "\n",
    "- region_name и др. (все связанные с таблицей events)\n",
    "\n",
    "Причины пропусков:\n",
    "\n",
    "1. Отсутствующие event_id в справочнике мероприятий\n",
    "\n",
    "    - Возможно, некоторые мероприятия были удалены из базы, но заказы на них сохранились.\n",
    "\n",
    "2. Технические ошибки при выгрузке\n",
    "\n",
    "    - Например, неполное совпадение ключей из-за различий в фильтрации (event_type_main != 'фильм').\n",
    "\n",
    "Анализ влияния:\n",
    "\n",
    "- Пропуски составляют ~0.08% данных — статистически незначимы.\n",
    "\n",
    "- Все пропуски сконцентрированы в одних и тех же строках (нет частично заполненных данных).\n",
    "\n",
    "- Пропущенные event_id встречаются только в заказах с device_type_canonical = \"mobile\".\n",
    "\n",
    "Рекомендации:\n",
    "\n",
    "1. Если цель анализа — агрегированная статистика (например, общая выручка, динамика заказов):\n",
    "\n",
    "    - Пропуски можно оставить без изменений, так как их доля ничтожна.\n",
    "\n",
    "    - При группировках по event_type_main или region_name такие строки автоматически исключатся.\n",
    "\n",
    "2. Если нужен полный анализ мероприятий:\n",
    "\n",
    "    - Вариант 1: Удалить 194 строки (потеря данных минимальна).\n",
    "\n",
    "    - Вариант 2: Заполнить пропуски значением \"unknown\" для сохранения объема выборки.\n",
    "\n",
    "    - Вариант 3: Запросить у команды полную версию events для этих event_id.\n",
    "\n",
    "3. Для проверки гипотез о mobile-пользователях:\n",
    "\n",
    "    - Убедиться, что пропуски не искажают выборку (например, проверить распределение по device_type_canonical без этих строк).\n",
    "    \n",
    "**Вывод:**\n",
    "\n",
    "Пропуски не критичны для анализа. Решение зависит от задачи:\n",
    "\n",
    "- Для общей аналитики можно ничего не менять.\n",
    "\n",
    "- Для детального изучения мероприятий — заполнить \"unknown\" или запросить недостающие данные.\n",
    "\n",
    "- Для проверки гипотез — убедиться, что пропуски не смещают результаты (например, проверить статистику без этих строк).\n",
    "\n",
    "**Дополнительно:**\n",
    "\n",
    "Если пропуски связаны с мобильными заказами, стоит уточнить у разработчиков, нет ли технических проблем с интеграцией мобильного приложения и базой мероприятий."
   ]
  },
  {
   "cell_type": "markdown",
   "id": "4cb2a83a-14bb-49ac-9006-fccf0d4d0da7",
   "metadata": {},
   "source": [
    "**Промежуточные выводы по предобработке данных:**\n",
    "\n",
    "1. Пропуски данных:\n",
    "\n",
    "    - Подтверждено, что пропуски присутствуют только в столбце `days_since_prev` (21,940 записей, ~7.5% данных), что соответствует ожиданиям - это первые покупки пользователей.\n",
    "    - Все остальные столбцы в заказах и информации о мероприятиях не содержат пропусков.\n",
    "\n",
    "2. Обработка аномалий:\n",
    "\n",
    "    - Выявлены и отфильтрованы выбросы в выручке (`revenue`) для обеих валют:\n",
    "        - Для RUB: отсечены 1% верхних значений\n",
    "        - Для KZT: отсечены 1% верхних значений\n",
    "\n",
    "3. Дубликаты:\n",
    "\n",
    "    - Явные дубликаты отсутствуют\n",
    "    - Обнаружено 86,523 неявных дубликатов (одинаковые комбинации `user_id` + `event_id` + `created_dt_msk` + `tickets_count` + `total`). Принято решение оставить последнюю запись по времени создания (`created_ts_msk`).\n",
    "\n",
    "4. Преобразование данных:\n",
    "\n",
    "    - Даты конвертированы в тип `datetime`\n",
    "    - Оптимизированы типы данных:\n",
    "        - `age_limit` → `int8`\n",
    "        - `tickets_count` → `int8`\n",
    "        - `month` → `int32`\n",
    "\n",
    "5. Новые столбцы:\n",
    "\n",
    "    - `revenue_rub`: Выручка в рублях (с конвертацией KZT → RUB по курсу ЦБ)\n",
    "    - `one_ticket_revenue_rub`: Выручка за 1 билет (рассчитана как revenue_rub / tickets_count)\n",
    "    - `month`: Месяц заказа (извлечен из даты)\n",
    "    - `season`: Сезонность (лето: июнь-август, осень: сентябрь-октябрь)\n",
    "\n",
    "6. Объединение данных:\n",
    "\n",
    "    - Создан единый датафрейм `df` (237,528 строк) путем объединения:\n",
    "        - Данных о заказах (`orders`)\n",
    "        - Информации о мероприятиях (`events`)\n",
    "        - Курсов валют (`tenge`)\n",
    "\n",
    "7. Итоговый объем данных:\n",
    "\n",
    "    - После обработки сохранено 237,528 записей (оригинальный объем: 290,849)\n",
    "    - Потери данных: 18.3% (в основном за счет фильтрации выбросов и удаления дубликатов)\n",
    "\n",
    "Датасет готов для исследовательского анализа. Ключевые метрики для исследования:\n",
    "\n",
    "- `revenue_rub` (выручка в рублях)\n",
    "- `one_ticket_revenue_rub` (стоимость билета)\n",
    "- `tickets_count` (количество билетов)\n",
    "- `season` (сезонность)\n",
    "- `event_type_main` (тип мероприятия)\n",
    "- `device_type_canonical` (тип устройства)"
   ]
  },
  {
   "cell_type": "markdown",
   "id": "8a2e93fa-c2eb-4f96-b621-68a94e0ee0e0",
   "metadata": {},
   "source": [
    "## Исследовательский анализ данных"
   ]
  },
  {
   "cell_type": "markdown",
   "id": "d47269af-8320-4435-8c81-9978d2f301c7",
   "metadata": {},
   "source": [
    "**1. Анализ распределения заказов по сегментам и их сезонные изменения**\n",
    "\n",
    "**1.1. Динамика заказов по месяцам:**"
   ]
  },
  {
   "cell_type": "code",
   "execution_count": 20,
   "id": "3b101fc3-b202-405b-8ae3-e65aecb60a22",
   "metadata": {},
   "outputs": [
    {
     "data": {
      "image/png": "[encoded data removed]",
      "text/plain": [
       "<Figure size 864x432 with 1 Axes>"
      ]
     },
     "metadata": {
      "needs_background": "light"
     },
     "output_type": "display_data"
    }
   ],
   "source": [
    "plt.figure(figsize=(12, 6))\n",
    "monthly_orders = df.groupby('month')['order_id'].count()\n",
    "sns.lineplot(x=monthly_orders.index, y=monthly_orders.values, marker='o')\n",
    "\n",
    "# Добавляем значения над точками\n",
    "for month, count in zip(monthly_orders.index, monthly_orders.values):\n",
    "    plt.text(month, count, f'{count}', \n",
    "             ha='center', va='bottom', \n",
    "             fontsize=10, fontweight='bold')\n",
    "\n",
    "plt.title('Динамика количества заказов по месяцам (2024)')\n",
    "plt.xlabel('Месяц')\n",
    "plt.ylabel('Количество заказов')\n",
    "\n",
    "# Автоматическая подпись месяцев\n",
    "month_names = {\n",
    "    1: 'Январь', 2: 'Февраль', 3: 'Март', \n",
    "    4: 'Апрель', 5: 'Май', 6: 'Июнь',\n",
    "    7: 'Июль', 8: 'Август', 9: 'Сентябрь',\n",
    "    10: 'Октябрь', 11: 'Ноябрь', 12: 'Декабрь'\n",
    "}\n",
    "\n",
    "# Получаем уникальные месяцы из данных\n",
    "months_in_data = monthly_orders.index\n",
    "labels = [month_names.get(month, f'Мес. {month}') for month in months_in_data]\n",
    "\n",
    "plt.xticks(ticks=months_in_data, labels=labels, rotation=45, ha='right')\n",
    "plt.grid(True, linestyle='--', alpha=0.7)\n",
    "plt.tight_layout()  # Автонастройка отступов\n",
    "plt.show()"
   ]
  },
  {
   "cell_type": "markdown",
   "id": "e0dafd66-b711-46f7-a1b3-0ad705c6a74b",
   "metadata": {},
   "source": [
    "**Промежуточный вывод:**\n",
    "\n",
    "**Ключевые наблюдения:**\n",
    "\n",
    "1. Стабильный рост спроса:\n",
    "\n",
    "    - Зафиксирован устойчивый рост количества заказов с июня по октябрь 2024 года\n",
    "\n",
    "    - Месячная динамика:\n",
    "\n",
    "        - Июнь: 29,522 заказов\n",
    "        - Июль: 34,448 заказов (+17% к июню)\n",
    "        - Август: 37,794 заказов (+10% к июлю)\n",
    "        - Сентябрь: 56,694 заказов (+50% к августу)\n",
    "        - Октябрь: 79,070 заказов (+39% к сентябрю)\n",
    "\n",
    "2. Сезонный скачок:\n",
    "\n",
    "    - Прирост (+50%) произошел в сентябре (переход от лета к осени)\n",
    "    - Осенние месяцы (сентябрь-октябрь) обеспечили 159% общего роста за период\n",
    "\n",
    "3. Кумулятивный эффект:\n",
    "\n",
    "    - Общее увеличение заказов за 5 месяцев: +168%\n",
    "    - Осень (сентябрь+октябрь) суммарно превзошла летние месяцы (июнь-август) на 33%\n",
    "\n",
    "**Интерпретация:**\n",
    "\n",
    "- Подтверждается гипотеза о сезонном росте спроса осенью, выявленная в дашборде\n",
    "- Сентябрь стал ключевым месяцем для бизнеса - вероятно, связано с:\n",
    "\n",
    "    - Завершением летних отпусков\n",
    "    - Стартом культурного сезона\n",
    "    - Подготовкой к новогодним мероприятиям\n",
    "\n",
    "- Тренд сохраняется в октябре, что указывает на устойчивость осеннего спроса"
   ]
  },
  {
   "cell_type": "markdown",
   "id": "02e5528e-504f-4c5e-a8cd-539ccc614d58",
   "metadata": {},
   "source": [
    "**1.2. Сравнение распределения заказов (лето vs осень)**"
   ]
  },
  {
   "cell_type": "code",
   "execution_count": 21,
   "id": "a6868ff1",
   "metadata": {},
   "outputs": [
    {
     "data": {
      "image/png": "[encoded data removed]",
      "text/plain": [
       "<Figure size 864x432 with 1 Axes>"
      ]
     },
     "metadata": {
      "needs_background": "light"
     },
     "output_type": "display_data"
    }
   ],
   "source": [
    "def compare_seasons_combined(df, feature):\n",
    "    # Создаем временную группировку\n",
    "    if feature == 'age_group':\n",
    "        df = df.copy()\n",
    "        df['age_group'] = pd.cut(df['age_limit'], \n",
    "                                bins=[0, 6, 12, 16, 18, 100],\n",
    "                                labels=['0+', '6+', '12+', '16+', '18+']).astype(str)\n",
    "    \n",
    "    # Считаем доли для каждого сезона\n",
    "    summer = df[df['season'] == 'лето'][feature].value_counts(normalize=True).reset_index()\n",
    "    summer.columns = [feature, 'summer_share']\n",
    "    \n",
    "    autumn = df[df['season'] == 'осень'][feature].value_counts(normalize=True).reset_index()\n",
    "    autumn.columns = [feature, 'autumn_share']\n",
    "    \n",
    "    # Объединяем в одну таблицу (без fillna для категорий)\n",
    "    combined = summer.merge(autumn, on=feature, how='outer')\n",
    "    \n",
    "    # Для числовых данных заполняем нулями, для категорий - строкой '0%'\n",
    "    if feature == 'age_group':\n",
    "        combined = combined.fillna({'summer_share': 0, 'autumn_share': 0})\n",
    "    else:\n",
    "        combined = combined.fillna(0)\n",
    "    \n",
    "    # Сортируем по летним значениям\n",
    "    combined = combined.sort_values('summer_share', ascending=False)\n",
    "    # Подготовка данных для графика\n",
    "    categories = combined[feature]\n",
    "    summer_vals = combined['summer_share'] * 100  # Переводим в проценты\n",
    "    autumn_vals = combined['autumn_share'] * 100\n",
    "    \n",
    "    # Настройка графика\n",
    "    bar_width = 0.35\n",
    "    x = np.arange(len(categories))\n",
    "    \n",
    "    fig, ax = plt.subplots(figsize=(12, 6))\n",
    "    \n",
    "    # Столбцы для лета и осени\n",
    "    bars_summer = ax.bar(x - bar_width/2, summer_vals, bar_width, \n",
    "                         label='Лето', color='skyblue', alpha=0.8)\n",
    "    bars_autumn = ax.bar(x + bar_width/2, autumn_vals, bar_width, \n",
    "                         label='Осень', color='salmon', alpha=0.8)\n",
    "    \n",
    "    # Подписи значений\n",
    "    def add_labels(bars):\n",
    "        for bar in bars:\n",
    "            height = bar.get_height()\n",
    "            ax.text(bar.get_x() + bar.get_width()/2, height + 0.5,\n",
    "                    f'{height:.1f}%', ha='center', va='bottom', fontsize=10)\n",
    "    \n",
    "    add_labels(bars_summer)\n",
    "    add_labels(bars_autumn)\n",
    "    \n",
    "    # Оформление\n",
    "    ax.set_title(f'Сравнение распределения заказов: лето vs осень ({feature})', fontsize=14)\n",
    "    ax.set_xlabel('Категория')\n",
    "    ax.set_ylabel('Доля заказов, %')\n",
    "    ax.set_xticks(x)\n",
    "    ax.set_xticklabels(categories, rotation=45, ha='right')\n",
    "    ax.legend()\n",
    "    ax.grid(axis='y', linestyle='--', alpha=0.5)\n",
    "    \n",
    "    plt.tight_layout()\n",
    "    plt.show()\n",
    "\n",
    "# Сравнение по типам мероприятий\n",
    "compare_seasons_combined(df, 'event_type_main')"
   ]
  },
  {
   "cell_type": "code",
   "execution_count": 22,
   "id": "4a906a11",
   "metadata": {},
   "outputs": [
    {
     "data": {
      "image/png": "[encoded data removed]",
      "text/plain": [
       "<Figure size 864x432 with 1 Axes>"
      ]
     },
     "metadata": {
      "needs_background": "light"
     },
     "output_type": "display_data"
    }
   ],
   "source": [
    "# Сравнение по типам устройств\n",
    "compare_seasons_combined(df, 'device_type_canonical')"
   ]
  },
  {
   "cell_type": "code",
   "execution_count": 23,
   "id": "d06536f8",
   "metadata": {},
   "outputs": [
    {
     "data": {
      "image/png": "[encoded data removed]",
      "text/plain": [
       "<Figure size 864x432 with 1 Axes>"
      ]
     },
     "metadata": {
      "needs_background": "light"
     },
     "output_type": "display_data"
    }
   ],
   "source": [
    "# Сравнение по возрастным рейтингам\n",
    "compare_seasons_combined(df, 'age_group')"
   ]
  },
  {
   "cell_type": "markdown",
   "id": "223e6fb0-d9f0-4bf6-b689-cd3f2c384cfd",
   "metadata": {},
   "source": [
    "**Промежуточные выводы:**\n",
    "\n",
    "1. По типам мероприятий (`event_type_main`)\n",
    "\n",
    "    - Наблюдаемые изменения:\n",
    "\n",
    "        - Театр: значительный рост с 19.7% до 25.7% (+6%)\n",
    "        - Спорт: резкое увеличение с 2.2% до 7.8% (+5.6%)\n",
    "        - Концерты: снижение с 43.3% до 38.9% (-4.4%)\n",
    "        - Другое: заметное снижение с 26.9% до 20.6% (-6.3%)\n",
    "        - Ёлки: рост с 0.2% до 1.0% (+0.8%), что ожидаемо для осеннего периода\n",
    "\n",
    "    - Интерпретация:\n",
    "\n",
    "        - Неожиданный рост спроса на спортивные мероприятия осенью требует дополнительного исследования (возможные причины: начало новых спортивных сезонов, крупные турниры)\n",
    "        - Снижение доли концертов может быть связано с окончанием летнего фестивального сезона\n",
    "        - Рост театральных мероприятий соответствует традиционному началу театрального сезона осенью\n",
    "\n",
    "2. По типам устройств (`device_type_canonical`)\n",
    "\n",
    "    - Наблюдаемые изменения:\n",
    "\n",
    "        - Стабильное распределение:\n",
    "            - `Mobile`: 81.1%\n",
    "            - `Desktop`: 18.9%\n",
    "\n",
    "    - Интерпретация:\n",
    "\n",
    "        - Отсутствие значимых изменений указывает на устойчивость пользовательских привычек\n",
    "        - `Mobile` продолжает доминировать, что подтверждает необходимость оптимизации мобильного опыта\n",
    "\n",
    "3. По возрастным группам (`age_limit`)\n",
    "\n",
    "    - Наблюдаемые изменения:\n",
    "\n",
    "        - 6+: рост с 24.9% до 28.8% (+3.9%)\n",
    "        - 0+: рост с 22.1% до 23.6% (+1.5%)\n",
    "        - 16+: снижение с 18.4% до 14.2% (-4.2%)\n",
    "        - 12+: незначительное снижение с 34.5% до 33.4% (-1.1%)\n",
    "\n",
    "    - Интерпретация:\n",
    "\n",
    "        - Рост детской аудитории (0+ и 6+) может быть связан с началом учебного года и соответствующими мероприятиями\n",
    "        - Снижение группы 16+ требует дополнительного анализа (возможные причины: изменение предпочтений или структуры мероприятий)\n",
    "\n",
    "**Ключевые инсайты:**\n",
    "\n",
    "- Сезонное перераспределение спроса:\n",
    "\n",
    "    - Неожиданный +5.6% роста спортивных мероприятий требует проверки данных на аномалии\n",
    "    - Традиционный +6% рост театральных мероприятий соответствует отраслевым нормам\n",
    "    - Снижение категории \"Другое\" на 6.3% может указывать на более четкую сегментацию спроса осенью\n",
    "\n",
    "- Возрастные изменения:\n",
    "\n",
    "    - Явный сдвиг в сторону детской аудитории (+5.4% суммарно для 0+ и 6+)\n",
    "    - Важно проверить, не связано ли снижение группы 16+ с изменением возрастных маркировок мероприятий\n",
    "\n",
    "- Стабильность платформ:\n",
    "\n",
    "    - Сохранение соотношения `mobile`/`desktop` указывает на зрелость каналов продаж\n",
    "\n",
    "**Вывод:** Осенний сезон демонстрирует нестандартные изменения в структуре спроса, особенно в части роста спортивных мероприятий и детской аудитории. При сохранении общего тренда на увеличение театральных мероприятий, наблюдаемые аномалии требуют дополнительной проверки данных. Стабильность распределения по типам устройств подтверждает корректность текущей мобильной стратегии."
   ]
  },
  {
   "cell_type": "markdown",
   "id": "5982c72d-6b71-4f2c-bb16-d451e371460e",
   "metadata": {},
   "source": [
    "**1.3. Изменение стоимости билетов**"
   ]
  },
  {
   "cell_type": "code",
   "execution_count": 24,
   "id": "68081d0e",
   "metadata": {},
   "outputs": [
    {
     "data": {
      "image/png": "[encoded data removed]",
      "text/plain": [
       "<Figure size 864x432 with 1 Axes>"
      ]
     },
     "metadata": {
      "needs_background": "light"
     },
     "output_type": "display_data"
    },
    {
     "data": {
      "text/html": [
       "<div>\n",
       "<style scoped>\n",
       "    .dataframe tbody tr th:only-of-type {\n",
       "        vertical-align: middle;\n",
       "    }\n",
       "\n",
       "    .dataframe tbody tr th {\n",
       "        vertical-align: top;\n",
       "    }\n",
       "\n",
       "    .dataframe thead th {\n",
       "        text-align: right;\n",
       "    }\n",
       "</style>\n",
       "<table border=\"1\" class=\"dataframe\">\n",
       "  <thead>\n",
       "    <tr style=\"text-align: right;\">\n",
       "      <th>season</th>\n",
       "      <th>лето</th>\n",
       "      <th>осень</th>\n",
       "      <th>change</th>\n",
       "    </tr>\n",
       "    <tr>\n",
       "      <th>event_type_main</th>\n",
       "      <th></th>\n",
       "      <th></th>\n",
       "      <th></th>\n",
       "    </tr>\n",
       "  </thead>\n",
       "  <tbody>\n",
       "    <tr>\n",
       "      <th>стендап</th>\n",
       "      <td>225.082564</td>\n",
       "      <td>248.106264</td>\n",
       "      <td>10.229002</td>\n",
       "    </tr>\n",
       "    <tr>\n",
       "      <th>выставки</th>\n",
       "      <td>86.667638</td>\n",
       "      <td>90.297429</td>\n",
       "      <td>4.188174</td>\n",
       "    </tr>\n",
       "    <tr>\n",
       "      <th>спорт</th>\n",
       "      <td>60.129099</td>\n",
       "      <td>59.575767</td>\n",
       "      <td>-0.920240</td>\n",
       "    </tr>\n",
       "    <tr>\n",
       "      <th>другое</th>\n",
       "      <td>80.320670</td>\n",
       "      <td>78.647227</td>\n",
       "      <td>-2.083452</td>\n",
       "    </tr>\n",
       "    <tr>\n",
       "      <th>концерты</th>\n",
       "      <td>313.758858</td>\n",
       "      <td>290.743259</td>\n",
       "      <td>-7.335442</td>\n",
       "    </tr>\n",
       "  </tbody>\n",
       "</table>\n",
       "</div>"
      ],
      "text/plain": [
       "season                 лето       осень     change\n",
       "event_type_main                                   \n",
       "стендап          225.082564  248.106264  10.229002\n",
       "выставки          86.667638   90.297429   4.188174\n",
       "спорт             60.129099   59.575767  -0.920240\n",
       "другое            80.320670   78.647227  -2.083452\n",
       "концерты         313.758858  290.743259  -7.335442"
      ]
     },
     "metadata": {},
     "output_type": "display_data"
    }
   ],
   "source": [
    "# Средняя стоимость билета по типам мероприятий\n",
    "ticket_price = df.groupby(['event_type_main', 'season'])['one_ticket_revenue_rub'].mean().unstack()\n",
    "\n",
    "# Относительное изменение\n",
    "ticket_price['change'] = (ticket_price['осень'] - ticket_price['лето']) / ticket_price['лето'] * 100\n",
    "\n",
    "# Сортировка по величине изменения\n",
    "ticket_price = ticket_price.sort_values('change', ascending=False)\n",
    "\n",
    "# Настройка цветов\n",
    "colors = ['#2ecc71' if x >= 0 else '#e74c3c' for x in ticket_price['change']]\n",
    "\n",
    "# Построение графика\n",
    "plt.figure(figsize=(12, 6))\n",
    "bars = plt.bar(ticket_price.index, ticket_price['change'], color=colors, alpha=0.7)\n",
    "plt.axhline(0, color='gray', linestyle='--', linewidth=0.8)\n",
    "plt.title('Изменение средней стоимости билета осенью vs летом (%)', pad=20, fontsize=14)\n",
    "plt.ylabel('Изменение, %', fontsize=12)\n",
    "plt.xticks(rotation=45, ha='right')\n",
    "plt.grid(axis='y', linestyle=':', alpha=0.5)\n",
    "\n",
    "# Добавление подписей\n",
    "for bar in bars:\n",
    "    height = bar.get_height()\n",
    "    if height >= 0:\n",
    "        plt.text(bar.get_x() + bar.get_width()/2, height + 0.3,\n",
    "                f'+{height:.1f}%',  # \"+\" для роста\n",
    "                ha='center', va='bottom',\n",
    "                fontsize=10, fontweight='bold',\n",
    "                color='#27ae60')\n",
    "    else:\n",
    "        plt.text(bar.get_x() + bar.get_width()/2, height - 0.3,\n",
    "                f'{height:.1f}%',\n",
    "                ha='center', va='top',\n",
    "                fontsize=10, fontweight='bold',\n",
    "                color='#c0392b')\n",
    "\n",
    "plt.tight_layout()\n",
    "plt.show()\n",
    "\n",
    "display(ticket_price.head())"
   ]
  },
  {
   "cell_type": "markdown",
   "id": "536ec25d-b4f5-4ba3-a70f-3880dd113b62",
   "metadata": {},
   "source": [
    "**Промежуточные выводы:**\n",
    "\n",
    "- Рост стоимости билетов:\n",
    "\n",
    "    - Стендап: +10.23% (наиболее значительный рост)\n",
    "    - Выставки: +4.19%\n",
    "\n",
    "- Снижение стоимости билетов:\n",
    "\n",
    "    - Концерты: -7.34% (наибольшее падение)\n",
    "    - Другое: -2.08%\n",
    "    - Спорт: -0.92% (незначительное изменение)\n",
    "\n",
    "- Абсолютные значения стоимости:\n",
    "\n",
    "    - Самые дорогие билеты на концерты (~290-314 руб.)\n",
    "    - Самые дешевые - на спорт (~60 руб.)\n",
    "    - Стендап занимает второе место по стоимости (~225-248 руб.)"
   ]
  },
  {
   "cell_type": "markdown",
   "id": "8640d45e-d45b-4fd5-b839-e779ca5a1a42",
   "metadata": {},
   "source": [
    "**2. Осенняя активность пользователей (сентябрь-октябрь)**"
   ]
  },
  {
   "cell_type": "markdown",
   "id": "f7c6b0a6-d3a6-4523-a314-f536a62b4674",
   "metadata": {},
   "source": [
    "**2.1. Динамика по дням**"
   ]
  },
  {
   "cell_type": "code",
   "execution_count": 25,
   "id": "0380800e-2d45-4112-ada3-50887cf5b603",
   "metadata": {},
   "outputs": [
    {
     "data": {
      "text/html": [
       "<style  type=\"text/css\" >\n",
       "    #T_beab1_ caption {\n",
       "          font-size: 14pt;\n",
       "          font-weight: bold;\n",
       "    }#T_beab1_row0_col1,#T_beab1_row0_col2{\n",
       "            background-color:  #f7fbff;\n",
       "            color:  #000000;\n",
       "        }#T_beab1_row0_col3,#T_beab1_row34_col3{\n",
       "            background-color:  #238b45;\n",
       "            color:  #000000;\n",
       "        }#T_beab1_row0_col4{\n",
       "            background-color:  #fcfbfd;\n",
       "            color:  #000000;\n",
       "        }#T_beab1_row1_col1{\n",
       "            background-color:  #f3f8fe;\n",
       "            color:  #000000;\n",
       "        }#T_beab1_row1_col2{\n",
       "            background-color:  #f5f9fe;\n",
       "            color:  #000000;\n",
       "        }#T_beab1_row1_col3{\n",
       "            background-color:  #42ab5d;\n",
       "            color:  #000000;\n",
       "        }#T_beab1_row1_col4{\n",
       "            background-color:  #f8f6fa;\n",
       "            color:  #000000;\n",
       "        }#T_beab1_row2_col1,#T_beab1_row27_col2,#T_beab1_row43_col1,#T_beab1_row51_col1{\n",
       "            background-color:  #69add5;\n",
       "            color:  #000000;\n",
       "        }#T_beab1_row2_col2{\n",
       "            background-color:  #b7d4ea;\n",
       "            color:  #000000;\n",
       "        }#T_beab1_row2_col3{\n",
       "            background-color:  #f7fcf5;\n",
       "            color:  #000000;\n",
       "        }#T_beab1_row2_col4{\n",
       "            background-color:  #5d3897;\n",
       "            color:  #f1f1f1;\n",
       "        }#T_beab1_row3_col1{\n",
       "            background-color:  #dceaf6;\n",
       "            color:  #000000;\n",
       "        }#T_beab1_row3_col2{\n",
       "            background-color:  #d6e6f4;\n",
       "            color:  #000000;\n",
       "        }#T_beab1_row3_col3{\n",
       "            background-color:  #58b668;\n",
       "            color:  #000000;\n",
       "        }#T_beab1_row3_col4{\n",
       "            background-color:  #f0eef6;\n",
       "            color:  #000000;\n",
       "        }#T_beab1_row4_col1,#T_beab1_row14_col1{\n",
       "            background-color:  #ccdff1;\n",
       "            color:  #000000;\n",
       "        }#T_beab1_row4_col2,#T_beab1_row15_col1{\n",
       "            background-color:  #c7dbef;\n",
       "            color:  #000000;\n",
       "        }#T_beab1_row4_col3,#T_beab1_row12_col3,#T_beab1_row47_col3,#T_beab1_row50_col3{\n",
       "            background-color:  #3ca559;\n",
       "            color:  #000000;\n",
       "        }#T_beab1_row4_col4,#T_beab1_row29_col4{\n",
       "            background-color:  #e1e0ee;\n",
       "            color:  #000000;\n",
       "        }#T_beab1_row5_col1,#T_beab1_row16_col2,#T_beab1_row21_col2,#T_beab1_row28_col1{\n",
       "            background-color:  #b4d3e9;\n",
       "            color:  #000000;\n",
       "        }#T_beab1_row5_col2,#T_beab1_row31_col1{\n",
       "            background-color:  #8abfdd;\n",
       "            color:  #000000;\n",
       "        }#T_beab1_row5_col3{\n",
       "            background-color:  #53b466;\n",
       "            color:  #000000;\n",
       "        }#T_beab1_row5_col4{\n",
       "            background-color:  #eceaf3;\n",
       "            color:  #000000;\n",
       "        }#T_beab1_row6_col1{\n",
       "            background-color:  #c9ddf0;\n",
       "            color:  #000000;\n",
       "        }#T_beab1_row6_col2{\n",
       "            background-color:  #afd1e7;\n",
       "            color:  #000000;\n",
       "        }#T_beab1_row6_col3,#T_beab1_row11_col3{\n",
       "            background-color:  #3ba458;\n",
       "            color:  #000000;\n",
       "        }#T_beab1_row6_col4{\n",
       "            background-color:  #eeecf5;\n",
       "            color:  #000000;\n",
       "        }#T_beab1_row7_col1{\n",
       "            background-color:  #d9e7f5;\n",
       "            color:  #000000;\n",
       "        }#T_beab1_row7_col2{\n",
       "            background-color:  #cde0f1;\n",
       "            color:  #000000;\n",
       "        }#T_beab1_row7_col3,#T_beab1_row51_col3{\n",
       "            background-color:  #4bb062;\n",
       "            color:  #000000;\n",
       "        }#T_beab1_row7_col4{\n",
       "            background-color:  #f3f2f8;\n",
       "            color:  #000000;\n",
       "        }#T_beab1_row8_col1{\n",
       "            background-color:  #c6dbef;\n",
       "            color:  #000000;\n",
       "        }#T_beab1_row8_col2{\n",
       "            background-color:  #b5d4e9;\n",
       "            color:  #000000;\n",
       "        }#T_beab1_row8_col3{\n",
       "            background-color:  #84cc83;\n",
       "            color:  #000000;\n",
       "        }#T_beab1_row8_col4,#T_beab1_row9_col4,#T_beab1_row28_col4{\n",
       "            background-color:  #e4e3f0;\n",
       "            color:  #000000;\n",
       "        }#T_beab1_row9_col1{\n",
       "            background-color:  #caddf0;\n",
       "            color:  #000000;\n",
       "        }#T_beab1_row9_col2{\n",
       "            background-color:  #bed8ec;\n",
       "            color:  #000000;\n",
       "        }#T_beab1_row9_col3{\n",
       "            background-color:  #39a257;\n",
       "            color:  #000000;\n",
       "        }#T_beab1_row10_col1,#T_beab1_row13_col1,#T_beab1_row22_col1{\n",
       "            background-color:  #b0d2e7;\n",
       "            color:  #000000;\n",
       "        }#T_beab1_row10_col2{\n",
       "            background-color:  #a4cce3;\n",
       "            color:  #000000;\n",
       "        }#T_beab1_row10_col3{\n",
       "            background-color:  #63bc6e;\n",
       "            color:  #000000;\n",
       "        }#T_beab1_row10_col4,#T_beab1_row14_col4,#T_beab1_row23_col4,#T_beab1_row56_col4{\n",
       "            background-color:  #d6d6e9;\n",
       "            color:  #000000;\n",
       "        }#T_beab1_row11_col1{\n",
       "            background-color:  #a9cfe5;\n",
       "            color:  #000000;\n",
       "        }#T_beab1_row11_col2,#T_beab1_row27_col1,#T_beab1_row42_col1{\n",
       "            background-color:  #91c3de;\n",
       "            color:  #000000;\n",
       "        }#T_beab1_row11_col4,#T_beab1_row20_col4,#T_beab1_row24_col4,#T_beab1_row27_col4,#T_beab1_row43_col4{\n",
       "            background-color:  #dadaeb;\n",
       "            color:  #000000;\n",
       "        }#T_beab1_row12_col1,#T_beab1_row29_col2,#T_beab1_row49_col1{\n",
       "            background-color:  #82bbdb;\n",
       "            color:  #000000;\n",
       "        }#T_beab1_row12_col2,#T_beab1_row23_col2,#T_beab1_row33_col1{\n",
       "            background-color:  #5fa6d1;\n",
       "            color:  #000000;\n",
       "        }#T_beab1_row12_col4{\n",
       "            background-color:  #d4d4e8;\n",
       "            color:  #000000;\n",
       "        }#T_beab1_row13_col2,#T_beab1_row18_col1{\n",
       "            background-color:  #9cc9e1;\n",
       "            color:  #000000;\n",
       "        }#T_beab1_row13_col3,#T_beab1_row58_col3{\n",
       "            background-color:  #62bb6d;\n",
       "            color:  #000000;\n",
       "        }#T_beab1_row13_col4,#T_beab1_row26_col4,#T_beab1_row38_col4,#T_beab1_row42_col4,#T_beab1_row45_col4{\n",
       "            background-color:  #dcdcec;\n",
       "            color:  #000000;\n",
       "        }#T_beab1_row14_col2{\n",
       "            background-color:  #cee0f2;\n",
       "            color:  #000000;\n",
       "        }#T_beab1_row14_col3{\n",
       "            background-color:  #006c2c;\n",
       "            color:  #f1f1f1;\n",
       "        }#T_beab1_row15_col2{\n",
       "            background-color:  #c3daee;\n",
       "            color:  #000000;\n",
       "        }#T_beab1_row15_col3{\n",
       "            background-color:  #309950;\n",
       "            color:  #000000;\n",
       "        }#T_beab1_row15_col4,#T_beab1_row37_col4{\n",
       "            background-color:  #d8d8ea;\n",
       "            color:  #000000;\n",
       "        }#T_beab1_row16_col1{\n",
       "            background-color:  #b9d6ea;\n",
       "            color:  #000000;\n",
       "        }#T_beab1_row16_col3{\n",
       "            background-color:  #2f984f;\n",
       "            color:  #000000;\n",
       "        }#T_beab1_row16_col4,#T_beab1_row25_col4{\n",
       "            background-color:  #d2d2e7;\n",
       "            color:  #000000;\n",
       "        }#T_beab1_row17_col1{\n",
       "            background-color:  #a8cee4;\n",
       "            color:  #000000;\n",
       "        }#T_beab1_row17_col2,#T_beab1_row20_col1{\n",
       "            background-color:  #a3cce3;\n",
       "            color:  #000000;\n",
       "        }#T_beab1_row17_col3{\n",
       "            background-color:  #339c52;\n",
       "            color:  #000000;\n",
       "        }#T_beab1_row17_col4,#T_beab1_row50_col4{\n",
       "            background-color:  #c7c8e1;\n",
       "            color:  #000000;\n",
       "        }#T_beab1_row18_col2{\n",
       "            background-color:  #9ac8e0;\n",
       "            color:  #000000;\n",
       "        }#T_beab1_row18_col3{\n",
       "            background-color:  #2f974e;\n",
       "            color:  #000000;\n",
       "        }#T_beab1_row18_col4,#T_beab1_row19_col4,#T_beab1_row57_col4{\n",
       "            background-color:  #bebedd;\n",
       "            color:  #000000;\n",
       "        }#T_beab1_row19_col1,#T_beab1_row26_col1{\n",
       "            background-color:  #6fb0d7;\n",
       "            color:  #000000;\n",
       "        }#T_beab1_row19_col2{\n",
       "            background-color:  #5da5d1;\n",
       "            color:  #000000;\n",
       "        }#T_beab1_row19_col3{\n",
       "            background-color:  #329b51;\n",
       "            color:  #000000;\n",
       "        }#T_beab1_row20_col2,#T_beab1_row23_col1,#T_beab1_row24_col1,#T_beab1_row38_col1{\n",
       "            background-color:  #84bcdb;\n",
       "            color:  #000000;\n",
       "        }#T_beab1_row20_col3{\n",
       "            background-color:  #359e53;\n",
       "            color:  #000000;\n",
       "        }#T_beab1_row21_col1{\n",
       "            background-color:  #cfe1f2;\n",
       "            color:  #000000;\n",
       "        }#T_beab1_row21_col3{\n",
       "            background-color:  #137d39;\n",
       "            color:  #f1f1f1;\n",
       "        }#T_beab1_row21_col4{\n",
       "            background-color:  #f4f3f8;\n",
       "            color:  #000000;\n",
       "        }#T_beab1_row22_col2{\n",
       "            background-color:  #abd0e6;\n",
       "            color:  #000000;\n",
       "        }#T_beab1_row22_col3{\n",
       "            background-color:  #3fa85b;\n",
       "            color:  #000000;\n",
       "        }#T_beab1_row22_col4,#T_beab1_row32_col4,#T_beab1_row34_col4,#T_beab1_row46_col4,#T_beab1_row48_col4{\n",
       "            background-color:  #cdcde4;\n",
       "            color:  #000000;\n",
       "        }#T_beab1_row23_col3{\n",
       "            background-color:  #88ce87;\n",
       "            color:  #000000;\n",
       "        }#T_beab1_row24_col2{\n",
       "            background-color:  #58a1cf;\n",
       "            color:  #000000;\n",
       "        }#T_beab1_row24_col3,#T_beab1_row46_col3{\n",
       "            background-color:  #46ae60;\n",
       "            color:  #000000;\n",
       "        }#T_beab1_row25_col1,#T_beab1_row28_col2{\n",
       "            background-color:  #97c6df;\n",
       "            color:  #000000;\n",
       "        }#T_beab1_row25_col2,#T_beab1_row32_col1{\n",
       "            background-color:  #7ab6d9;\n",
       "            color:  #000000;\n",
       "        }#T_beab1_row25_col3{\n",
       "            background-color:  #00441b;\n",
       "            color:  #f1f1f1;\n",
       "        }#T_beab1_row26_col2{\n",
       "            background-color:  #3d8dc4;\n",
       "            color:  #000000;\n",
       "        }#T_beab1_row26_col3{\n",
       "            background-color:  #127c39;\n",
       "            color:  #f1f1f1;\n",
       "        }#T_beab1_row27_col3,#T_beab1_row36_col3{\n",
       "            background-color:  #319a50;\n",
       "            color:  #000000;\n",
       "        }#T_beab1_row28_col3{\n",
       "            background-color:  #107a37;\n",
       "            color:  #f1f1f1;\n",
       "        }#T_beab1_row29_col1{\n",
       "            background-color:  #a6cee4;\n",
       "            color:  #000000;\n",
       "        }#T_beab1_row29_col3{\n",
       "            background-color:  #03702e;\n",
       "            color:  #f1f1f1;\n",
       "        }#T_beab1_row30_col1,#T_beab1_row60_col1,#T_beab1_row60_col2{\n",
       "            background-color:  #08306b;\n",
       "            color:  #f1f1f1;\n",
       "        }#T_beab1_row30_col2{\n",
       "            background-color:  #2070b4;\n",
       "            color:  #f1f1f1;\n",
       "        }#T_beab1_row30_col3{\n",
       "            background-color:  #dbf1d5;\n",
       "            color:  #000000;\n",
       "        }#T_beab1_row30_col4{\n",
       "            background-color:  #3f007d;\n",
       "            color:  #f1f1f1;\n",
       "        }#T_beab1_row31_col2{\n",
       "            background-color:  #6dafd7;\n",
       "            color:  #000000;\n",
       "        }#T_beab1_row31_col3{\n",
       "            background-color:  #19833e;\n",
       "            color:  #f1f1f1;\n",
       "        }#T_beab1_row31_col4,#T_beab1_row52_col4{\n",
       "            background-color:  #cecfe5;\n",
       "            color:  #000000;\n",
       "        }#T_beab1_row32_col2{\n",
       "            background-color:  #5ba3d0;\n",
       "            color:  #000000;\n",
       "        }#T_beab1_row32_col3{\n",
       "            background-color:  #005c25;\n",
       "            color:  #f1f1f1;\n",
       "        }#T_beab1_row33_col2,#T_beab1_row38_col2,#T_beab1_row46_col1{\n",
       "            background-color:  #549fcd;\n",
       "            color:  #000000;\n",
       "        }#T_beab1_row33_col3{\n",
       "            background-color:  #00682a;\n",
       "            color:  #f1f1f1;\n",
       "        }#T_beab1_row33_col4{\n",
       "            background-color:  #aeadd3;\n",
       "            color:  #000000;\n",
       "        }#T_beab1_row34_col1{\n",
       "            background-color:  #71b1d7;\n",
       "            color:  #000000;\n",
       "        }#T_beab1_row34_col2{\n",
       "            background-color:  #4f9bcb;\n",
       "            color:  #000000;\n",
       "        }#T_beab1_row35_col1{\n",
       "            background-color:  #a0cbe2;\n",
       "            color:  #000000;\n",
       "        }#T_beab1_row35_col2{\n",
       "            background-color:  #7cb7da;\n",
       "            color:  #000000;\n",
       "        }#T_beab1_row35_col3{\n",
       "            background-color:  #2b934b;\n",
       "            color:  #000000;\n",
       "        }#T_beab1_row35_col4{\n",
       "            background-color:  #ddddec;\n",
       "            color:  #000000;\n",
       "        }#T_beab1_row36_col1,#T_beab1_row37_col1{\n",
       "            background-color:  #7fb9da;\n",
       "            color:  #000000;\n",
       "        }#T_beab1_row36_col2{\n",
       "            background-color:  #74b3d8;\n",
       "            color:  #000000;\n",
       "        }#T_beab1_row36_col4,#T_beab1_row55_col4{\n",
       "            background-color:  #babadb;\n",
       "            color:  #000000;\n",
       "        }#T_beab1_row37_col2{\n",
       "            background-color:  #57a0ce;\n",
       "            color:  #000000;\n",
       "        }#T_beab1_row37_col3,#T_beab1_row43_col3,#T_beab1_row56_col3{\n",
       "            background-color:  #48ae60;\n",
       "            color:  #000000;\n",
       "        }#T_beab1_row38_col3{\n",
       "            background-color:  #349d53;\n",
       "            color:  #000000;\n",
       "        }#T_beab1_row39_col1{\n",
       "            background-color:  #529dcc;\n",
       "            color:  #000000;\n",
       "        }#T_beab1_row39_col2,#T_beab1_row55_col1{\n",
       "            background-color:  #3484bf;\n",
       "            color:  #000000;\n",
       "        }#T_beab1_row39_col3{\n",
       "            background-color:  #3aa357;\n",
       "            color:  #000000;\n",
       "        }#T_beab1_row39_col4,#T_beab1_row51_col4{\n",
       "            background-color:  #c3c4e0;\n",
       "            color:  #000000;\n",
       "        }#T_beab1_row40_col1,#T_beab1_row53_col2{\n",
       "            background-color:  #4997c9;\n",
       "            color:  #000000;\n",
       "        }#T_beab1_row40_col2{\n",
       "            background-color:  #2b7bba;\n",
       "            color:  #000000;\n",
       "        }#T_beab1_row40_col3,#T_beab1_row45_col3{\n",
       "            background-color:  #278f48;\n",
       "            color:  #000000;\n",
       "        }#T_beab1_row40_col4{\n",
       "            background-color:  #bfc0de;\n",
       "            color:  #000000;\n",
       "        }#T_beab1_row41_col1,#T_beab1_row58_col1{\n",
       "            background-color:  #66abd4;\n",
       "            color:  #000000;\n",
       "        }#T_beab1_row41_col2{\n",
       "            background-color:  #3080bd;\n",
       "            color:  #000000;\n",
       "        }#T_beab1_row41_col3{\n",
       "            background-color:  #218944;\n",
       "            color:  #000000;\n",
       "        }#T_beab1_row41_col4{\n",
       "            background-color:  #dedeed;\n",
       "            color:  #000000;\n",
       "        }#T_beab1_row42_col2,#T_beab1_row56_col1{\n",
       "            background-color:  #65aad4;\n",
       "            color:  #000000;\n",
       "        }#T_beab1_row42_col3,#T_beab1_row48_col3{\n",
       "            background-color:  #208843;\n",
       "            color:  #000000;\n",
       "        }#T_beab1_row43_col2{\n",
       "            background-color:  #3888c1;\n",
       "            color:  #000000;\n",
       "        }#T_beab1_row44_col1,#T_beab1_row46_col2{\n",
       "            background-color:  #2d7dbb;\n",
       "            color:  #000000;\n",
       "        }#T_beab1_row44_col2{\n",
       "            background-color:  #206fb4;\n",
       "            color:  #f1f1f1;\n",
       "        }#T_beab1_row44_col3{\n",
       "            background-color:  #7fc97f;\n",
       "            color:  #000000;\n",
       "        }#T_beab1_row44_col4{\n",
       "            background-color:  #a19eca;\n",
       "            color:  #000000;\n",
       "        }#T_beab1_row45_col1,#T_beab1_row59_col1{\n",
       "            background-color:  #5aa2cf;\n",
       "            color:  #000000;\n",
       "        }#T_beab1_row45_col2{\n",
       "            background-color:  #2474b7;\n",
       "            color:  #f1f1f1;\n",
       "        }#T_beab1_row47_col1{\n",
       "            background-color:  #1f6eb3;\n",
       "            color:  #f1f1f1;\n",
       "        }#T_beab1_row47_col2{\n",
       "            background-color:  #125ea6;\n",
       "            color:  #f1f1f1;\n",
       "        }#T_beab1_row47_col4{\n",
       "            background-color:  #9f9cc9;\n",
       "            color:  #000000;\n",
       "        }#T_beab1_row48_col1{\n",
       "            background-color:  #4b98ca;\n",
       "            color:  #000000;\n",
       "        }#T_beab1_row48_col2{\n",
       "            background-color:  #2171b5;\n",
       "            color:  #f1f1f1;\n",
       "        }#T_beab1_row49_col2{\n",
       "            background-color:  #68acd5;\n",
       "            color:  #000000;\n",
       "        }#T_beab1_row49_col3{\n",
       "            background-color:  #1c8540;\n",
       "            color:  #000000;\n",
       "        }#T_beab1_row49_col4,#T_beab1_row59_col4{\n",
       "            background-color:  #cbcbe3;\n",
       "            color:  #000000;\n",
       "        }#T_beab1_row50_col1{\n",
       "            background-color:  #6caed6;\n",
       "            color:  #000000;\n",
       "        }#T_beab1_row50_col2,#T_beab1_row51_col2,#T_beab1_row53_col1{\n",
       "            background-color:  #519ccc;\n",
       "            color:  #000000;\n",
       "        }#T_beab1_row52_col1{\n",
       "            background-color:  #60a7d2;\n",
       "            color:  #000000;\n",
       "        }#T_beab1_row52_col2,#T_beab1_row56_col2{\n",
       "            background-color:  #3989c1;\n",
       "            color:  #000000;\n",
       "        }#T_beab1_row52_col3{\n",
       "            background-color:  #369f54;\n",
       "            color:  #000000;\n",
       "        }#T_beab1_row53_col3{\n",
       "            background-color:  #5db96b;\n",
       "            color:  #000000;\n",
       "        }#T_beab1_row53_col4{\n",
       "            background-color:  #a7a4ce;\n",
       "            color:  #000000;\n",
       "        }#T_beab1_row54_col1{\n",
       "            background-color:  #084990;\n",
       "            color:  #f1f1f1;\n",
       "        }#T_beab1_row54_col2{\n",
       "            background-color:  #084488;\n",
       "            color:  #f1f1f1;\n",
       "        }#T_beab1_row54_col3{\n",
       "            background-color:  #66bd6f;\n",
       "            color:  #000000;\n",
       "        }#T_beab1_row54_col4{\n",
       "            background-color:  #8683bd;\n",
       "            color:  #000000;\n",
       "        }#T_beab1_row55_col2{\n",
       "            background-color:  #1966ad;\n",
       "            color:  #f1f1f1;\n",
       "        }#T_beab1_row55_col3{\n",
       "            background-color:  #52b365;\n",
       "            color:  #000000;\n",
       "        }#T_beab1_row57_col1{\n",
       "            background-color:  #64a9d3;\n",
       "            color:  #000000;\n",
       "        }#T_beab1_row57_col2{\n",
       "            background-color:  #4e9acb;\n",
       "            color:  #000000;\n",
       "        }#T_beab1_row57_col3{\n",
       "            background-color:  #78c679;\n",
       "            color:  #000000;\n",
       "        }#T_beab1_row58_col2{\n",
       "            background-color:  #4695c8;\n",
       "            color:  #000000;\n",
       "        }#T_beab1_row58_col4{\n",
       "            background-color:  #c9c9e2;\n",
       "            color:  #000000;\n",
       "        }#T_beab1_row59_col2{\n",
       "            background-color:  #3585bf;\n",
       "            color:  #000000;\n",
       "        }#T_beab1_row59_col3{\n",
       "            background-color:  #5bb86a;\n",
       "            color:  #000000;\n",
       "        }#T_beab1_row60_col3{\n",
       "            background-color:  #9bd696;\n",
       "            color:  #000000;\n",
       "        }#T_beab1_row60_col4{\n",
       "            background-color:  #7b72b4;\n",
       "            color:  #000000;\n",
       "        }</style><table id=\"T_beab1_\" ><caption>Дневные метрики за осенний сезон</caption><thead>    <tr>        <th class=\"blank level0\" ></th>        <th class=\"col_heading level0 col0\" >Дата</th>        <th class=\"col_heading level0 col1\" >Заказы</th>        <th class=\"col_heading level0 col2\" >DAU</th>        <th class=\"col_heading level0 col3\" >Ср. цена билета</th>        <th class=\"col_heading level0 col4\" >Заказов/польз.</th>    </tr></thead><tbody>\n",
       "                <tr>\n",
       "                        <th id=\"T_beab1_level0_row0\" class=\"row_heading level0 row0\" >0</th>\n",
       "                        <td id=\"T_beab1_row0_col0\" class=\"data row0 col0\" >2024-09-01</td>\n",
       "                        <td id=\"T_beab1_row0_col1\" class=\"data row0 col1\" >1125</td>\n",
       "                        <td id=\"T_beab1_row0_col2\" class=\"data row0 col2\" >569</td>\n",
       "                        <td id=\"T_beab1_row0_col3\" class=\"data row0 col3\" >209.2 руб</td>\n",
       "                        <td id=\"T_beab1_row0_col4\" class=\"data row0 col4\" >1.98</td>\n",
       "            </tr>\n",
       "            <tr>\n",
       "                        <th id=\"T_beab1_level0_row1\" class=\"row_heading level0 row1\" >1</th>\n",
       "                        <td id=\"T_beab1_row1_col0\" class=\"data row1 col0\" >2024-09-02</td>\n",
       "                        <td id=\"T_beab1_row1_col1\" class=\"data row1 col1\" >1182</td>\n",
       "                        <td id=\"T_beab1_row1_col2\" class=\"data row1 col2\" >580</td>\n",
       "                        <td id=\"T_beab1_row1_col3\" class=\"data row1 col3\" >194.2 руб</td>\n",
       "                        <td id=\"T_beab1_row1_col4\" class=\"data row1 col4\" >2.04</td>\n",
       "            </tr>\n",
       "            <tr>\n",
       "                        <th id=\"T_beab1_level0_row2\" class=\"row_heading level0 row2\" >2</th>\n",
       "                        <td id=\"T_beab1_row2_col0\" class=\"data row2 col0\" >2024-09-03</td>\n",
       "                        <td id=\"T_beab1_row2_col1\" class=\"data row2 col1\" >2391</td>\n",
       "                        <td id=\"T_beab1_row2_col2\" class=\"data row2 col2\" >783</td>\n",
       "                        <td id=\"T_beab1_row2_col3\" class=\"data row2 col3\" >119.5 руб</td>\n",
       "                        <td id=\"T_beab1_row2_col4\" class=\"data row2 col4\" >3.05</td>\n",
       "            </tr>\n",
       "            <tr>\n",
       "                        <th id=\"T_beab1_level0_row3\" class=\"row_heading level0 row3\" >3</th>\n",
       "                        <td id=\"T_beab1_row3_col0\" class=\"data row3 col0\" >2024-09-04</td>\n",
       "                        <td id=\"T_beab1_row3_col1\" class=\"data row3 col1\" >1463</td>\n",
       "                        <td id=\"T_beab1_row3_col2\" class=\"data row3 col2\" >688</td>\n",
       "                        <td id=\"T_beab1_row3_col3\" class=\"data row3 col3\" >187.7 руб</td>\n",
       "                        <td id=\"T_beab1_row3_col4\" class=\"data row3 col4\" >2.13</td>\n",
       "            </tr>\n",
       "            <tr>\n",
       "                        <th id=\"T_beab1_level0_row4\" class=\"row_heading level0 row4\" >4</th>\n",
       "                        <td id=\"T_beab1_row4_col0\" class=\"data row4 col0\" >2024-09-05</td>\n",
       "                        <td id=\"T_beab1_row4_col1\" class=\"data row4 col1\" >1677</td>\n",
       "                        <td id=\"T_beab1_row4_col2\" class=\"data row4 col2\" >745</td>\n",
       "                        <td id=\"T_beab1_row4_col3\" class=\"data row4 col3\" >197.2 руб</td>\n",
       "                        <td id=\"T_beab1_row4_col4\" class=\"data row4 col4\" >2.25</td>\n",
       "            </tr>\n",
       "            <tr>\n",
       "                        <th id=\"T_beab1_level0_row5\" class=\"row_heading level0 row5\" >5</th>\n",
       "                        <td id=\"T_beab1_row5_col0\" class=\"data row5 col0\" >2024-09-06</td>\n",
       "                        <td id=\"T_beab1_row5_col1\" class=\"data row5 col1\" >1889</td>\n",
       "                        <td id=\"T_beab1_row5_col2\" class=\"data row5 col2\" >871</td>\n",
       "                        <td id=\"T_beab1_row5_col3\" class=\"data row5 col3\" >189.2 руб</td>\n",
       "                        <td id=\"T_beab1_row5_col4\" class=\"data row5 col4\" >2.17</td>\n",
       "            </tr>\n",
       "            <tr>\n",
       "                        <th id=\"T_beab1_level0_row6\" class=\"row_heading level0 row6\" >6</th>\n",
       "                        <td id=\"T_beab1_row6_col0\" class=\"data row6 col0\" >2024-09-07</td>\n",
       "                        <td id=\"T_beab1_row6_col1\" class=\"data row6 col1\" >1715</td>\n",
       "                        <td id=\"T_beab1_row6_col2\" class=\"data row6 col2\" >798</td>\n",
       "                        <td id=\"T_beab1_row6_col3\" class=\"data row6 col3\" >197.7 руб</td>\n",
       "                        <td id=\"T_beab1_row6_col4\" class=\"data row6 col4\" >2.15</td>\n",
       "            </tr>\n",
       "            <tr>\n",
       "                        <th id=\"T_beab1_level0_row7\" class=\"row_heading level0 row7\" >7</th>\n",
       "                        <td id=\"T_beab1_row7_col0\" class=\"data row7 col0\" >2024-09-08</td>\n",
       "                        <td id=\"T_beab1_row7_col1\" class=\"data row7 col1\" >1508</td>\n",
       "                        <td id=\"T_beab1_row7_col2\" class=\"data row7 col2\" >720</td>\n",
       "                        <td id=\"T_beab1_row7_col3\" class=\"data row7 col3\" >191.7 руб</td>\n",
       "                        <td id=\"T_beab1_row7_col4\" class=\"data row7 col4\" >2.09</td>\n",
       "            </tr>\n",
       "            <tr>\n",
       "                        <th id=\"T_beab1_level0_row8\" class=\"row_heading level0 row8\" >8</th>\n",
       "                        <td id=\"T_beab1_row8_col0\" class=\"data row8 col0\" >2024-09-09</td>\n",
       "                        <td id=\"T_beab1_row8_col1\" class=\"data row8 col1\" >1754</td>\n",
       "                        <td id=\"T_beab1_row8_col2\" class=\"data row8 col2\" >785</td>\n",
       "                        <td id=\"T_beab1_row8_col3\" class=\"data row8 col3\" >174.4 руб</td>\n",
       "                        <td id=\"T_beab1_row8_col4\" class=\"data row8 col4\" >2.23</td>\n",
       "            </tr>\n",
       "            <tr>\n",
       "                        <th id=\"T_beab1_level0_row9\" class=\"row_heading level0 row9\" >9</th>\n",
       "                        <td id=\"T_beab1_row9_col0\" class=\"data row9 col0\" >2024-09-10</td>\n",
       "                        <td id=\"T_beab1_row9_col1\" class=\"data row9 col1\" >1705</td>\n",
       "                        <td id=\"T_beab1_row9_col2\" class=\"data row9 col2\" >766</td>\n",
       "                        <td id=\"T_beab1_row9_col3\" class=\"data row9 col3\" >198.4 руб</td>\n",
       "                        <td id=\"T_beab1_row9_col4\" class=\"data row9 col4\" >2.23</td>\n",
       "            </tr>\n",
       "            <tr>\n",
       "                        <th id=\"T_beab1_level0_row10\" class=\"row_heading level0 row10\" >10</th>\n",
       "                        <td id=\"T_beab1_row10_col0\" class=\"data row10 col0\" >2024-09-11</td>\n",
       "                        <td id=\"T_beab1_row10_col1\" class=\"data row10 col1\" >1918</td>\n",
       "                        <td id=\"T_beab1_row10_col2\" class=\"data row10 col2\" >823</td>\n",
       "                        <td id=\"T_beab1_row10_col3\" class=\"data row10 col3\" >184.7 руб</td>\n",
       "                        <td id=\"T_beab1_row10_col4\" class=\"data row10 col4\" >2.33</td>\n",
       "            </tr>\n",
       "            <tr>\n",
       "                        <th id=\"T_beab1_level0_row11\" class=\"row_heading level0 row11\" >11</th>\n",
       "                        <td id=\"T_beab1_row11_col0\" class=\"data row11 col0\" >2024-09-12</td>\n",
       "                        <td id=\"T_beab1_row11_col1\" class=\"data row11 col1\" >1985</td>\n",
       "                        <td id=\"T_beab1_row11_col2\" class=\"data row11 col2\" >860</td>\n",
       "                        <td id=\"T_beab1_row11_col3\" class=\"data row11 col3\" >197.6 руб</td>\n",
       "                        <td id=\"T_beab1_row11_col4\" class=\"data row11 col4\" >2.31</td>\n",
       "            </tr>\n",
       "            <tr>\n",
       "                        <th id=\"T_beab1_level0_row12\" class=\"row_heading level0 row12\" >12</th>\n",
       "                        <td id=\"T_beab1_row12_col0\" class=\"data row12 col0\" >2024-09-13</td>\n",
       "                        <td id=\"T_beab1_row12_col1\" class=\"data row12 col1\" >2232</td>\n",
       "                        <td id=\"T_beab1_row12_col2\" class=\"data row12 col2\" >953</td>\n",
       "                        <td id=\"T_beab1_row12_col3\" class=\"data row12 col3\" >197.1 руб</td>\n",
       "                        <td id=\"T_beab1_row12_col4\" class=\"data row12 col4\" >2.34</td>\n",
       "            </tr>\n",
       "            <tr>\n",
       "                        <th id=\"T_beab1_level0_row13\" class=\"row_heading level0 row13\" >13</th>\n",
       "                        <td id=\"T_beab1_row13_col0\" class=\"data row13 col0\" >2024-09-14</td>\n",
       "                        <td id=\"T_beab1_row13_col1\" class=\"data row13 col1\" >1922</td>\n",
       "                        <td id=\"T_beab1_row13_col2\" class=\"data row13 col2\" >841</td>\n",
       "                        <td id=\"T_beab1_row13_col3\" class=\"data row13 col3\" >185.0 руб</td>\n",
       "                        <td id=\"T_beab1_row13_col4\" class=\"data row13 col4\" >2.29</td>\n",
       "            </tr>\n",
       "            <tr>\n",
       "                        <th id=\"T_beab1_level0_row14\" class=\"row_heading level0 row14\" >14</th>\n",
       "                        <td id=\"T_beab1_row14_col0\" class=\"data row14 col0\" >2024-09-15</td>\n",
       "                        <td id=\"T_beab1_row14_col1\" class=\"data row14 col1\" >1675</td>\n",
       "                        <td id=\"T_beab1_row14_col2\" class=\"data row14 col2\" >718</td>\n",
       "                        <td id=\"T_beab1_row14_col3\" class=\"data row14 col3\" >224.9 руб</td>\n",
       "                        <td id=\"T_beab1_row14_col4\" class=\"data row14 col4\" >2.33</td>\n",
       "            </tr>\n",
       "            <tr>\n",
       "                        <th id=\"T_beab1_level0_row15\" class=\"row_heading level0 row15\" >15</th>\n",
       "                        <td id=\"T_beab1_row15_col0\" class=\"data row15 col0\" >2024-09-16</td>\n",
       "                        <td id=\"T_beab1_row15_col1\" class=\"data row15 col1\" >1748</td>\n",
       "                        <td id=\"T_beab1_row15_col2\" class=\"data row15 col2\" >754</td>\n",
       "                        <td id=\"T_beab1_row15_col3\" class=\"data row15 col3\" >202.8 руб</td>\n",
       "                        <td id=\"T_beab1_row15_col4\" class=\"data row15 col4\" >2.32</td>\n",
       "            </tr>\n",
       "            <tr>\n",
       "                        <th id=\"T_beab1_level0_row16\" class=\"row_heading level0 row16\" >16</th>\n",
       "                        <td id=\"T_beab1_row16_col0\" class=\"data row16 col0\" >2024-09-17</td>\n",
       "                        <td id=\"T_beab1_row16_col1\" class=\"data row16 col1\" >1853</td>\n",
       "                        <td id=\"T_beab1_row16_col2\" class=\"data row16 col2\" >787</td>\n",
       "                        <td id=\"T_beab1_row16_col3\" class=\"data row16 col3\" >203.4 руб</td>\n",
       "                        <td id=\"T_beab1_row16_col4\" class=\"data row16 col4\" >2.35</td>\n",
       "            </tr>\n",
       "            <tr>\n",
       "                        <th id=\"T_beab1_level0_row17\" class=\"row_heading level0 row17\" >17</th>\n",
       "                        <td id=\"T_beab1_row17_col0\" class=\"data row17 col0\" >2024-09-18</td>\n",
       "                        <td id=\"T_beab1_row17_col1\" class=\"data row17 col1\" >1991</td>\n",
       "                        <td id=\"T_beab1_row17_col2\" class=\"data row17 col2\" >827</td>\n",
       "                        <td id=\"T_beab1_row17_col3\" class=\"data row17 col3\" >201.6 руб</td>\n",
       "                        <td id=\"T_beab1_row17_col4\" class=\"data row17 col4\" >2.41</td>\n",
       "            </tr>\n",
       "            <tr>\n",
       "                        <th id=\"T_beab1_level0_row18\" class=\"row_heading level0 row18\" >18</th>\n",
       "                        <td id=\"T_beab1_row18_col0\" class=\"data row18 col0\" >2024-09-19</td>\n",
       "                        <td id=\"T_beab1_row18_col1\" class=\"data row18 col1\" >2075</td>\n",
       "                        <td id=\"T_beab1_row18_col2\" class=\"data row18 col2\" >844</td>\n",
       "                        <td id=\"T_beab1_row18_col3\" class=\"data row18 col3\" >203.7 руб</td>\n",
       "                        <td id=\"T_beab1_row18_col4\" class=\"data row18 col4\" >2.46</td>\n",
       "            </tr>\n",
       "            <tr>\n",
       "                        <th id=\"T_beab1_level0_row19\" class=\"row_heading level0 row19\" >19</th>\n",
       "                        <td id=\"T_beab1_row19_col0\" class=\"data row19 col0\" >2024-09-20</td>\n",
       "                        <td id=\"T_beab1_row19_col1\" class=\"data row19 col1\" >2352</td>\n",
       "                        <td id=\"T_beab1_row19_col2\" class=\"data row19 col2\" >955</td>\n",
       "                        <td id=\"T_beab1_row19_col3\" class=\"data row19 col3\" >201.8 руб</td>\n",
       "                        <td id=\"T_beab1_row19_col4\" class=\"data row19 col4\" >2.46</td>\n",
       "            </tr>\n",
       "            <tr>\n",
       "                        <th id=\"T_beab1_level0_row20\" class=\"row_heading level0 row20\" >20</th>\n",
       "                        <td id=\"T_beab1_row20_col0\" class=\"data row20 col0\" >2024-09-21</td>\n",
       "                        <td id=\"T_beab1_row20_col1\" class=\"data row20 col1\" >2029</td>\n",
       "                        <td id=\"T_beab1_row20_col2\" class=\"data row20 col2\" >883</td>\n",
       "                        <td id=\"T_beab1_row20_col3\" class=\"data row20 col3\" >200.6 руб</td>\n",
       "                        <td id=\"T_beab1_row20_col4\" class=\"data row20 col4\" >2.30</td>\n",
       "            </tr>\n",
       "            <tr>\n",
       "                        <th id=\"T_beab1_level0_row21\" class=\"row_heading level0 row21\" >21</th>\n",
       "                        <td id=\"T_beab1_row21_col0\" class=\"data row21 col0\" >2024-09-22</td>\n",
       "                        <td id=\"T_beab1_row21_col1\" class=\"data row21 col1\" >1638</td>\n",
       "                        <td id=\"T_beab1_row21_col2\" class=\"data row21 col2\" >788</td>\n",
       "                        <td id=\"T_beab1_row21_col3\" class=\"data row21 col3\" >216.6 руб</td>\n",
       "                        <td id=\"T_beab1_row21_col4\" class=\"data row21 col4\" >2.08</td>\n",
       "            </tr>\n",
       "            <tr>\n",
       "                        <th id=\"T_beab1_level0_row22\" class=\"row_heading level0 row22\" >22</th>\n",
       "                        <td id=\"T_beab1_row22_col0\" class=\"data row22 col0\" >2024-09-23</td>\n",
       "                        <td id=\"T_beab1_row22_col1\" class=\"data row22 col1\" >1923</td>\n",
       "                        <td id=\"T_beab1_row22_col2\" class=\"data row22 col2\" >807</td>\n",
       "                        <td id=\"T_beab1_row22_col3\" class=\"data row22 col3\" >195.9 руб</td>\n",
       "                        <td id=\"T_beab1_row22_col4\" class=\"data row22 col4\" >2.38</td>\n",
       "            </tr>\n",
       "            <tr>\n",
       "                        <th id=\"T_beab1_level0_row23\" class=\"row_heading level0 row23\" >23</th>\n",
       "                        <td id=\"T_beab1_row23_col0\" class=\"data row23 col0\" >2024-09-24</td>\n",
       "                        <td id=\"T_beab1_row23_col1\" class=\"data row23 col1\" >2223</td>\n",
       "                        <td id=\"T_beab1_row23_col2\" class=\"data row23 col2\" >953</td>\n",
       "                        <td id=\"T_beab1_row23_col3\" class=\"data row23 col3\" >173.0 руб</td>\n",
       "                        <td id=\"T_beab1_row23_col4\" class=\"data row23 col4\" >2.33</td>\n",
       "            </tr>\n",
       "            <tr>\n",
       "                        <th id=\"T_beab1_level0_row24\" class=\"row_heading level0 row24\" >24</th>\n",
       "                        <td id=\"T_beab1_row24_col0\" class=\"data row24 col0\" >2024-09-25</td>\n",
       "                        <td id=\"T_beab1_row24_col1\" class=\"data row24 col1\" >2224</td>\n",
       "                        <td id=\"T_beab1_row24_col2\" class=\"data row24 col2\" >965</td>\n",
       "                        <td id=\"T_beab1_row24_col3\" class=\"data row24 col3\" >193.1 руб</td>\n",
       "                        <td id=\"T_beab1_row24_col4\" class=\"data row24 col4\" >2.30</td>\n",
       "            </tr>\n",
       "            <tr>\n",
       "                        <th id=\"T_beab1_level0_row25\" class=\"row_heading level0 row25\" >25</th>\n",
       "                        <td id=\"T_beab1_row25_col0\" class=\"data row25 col0\" >2024-09-26</td>\n",
       "                        <td id=\"T_beab1_row25_col1\" class=\"data row25 col1\" >2109</td>\n",
       "                        <td id=\"T_beab1_row25_col2\" class=\"data row25 col2\" >898</td>\n",
       "                        <td id=\"T_beab1_row25_col3\" class=\"data row25 col3\" >239.7 руб</td>\n",
       "                        <td id=\"T_beab1_row25_col4\" class=\"data row25 col4\" >2.35</td>\n",
       "            </tr>\n",
       "            <tr>\n",
       "                        <th id=\"T_beab1_level0_row26\" class=\"row_heading level0 row26\" >26</th>\n",
       "                        <td id=\"T_beab1_row26_col0\" class=\"data row26 col0\" >2024-09-27</td>\n",
       "                        <td id=\"T_beab1_row26_col1\" class=\"data row26 col1\" >2349</td>\n",
       "                        <td id=\"T_beab1_row26_col2\" class=\"data row26 col2\" >1026</td>\n",
       "                        <td id=\"T_beab1_row26_col3\" class=\"data row26 col3\" >217.0 руб</td>\n",
       "                        <td id=\"T_beab1_row26_col4\" class=\"data row26 col4\" >2.29</td>\n",
       "            </tr>\n",
       "            <tr>\n",
       "                        <th id=\"T_beab1_level0_row27\" class=\"row_heading level0 row27\" >27</th>\n",
       "                        <td id=\"T_beab1_row27_col0\" class=\"data row27 col0\" >2024-09-28</td>\n",
       "                        <td id=\"T_beab1_row27_col1\" class=\"data row27 col1\" >2151</td>\n",
       "                        <td id=\"T_beab1_row27_col2\" class=\"data row27 col2\" >931</td>\n",
       "                        <td id=\"T_beab1_row27_col3\" class=\"data row27 col3\" >202.4 руб</td>\n",
       "                        <td id=\"T_beab1_row27_col4\" class=\"data row27 col4\" >2.31</td>\n",
       "            </tr>\n",
       "            <tr>\n",
       "                        <th id=\"T_beab1_level0_row28\" class=\"row_heading level0 row28\" >28</th>\n",
       "                        <td id=\"T_beab1_row28_col0\" class=\"data row28 col0\" >2024-09-29</td>\n",
       "                        <td id=\"T_beab1_row28_col1\" class=\"data row28 col1\" >1892</td>\n",
       "                        <td id=\"T_beab1_row28_col2\" class=\"data row28 col2\" >848</td>\n",
       "                        <td id=\"T_beab1_row28_col3\" class=\"data row28 col3\" >217.9 руб</td>\n",
       "                        <td id=\"T_beab1_row28_col4\" class=\"data row28 col4\" >2.23</td>\n",
       "            </tr>\n",
       "            <tr>\n",
       "                        <th id=\"T_beab1_level0_row29\" class=\"row_heading level0 row29\" >29</th>\n",
       "                        <td id=\"T_beab1_row29_col0\" class=\"data row29 col0\" >2024-09-30</td>\n",
       "                        <td id=\"T_beab1_row29_col1\" class=\"data row29 col1\" >1996</td>\n",
       "                        <td id=\"T_beab1_row29_col2\" class=\"data row29 col2\" >886</td>\n",
       "                        <td id=\"T_beab1_row29_col3\" class=\"data row29 col3\" >222.8 руб</td>\n",
       "                        <td id=\"T_beab1_row29_col4\" class=\"data row29 col4\" >2.25</td>\n",
       "            </tr>\n",
       "            <tr>\n",
       "                        <th id=\"T_beab1_level0_row30\" class=\"row_heading level0 row30\" >30</th>\n",
       "                        <td id=\"T_beab1_row30_col0\" class=\"data row30 col0\" >2024-10-01</td>\n",
       "                        <td id=\"T_beab1_row30_col1\" class=\"data row30 col1\" >3628</td>\n",
       "                        <td id=\"T_beab1_row30_col2\" class=\"data row30 col2\" >1105</td>\n",
       "                        <td id=\"T_beab1_row30_col3\" class=\"data row30 col3\" >139.7 руб</td>\n",
       "                        <td id=\"T_beab1_row30_col4\" class=\"data row30 col4\" >3.28</td>\n",
       "            </tr>\n",
       "            <tr>\n",
       "                        <th id=\"T_beab1_level0_row31\" class=\"row_heading level0 row31\" >31</th>\n",
       "                        <td id=\"T_beab1_row31_col0\" class=\"data row31 col0\" >2024-10-02</td>\n",
       "                        <td id=\"T_beab1_row31_col1\" class=\"data row31 col1\" >2181</td>\n",
       "                        <td id=\"T_beab1_row31_col2\" class=\"data row31 col2\" >922</td>\n",
       "                        <td id=\"T_beab1_row31_col3\" class=\"data row31 col3\" >213.6 руб</td>\n",
       "                        <td id=\"T_beab1_row31_col4\" class=\"data row31 col4\" >2.37</td>\n",
       "            </tr>\n",
       "            <tr>\n",
       "                        <th id=\"T_beab1_level0_row32\" class=\"row_heading level0 row32\" >32</th>\n",
       "                        <td id=\"T_beab1_row32_col0\" class=\"data row32 col0\" >2024-10-03</td>\n",
       "                        <td id=\"T_beab1_row32_col1\" class=\"data row32 col1\" >2286</td>\n",
       "                        <td id=\"T_beab1_row32_col2\" class=\"data row32 col2\" >960</td>\n",
       "                        <td id=\"T_beab1_row32_col3\" class=\"data row32 col3\" >230.6 руб</td>\n",
       "                        <td id=\"T_beab1_row32_col4\" class=\"data row32 col4\" >2.38</td>\n",
       "            </tr>\n",
       "            <tr>\n",
       "                        <th id=\"T_beab1_level0_row33\" class=\"row_heading level0 row33\" >33</th>\n",
       "                        <td id=\"T_beab1_row33_col0\" class=\"data row33 col0\" >2024-10-04</td>\n",
       "                        <td id=\"T_beab1_row33_col1\" class=\"data row33 col1\" >2470</td>\n",
       "                        <td id=\"T_beab1_row33_col2\" class=\"data row33 col2\" >973</td>\n",
       "                        <td id=\"T_beab1_row33_col3\" class=\"data row33 col3\" >226.1 руб</td>\n",
       "                        <td id=\"T_beab1_row33_col4\" class=\"data row33 col4\" >2.54</td>\n",
       "            </tr>\n",
       "            <tr>\n",
       "                        <th id=\"T_beab1_level0_row34\" class=\"row_heading level0 row34\" >34</th>\n",
       "                        <td id=\"T_beab1_row34_col0\" class=\"data row34 col0\" >2024-10-05</td>\n",
       "                        <td id=\"T_beab1_row34_col1\" class=\"data row34 col1\" >2340</td>\n",
       "                        <td id=\"T_beab1_row34_col2\" class=\"data row34 col2\" >985</td>\n",
       "                        <td id=\"T_beab1_row34_col3\" class=\"data row34 col3\" >209.4 руб</td>\n",
       "                        <td id=\"T_beab1_row34_col4\" class=\"data row34 col4\" >2.38</td>\n",
       "            </tr>\n",
       "            <tr>\n",
       "                        <th id=\"T_beab1_level0_row35\" class=\"row_heading level0 row35\" >35</th>\n",
       "                        <td id=\"T_beab1_row35_col0\" class=\"data row35 col0\" >2024-10-06</td>\n",
       "                        <td id=\"T_beab1_row35_col1\" class=\"data row35 col1\" >2045</td>\n",
       "                        <td id=\"T_beab1_row35_col2\" class=\"data row35 col2\" >895</td>\n",
       "                        <td id=\"T_beab1_row35_col3\" class=\"data row35 col3\" >205.6 руб</td>\n",
       "                        <td id=\"T_beab1_row35_col4\" class=\"data row35 col4\" >2.28</td>\n",
       "            </tr>\n",
       "            <tr>\n",
       "                        <th id=\"T_beab1_level0_row36\" class=\"row_heading level0 row36\" >36</th>\n",
       "                        <td id=\"T_beab1_row36_col0\" class=\"data row36 col0\" >2024-10-07</td>\n",
       "                        <td id=\"T_beab1_row36_col1\" class=\"data row36 col1\" >2259</td>\n",
       "                        <td id=\"T_beab1_row36_col2\" class=\"data row36 col2\" >911</td>\n",
       "                        <td id=\"T_beab1_row36_col3\" class=\"data row36 col3\" >202.5 руб</td>\n",
       "                        <td id=\"T_beab1_row36_col4\" class=\"data row36 col4\" >2.48</td>\n",
       "            </tr>\n",
       "            <tr>\n",
       "                        <th id=\"T_beab1_level0_row37\" class=\"row_heading level0 row37\" >37</th>\n",
       "                        <td id=\"T_beab1_row37_col0\" class=\"data row37 col0\" >2024-10-08</td>\n",
       "                        <td id=\"T_beab1_row37_col1\" class=\"data row37 col1\" >2250</td>\n",
       "                        <td id=\"T_beab1_row37_col2\" class=\"data row37 col2\" >970</td>\n",
       "                        <td id=\"T_beab1_row37_col3\" class=\"data row37 col3\" >192.4 руб</td>\n",
       "                        <td id=\"T_beab1_row37_col4\" class=\"data row37 col4\" >2.32</td>\n",
       "            </tr>\n",
       "            <tr>\n",
       "                        <th id=\"T_beab1_level0_row38\" class=\"row_heading level0 row38\" >38</th>\n",
       "                        <td id=\"T_beab1_row38_col0\" class=\"data row38 col0\" >2024-10-09</td>\n",
       "                        <td id=\"T_beab1_row38_col1\" class=\"data row38 col1\" >2228</td>\n",
       "                        <td id=\"T_beab1_row38_col2\" class=\"data row38 col2\" >973</td>\n",
       "                        <td id=\"T_beab1_row38_col3\" class=\"data row38 col3\" >201.1 руб</td>\n",
       "                        <td id=\"T_beab1_row38_col4\" class=\"data row38 col4\" >2.29</td>\n",
       "            </tr>\n",
       "            <tr>\n",
       "                        <th id=\"T_beab1_level0_row39\" class=\"row_heading level0 row39\" >39</th>\n",
       "                        <td id=\"T_beab1_row39_col0\" class=\"data row39 col0\" >2024-10-10</td>\n",
       "                        <td id=\"T_beab1_row39_col1\" class=\"data row39 col1\" >2563</td>\n",
       "                        <td id=\"T_beab1_row39_col2\" class=\"data row39 col2\" >1053</td>\n",
       "                        <td id=\"T_beab1_row39_col3\" class=\"data row39 col3\" >198.0 руб</td>\n",
       "                        <td id=\"T_beab1_row39_col4\" class=\"data row39 col4\" >2.43</td>\n",
       "            </tr>\n",
       "            <tr>\n",
       "                        <th id=\"T_beab1_level0_row40\" class=\"row_heading level0 row40\" >40</th>\n",
       "                        <td id=\"T_beab1_row40_col0\" class=\"data row40 col0\" >2024-10-11</td>\n",
       "                        <td id=\"T_beab1_row40_col1\" class=\"data row40 col1\" >2636</td>\n",
       "                        <td id=\"T_beab1_row40_col2\" class=\"data row40 col2\" >1076</td>\n",
       "                        <td id=\"T_beab1_row40_col3\" class=\"data row40 col3\" >207.6 руб</td>\n",
       "                        <td id=\"T_beab1_row40_col4\" class=\"data row40 col4\" >2.45</td>\n",
       "            </tr>\n",
       "            <tr>\n",
       "                        <th id=\"T_beab1_level0_row41\" class=\"row_heading level0 row41\" >41</th>\n",
       "                        <td id=\"T_beab1_row41_col0\" class=\"data row41 col0\" >2024-10-12</td>\n",
       "                        <td id=\"T_beab1_row41_col1\" class=\"data row41 col1\" >2415</td>\n",
       "                        <td id=\"T_beab1_row41_col2\" class=\"data row41 col2\" >1063</td>\n",
       "                        <td id=\"T_beab1_row41_col3\" class=\"data row41 col3\" >210.4 руб</td>\n",
       "                        <td id=\"T_beab1_row41_col4\" class=\"data row41 col4\" >2.27</td>\n",
       "            </tr>\n",
       "            <tr>\n",
       "                        <th id=\"T_beab1_level0_row42\" class=\"row_heading level0 row42\" >42</th>\n",
       "                        <td id=\"T_beab1_row42_col0\" class=\"data row42 col0\" >2024-10-13</td>\n",
       "                        <td id=\"T_beab1_row42_col1\" class=\"data row42 col1\" >2149</td>\n",
       "                        <td id=\"T_beab1_row42_col2\" class=\"data row42 col2\" >938</td>\n",
       "                        <td id=\"T_beab1_row42_col3\" class=\"data row42 col3\" >210.9 руб</td>\n",
       "                        <td id=\"T_beab1_row42_col4\" class=\"data row42 col4\" >2.29</td>\n",
       "            </tr>\n",
       "            <tr>\n",
       "                        <th id=\"T_beab1_level0_row43\" class=\"row_heading level0 row43\" >43</th>\n",
       "                        <td id=\"T_beab1_row43_col0\" class=\"data row43 col0\" >2024-10-14</td>\n",
       "                        <td id=\"T_beab1_row43_col1\" class=\"data row43 col1\" >2394</td>\n",
       "                        <td id=\"T_beab1_row43_col2\" class=\"data row43 col2\" >1042</td>\n",
       "                        <td id=\"T_beab1_row43_col3\" class=\"data row43 col3\" >192.7 руб</td>\n",
       "                        <td id=\"T_beab1_row43_col4\" class=\"data row43 col4\" >2.30</td>\n",
       "            </tr>\n",
       "            <tr>\n",
       "                        <th id=\"T_beab1_level0_row44\" class=\"row_heading level0 row44\" >44</th>\n",
       "                        <td id=\"T_beab1_row44_col0\" class=\"data row44 col0\" >2024-10-15</td>\n",
       "                        <td id=\"T_beab1_row44_col1\" class=\"data row44 col1\" >2892</td>\n",
       "                        <td id=\"T_beab1_row44_col2\" class=\"data row44 col2\" >1108</td>\n",
       "                        <td id=\"T_beab1_row44_col3\" class=\"data row44 col3\" >176.0 руб</td>\n",
       "                        <td id=\"T_beab1_row44_col4\" class=\"data row44 col4\" >2.61</td>\n",
       "            </tr>\n",
       "            <tr>\n",
       "                        <th id=\"T_beab1_level0_row45\" class=\"row_heading level0 row45\" >45</th>\n",
       "                        <td id=\"T_beab1_row45_col0\" class=\"data row45 col0\" >2024-10-16</td>\n",
       "                        <td id=\"T_beab1_row45_col1\" class=\"data row45 col1\" >2511</td>\n",
       "                        <td id=\"T_beab1_row45_col2\" class=\"data row45 col2\" >1095</td>\n",
       "                        <td id=\"T_beab1_row45_col3\" class=\"data row45 col3\" >207.4 руб</td>\n",
       "                        <td id=\"T_beab1_row45_col4\" class=\"data row45 col4\" >2.29</td>\n",
       "            </tr>\n",
       "            <tr>\n",
       "                        <th id=\"T_beab1_level0_row46\" class=\"row_heading level0 row46\" >46</th>\n",
       "                        <td id=\"T_beab1_row46_col0\" class=\"data row46 col0\" >2024-10-17</td>\n",
       "                        <td id=\"T_beab1_row46_col1\" class=\"data row46 col1\" >2550</td>\n",
       "                        <td id=\"T_beab1_row46_col2\" class=\"data row46 col2\" >1071</td>\n",
       "                        <td id=\"T_beab1_row46_col3\" class=\"data row46 col3\" >193.2 руб</td>\n",
       "                        <td id=\"T_beab1_row46_col4\" class=\"data row46 col4\" >2.38</td>\n",
       "            </tr>\n",
       "            <tr>\n",
       "                        <th id=\"T_beab1_level0_row47\" class=\"row_heading level0 row47\" >47</th>\n",
       "                        <td id=\"T_beab1_row47_col0\" class=\"data row47 col0\" >2024-10-18</td>\n",
       "                        <td id=\"T_beab1_row47_col1\" class=\"data row47 col1\" >3023</td>\n",
       "                        <td id=\"T_beab1_row47_col2\" class=\"data row47 col2\" >1154</td>\n",
       "                        <td id=\"T_beab1_row47_col3\" class=\"data row47 col3\" >197.0 руб</td>\n",
       "                        <td id=\"T_beab1_row47_col4\" class=\"data row47 col4\" >2.62</td>\n",
       "            </tr>\n",
       "            <tr>\n",
       "                        <th id=\"T_beab1_level0_row48\" class=\"row_heading level0 row48\" >48</th>\n",
       "                        <td id=\"T_beab1_row48_col0\" class=\"data row48 col0\" >2024-10-19</td>\n",
       "                        <td id=\"T_beab1_row48_col1\" class=\"data row48 col1\" >2618</td>\n",
       "                        <td id=\"T_beab1_row48_col2\" class=\"data row48 col2\" >1102</td>\n",
       "                        <td id=\"T_beab1_row48_col3\" class=\"data row48 col3\" >210.6 руб</td>\n",
       "                        <td id=\"T_beab1_row48_col4\" class=\"data row48 col4\" >2.38</td>\n",
       "            </tr>\n",
       "            <tr>\n",
       "                        <th id=\"T_beab1_level0_row49\" class=\"row_heading level0 row49\" >49</th>\n",
       "                        <td id=\"T_beab1_row49_col0\" class=\"data row49 col0\" >2024-10-20</td>\n",
       "                        <td id=\"T_beab1_row49_col1\" class=\"data row49 col1\" >2232</td>\n",
       "                        <td id=\"T_beab1_row49_col2\" class=\"data row49 col2\" >932</td>\n",
       "                        <td id=\"T_beab1_row49_col3\" class=\"data row49 col3\" >212.7 руб</td>\n",
       "                        <td id=\"T_beab1_row49_col4\" class=\"data row49 col4\" >2.39</td>\n",
       "            </tr>\n",
       "            <tr>\n",
       "                        <th id=\"T_beab1_level0_row50\" class=\"row_heading level0 row50\" >50</th>\n",
       "                        <td id=\"T_beab1_row50_col0\" class=\"data row50 col0\" >2024-10-21</td>\n",
       "                        <td id=\"T_beab1_row50_col1\" class=\"data row50 col1\" >2369</td>\n",
       "                        <td id=\"T_beab1_row50_col2\" class=\"data row50 col2\" >983</td>\n",
       "                        <td id=\"T_beab1_row50_col3\" class=\"data row50 col3\" >197.3 руб</td>\n",
       "                        <td id=\"T_beab1_row50_col4\" class=\"data row50 col4\" >2.41</td>\n",
       "            </tr>\n",
       "            <tr>\n",
       "                        <th id=\"T_beab1_level0_row51\" class=\"row_heading level0 row51\" >51</th>\n",
       "                        <td id=\"T_beab1_row51_col0\" class=\"data row51 col0\" >2024-10-22</td>\n",
       "                        <td id=\"T_beab1_row51_col1\" class=\"data row51 col1\" >2388</td>\n",
       "                        <td id=\"T_beab1_row51_col2\" class=\"data row51 col2\" >982</td>\n",
       "                        <td id=\"T_beab1_row51_col3\" class=\"data row51 col3\" >191.8 руб</td>\n",
       "                        <td id=\"T_beab1_row51_col4\" class=\"data row51 col4\" >2.43</td>\n",
       "            </tr>\n",
       "            <tr>\n",
       "                        <th id=\"T_beab1_level0_row52\" class=\"row_heading level0 row52\" >52</th>\n",
       "                        <td id=\"T_beab1_row52_col0\" class=\"data row52 col0\" >2024-10-23</td>\n",
       "                        <td id=\"T_beab1_row52_col1\" class=\"data row52 col1\" >2461</td>\n",
       "                        <td id=\"T_beab1_row52_col2\" class=\"data row52 col2\" >1037</td>\n",
       "                        <td id=\"T_beab1_row52_col3\" class=\"data row52 col3\" >200.2 руб</td>\n",
       "                        <td id=\"T_beab1_row52_col4\" class=\"data row52 col4\" >2.37</td>\n",
       "            </tr>\n",
       "            <tr>\n",
       "                        <th id=\"T_beab1_level0_row53\" class=\"row_heading level0 row53\" >53</th>\n",
       "                        <td id=\"T_beab1_row53_col0\" class=\"data row53 col0\" >2024-10-24</td>\n",
       "                        <td id=\"T_beab1_row53_col1\" class=\"data row53 col1\" >2579</td>\n",
       "                        <td id=\"T_beab1_row53_col2\" class=\"data row53 col2\" >1000</td>\n",
       "                        <td id=\"T_beab1_row53_col3\" class=\"data row53 col3\" >186.2 руб</td>\n",
       "                        <td id=\"T_beab1_row53_col4\" class=\"data row53 col4\" >2.58</td>\n",
       "            </tr>\n",
       "            <tr>\n",
       "                        <th id=\"T_beab1_level0_row54\" class=\"row_heading level0 row54\" >54</th>\n",
       "                        <td id=\"T_beab1_row54_col0\" class=\"data row54 col0\" >2024-10-25</td>\n",
       "                        <td id=\"T_beab1_row54_col1\" class=\"data row54 col1\" >3384</td>\n",
       "                        <td id=\"T_beab1_row54_col2\" class=\"data row54 col2\" >1227</td>\n",
       "                        <td id=\"T_beab1_row54_col3\" class=\"data row54 col3\" >183.5 руб</td>\n",
       "                        <td id=\"T_beab1_row54_col4\" class=\"data row54 col4\" >2.76</td>\n",
       "            </tr>\n",
       "            <tr>\n",
       "                        <th id=\"T_beab1_level0_row55\" class=\"row_heading level0 row55\" >55</th>\n",
       "                        <td id=\"T_beab1_row55_col0\" class=\"data row55 col0\" >2024-10-26</td>\n",
       "                        <td id=\"T_beab1_row55_col1\" class=\"data row55 col1\" >2817</td>\n",
       "                        <td id=\"T_beab1_row55_col2\" class=\"data row55 col2\" >1134</td>\n",
       "                        <td id=\"T_beab1_row55_col3\" class=\"data row55 col3\" >189.7 руб</td>\n",
       "                        <td id=\"T_beab1_row55_col4\" class=\"data row55 col4\" >2.48</td>\n",
       "            </tr>\n",
       "            <tr>\n",
       "                        <th id=\"T_beab1_level0_row56\" class=\"row_heading level0 row56\" >56</th>\n",
       "                        <td id=\"T_beab1_row56_col0\" class=\"data row56 col0\" >2024-10-27</td>\n",
       "                        <td id=\"T_beab1_row56_col1\" class=\"data row56 col1\" >2424</td>\n",
       "                        <td id=\"T_beab1_row56_col2\" class=\"data row56 col2\" >1039</td>\n",
       "                        <td id=\"T_beab1_row56_col3\" class=\"data row56 col3\" >192.6 руб</td>\n",
       "                        <td id=\"T_beab1_row56_col4\" class=\"data row56 col4\" >2.33</td>\n",
       "            </tr>\n",
       "            <tr>\n",
       "                        <th id=\"T_beab1_level0_row57\" class=\"row_heading level0 row57\" >57</th>\n",
       "                        <td id=\"T_beab1_row57_col0\" class=\"data row57 col0\" >2024-10-28</td>\n",
       "                        <td id=\"T_beab1_row57_col1\" class=\"data row57 col1\" >2435</td>\n",
       "                        <td id=\"T_beab1_row57_col2\" class=\"data row57 col2\" >988</td>\n",
       "                        <td id=\"T_beab1_row57_col3\" class=\"data row57 col3\" >178.2 руб</td>\n",
       "                        <td id=\"T_beab1_row57_col4\" class=\"data row57 col4\" >2.46</td>\n",
       "            </tr>\n",
       "            <tr>\n",
       "                        <th id=\"T_beab1_level0_row58\" class=\"row_heading level0 row58\" >58</th>\n",
       "                        <td id=\"T_beab1_row58_col0\" class=\"data row58 col0\" >2024-10-29</td>\n",
       "                        <td id=\"T_beab1_row58_col1\" class=\"data row58 col1\" >2409</td>\n",
       "                        <td id=\"T_beab1_row58_col2\" class=\"data row58 col2\" >1005</td>\n",
       "                        <td id=\"T_beab1_row58_col3\" class=\"data row58 col3\" >185.0 руб</td>\n",
       "                        <td id=\"T_beab1_row58_col4\" class=\"data row58 col4\" >2.40</td>\n",
       "            </tr>\n",
       "            <tr>\n",
       "                        <th id=\"T_beab1_level0_row59\" class=\"row_heading level0 row59\" >59</th>\n",
       "                        <td id=\"T_beab1_row59_col0\" class=\"data row59 col0\" >2024-10-30</td>\n",
       "                        <td id=\"T_beab1_row59_col1\" class=\"data row59 col1\" >2511</td>\n",
       "                        <td id=\"T_beab1_row59_col2\" class=\"data row59 col2\" >1050</td>\n",
       "                        <td id=\"T_beab1_row59_col3\" class=\"data row59 col3\" >187.0 руб</td>\n",
       "                        <td id=\"T_beab1_row59_col4\" class=\"data row59 col4\" >2.39</td>\n",
       "            </tr>\n",
       "            <tr>\n",
       "                        <th id=\"T_beab1_level0_row60\" class=\"row_heading level0 row60\" >60</th>\n",
       "                        <td id=\"T_beab1_row60_col0\" class=\"data row60 col0\" >2024-10-31</td>\n",
       "                        <td id=\"T_beab1_row60_col1\" class=\"data row60 col1\" >3623</td>\n",
       "                        <td id=\"T_beab1_row60_col2\" class=\"data row60 col2\" >1282</td>\n",
       "                        <td id=\"T_beab1_row60_col3\" class=\"data row60 col3\" >166.8 руб</td>\n",
       "                        <td id=\"T_beab1_row60_col4\" class=\"data row60 col4\" >2.83</td>\n",
       "            </tr>\n",
       "    </tbody></table>"
      ],
      "text/plain": [
       "<pandas.io.formats.style.Styler at 0x7fca396a5070>"
      ]
     },
     "metadata": {},
     "output_type": "display_data"
    }
   ],
   "source": [
    "# Подготовка данных\n",
    "autumn = df[df['season']=='осень']\n",
    "daily_stats = autumn.groupby('created_dt_msk').agg(\n",
    "    orders_count=('order_id', 'count'),\n",
    "    dau=('user_id', 'nunique'),\n",
    "    avg_ticket_price=('one_ticket_revenue_rub', 'mean')\n",
    ").reset_index()\n",
    "\n",
    "daily_stats['orders_per_user'] = daily_stats['orders_count'] / daily_stats['dau']\n",
    "\n",
    "# Форматирование данных для таблицы\n",
    "table_data = daily_stats.copy()\n",
    "table_data['created_dt_msk'] = table_data['created_dt_msk'].dt.strftime('%Y-%m-%d')\n",
    "table_data = table_data.round({\n",
    "    'orders_per_user': 2,\n",
    "    'avg_ticket_price': 1\n",
    "})\n",
    "\n",
    "# Переименование столбцов для читаемости\n",
    "table_data.columns = ['Дата', 'Заказы', 'DAU', 'Ср. цена билета', 'Заказов/польз.']\n",
    "\n",
    "# Вывод таблицы с стилизацией\n",
    "display(table_data.style\n",
    "       .background_gradient(cmap='Blues', subset=['Заказы', 'DAU'])\n",
    "       .background_gradient(cmap='Greens', subset=['Ср. цена билета'])\n",
    "       .background_gradient(cmap='Purples', subset=['Заказов/польз.'])\n",
    "       .format({\n",
    "           'Ср. цена билета': '{:.1f} руб',\n",
    "           'Заказов/польз.': '{:.2f}'\n",
    "       })\n",
    "       .set_caption('Дневные метрики за осенний сезон')\n",
    "       .set_table_styles([{\n",
    "           'selector': 'caption',\n",
    "           'props': [('font-size', '14pt'), ('font-weight', 'bold')]\n",
    "       }]))"
   ]
  },
  {
   "cell_type": "code",
   "execution_count": 26,
   "id": "423458b9-59fb-41aa-a8b1-c9e4f7391818",
   "metadata": {},
   "outputs": [
    {
     "data": {
      "image/png": "[encoded data removed]",
      "text/plain": [
       "<Figure size 1008x1296 with 4 Axes>"
      ]
     },
     "metadata": {
      "needs_background": "light"
     },
     "output_type": "display_data"
    }
   ],
   "source": [
    "# Визуализация\n",
    "fig, ax = plt.subplots(4, 1, figsize=(14, 18), sharex=True)\n",
    "metrics = ['orders_count', 'dau', 'orders_per_user', 'avg_ticket_price']\n",
    "titles = ['Заказы', 'Активные пользователи (DAU)', 'Заказов на пользователя', 'Ср. стоимость билета']\n",
    "formats = ['{:.0f}', '{:.0f}', '{:.2f}', '{:.1f}']  # Форматы чисел для каждой метрики\n",
    "\n",
    "for i, metric in enumerate(metrics):\n",
    "    # Строим график\n",
    "    sns.lineplot(data=daily_stats, x='created_dt_msk', y=metric, ax=ax[i], marker='o', linewidth=2.5)\n",
    "    ax[i].set_title(titles[i], fontsize=12, fontweight='bold')\n",
    "    ax[i].grid(True, linestyle='--', alpha=0.7)\n",
    "    \n",
    "    # Добавляем значения\n",
    "    for idx, row in daily_stats.iterrows():\n",
    "        # Определяем положение текста\n",
    "        offset = ax[i].get_ylim()[1] * 0.02  # 2% от диапазона Y\n",
    "        va = 'bottom' if row[metric] < daily_stats[metric].quantile(0.9) else 'top'\n",
    "        \n",
    "        # Форматируем значение\n",
    "        value_str = formats[i].format(row[metric])\n",
    "        \n",
    "        ax[i].text(\n",
    "            row['created_dt_msk'], \n",
    "            row[metric] + (offset if va == 'bottom' else -offset),\n",
    "            value_str,\n",
    "            ha='center', \n",
    "            va=va,\n",
    "            fontsize=9,\n",
    "            rotation=90,\n",
    "            bbox=dict(boxstyle='round,pad=0.2', facecolor='white', alpha=0.8, edgecolor='none')\n",
    "        )\n",
    "\n",
    "plt.tight_layout()\n",
    "plt.subplots_adjust(hspace=0.3)  # Увеличиваем вертикальный отступ между графиками\n",
    "plt.show()"
   ]
  },
  {
   "cell_type": "markdown",
   "id": "139aea9f-e2b3-41cb-9a08-ea1f75041a35",
   "metadata": {},
   "source": [
    "**2.2. Недельная цикличность**"
   ]
  },
  {
   "cell_type": "code",
   "execution_count": 27,
   "id": "01242b11-4070-45e4-942e-706eb59a3ea5",
   "metadata": {},
   "outputs": [
    {
     "data": {
      "image/png": "[encoded data removed]",
      "text/plain": [
       "<Figure size 864x432 with 1 Axes>"
      ]
     },
     "metadata": {
      "needs_background": "light"
     },
     "output_type": "display_data"
    }
   ],
   "source": [
    "# Добавляем день недели\n",
    "daily_stats['day_of_week'] = daily_stats['created_dt_msk'].dt.day_name()\n",
    "\n",
    "# Группируем и усредняем\n",
    "weekday_stats = daily_stats.groupby('day_of_week').mean(numeric_only=True)\n",
    "\n",
    "# Упорядочим дни недели\n",
    "days_order = ['Monday', 'Tuesday', 'Wednesday', 'Thursday', 'Friday', 'Saturday', 'Sunday']\n",
    "weekday_stats = weekday_stats.reindex(days_order)\n",
    "\n",
    "# Русские названия дней для отображения\n",
    "russian_days = {\n",
    "    'Monday': 'Пн',\n",
    "    'Tuesday': 'Вт',\n",
    "    'Wednesday': 'Ср',\n",
    "    'Thursday': 'Чт',\n",
    "    'Friday': 'Пт',\n",
    "    'Saturday': 'Сб',\n",
    "    'Sunday': 'Вс'\n",
    "}\n",
    "\n",
    "# Визуализация\n",
    "plt.figure(figsize=(12, 6))\n",
    "ax = sns.barplot(x=weekday_stats.index, y=weekday_stats['orders_count'], palette='viridis')\n",
    "\n",
    "# Добавляем значения на каждый столбец\n",
    "for i, bar in enumerate(ax.patches):\n",
    "    # Получаем значение высоты столбца\n",
    "    value = bar.get_height()\n",
    "    \n",
    "    # Форматируем значение (целое число)\n",
    "    value_text = f'{value:.0f}'\n",
    "    \n",
    "    # Позиция для текста\n",
    "    x = bar.get_x() + bar.get_width() / 2\n",
    "    y = value + 0.5  # Небольшое смещение над столбцом\n",
    "    \n",
    "    # Добавляем текст\n",
    "    ax.text(\n",
    "        x, y, value_text,\n",
    "        ha='center', va='bottom',\n",
    "        fontsize=10, fontweight='bold',\n",
    "        color='black'\n",
    "    )\n",
    "\n",
    "# Заменяем английские названия дней на русские сокращения\n",
    "ax.set_xticklabels([russian_days.get(day.get_text(), day.get_text()) for day in ax.get_xticklabels()])\n",
    "\n",
    "plt.title('Среднее количество заказов по дням недели (осень 2024)', fontsize=14, fontweight='bold')\n",
    "plt.ylabel('Заказов в день')\n",
    "plt.grid(axis='y', linestyle='--', alpha=0.7)\n",
    "\n",
    "# Убираем лишние отступы\n",
    "plt.ylim(0, weekday_stats['orders_count'].max() * 1.1)  # +10% места для подписей\n",
    "\n",
    "plt.tight_layout()\n",
    "plt.show()"
   ]
  },
  {
   "cell_type": "markdown",
   "id": "4fcbc016-145e-4d5d-8328-adda49e0f1e6",
   "metadata": {},
   "source": [
    "**Промежуточные выводы:**\n",
    "\n",
    "- Люди стали покупать больше к концу осени\n",
    "\n",
    "    - В октябре заказов и пользователей (DAU) было на 20-30% больше, чем в сентябре.\n",
    "    - Пики: 1 и 31 октября — рекордные продажи (3,600+ заказов).\n",
    "\n",
    "- По выходным — меньше покупок, в середине недели — больше\n",
    "\n",
    "    - В воскресенье заказов обычно меньше.\n",
    "    - В четверг-пятницу — самые высокие продажи.\n",
    "\n",
    "- Когда билеты дешевле — их покупают чаще\n",
    "\n",
    "    - 3 сентября цена упала до 119 ₽ → заказов стало в 2 раза больше, чем в обычный день.\n",
    "    - 1 октября цена снизилась до 140 ₽ → заказов стало в 1.5 раза больше.\n",
    "\n",
    "- В среднем 1 пользователь покупает 2 билета\n",
    "\n",
    "    - Обычно 2-2.5 заказа на человека, но в дни акций — до 3-3.5.\n",
    "\n",
    "**Выводы:**\n",
    "\n",
    "- Выгоднее делать скидки — это привлекает больше покупателей.\n",
    "- Лучшие дни для рекламы — среда-пятница (люди активнее).\n",
    "- Конец октября — самый \"горячий\" период, нужно быть готовым к нагрузке."
   ]
  },
  {
   "cell_type": "markdown",
   "id": "99d11d18-cf8f-4cd4-9139-9521e606ecd4",
   "metadata": {},
   "source": [
    "**3. Популярные события и партнёры**\n",
    "\n",
    "**3.1. Региональный анализ**"
   ]
  },
  {
   "cell_type": "code",
   "execution_count": 28,
   "id": "2e8c5a1b-9476-47f6-b41a-adc0eb265a8a",
   "metadata": {},
   "outputs": [
    {
     "data": {
      "text/html": [
       "<div>\n",
       "<style scoped>\n",
       "    .dataframe tbody tr th:only-of-type {\n",
       "        vertical-align: middle;\n",
       "    }\n",
       "\n",
       "    .dataframe tbody tr th {\n",
       "        vertical-align: top;\n",
       "    }\n",
       "\n",
       "    .dataframe thead th {\n",
       "        text-align: right;\n",
       "    }\n",
       "</style>\n",
       "<table border=\"1\" class=\"dataframe\">\n",
       "  <thead>\n",
       "    <tr style=\"text-align: right;\">\n",
       "      <th></th>\n",
       "      <th>Кол-во мероприятий</th>\n",
       "      <th>Кол-во заказов</th>\n",
       "      <th>Общая выручка, руб</th>\n",
       "      <th>Доля заказов, %</th>\n",
       "      <th>Доля мероприятий, %</th>\n",
       "    </tr>\n",
       "    <tr>\n",
       "      <th>Регион</th>\n",
       "      <th></th>\n",
       "      <th></th>\n",
       "      <th></th>\n",
       "      <th></th>\n",
       "      <th></th>\n",
       "    </tr>\n",
       "  </thead>\n",
       "  <tbody>\n",
       "    <tr>\n",
       "      <th>Каменевский регион</th>\n",
       "      <td>5983</td>\n",
       "      <td>75 617</td>\n",
       "      <td>51 735 377</td>\n",
       "      <td>44.5%</td>\n",
       "      <td>40.1%</td>\n",
       "    </tr>\n",
       "    <tr>\n",
       "      <th>Североярская область</th>\n",
       "      <td>3814</td>\n",
       "      <td>37 794</td>\n",
       "      <td>21 671 630</td>\n",
       "      <td>22.3%</td>\n",
       "      <td>25.6%</td>\n",
       "    </tr>\n",
       "    <tr>\n",
       "      <th>Широковская область</th>\n",
       "      <td>1233</td>\n",
       "      <td>13 807</td>\n",
       "      <td>7 741 271</td>\n",
       "      <td>8.1%</td>\n",
       "      <td>8.3%</td>\n",
       "    </tr>\n",
       "    <tr>\n",
       "      <th>Озернинский край</th>\n",
       "      <td>349</td>\n",
       "      <td>8 658</td>\n",
       "      <td>8 084 800</td>\n",
       "      <td>5.1%</td>\n",
       "      <td>2.3%</td>\n",
       "    </tr>\n",
       "    <tr>\n",
       "      <th>Медовская область</th>\n",
       "      <td>504</td>\n",
       "      <td>6 815</td>\n",
       "      <td>1 953 788</td>\n",
       "      <td>4.0%</td>\n",
       "      <td>3.4%</td>\n",
       "    </tr>\n",
       "  </tbody>\n",
       "</table>\n",
       "</div>"
      ],
      "text/plain": [
       "                      Кол-во мероприятий Кол-во заказов Общая выручка, руб  \\\n",
       "Регион                                                                       \n",
       "Каменевский регион                  5983         75 617         51 735 377   \n",
       "Североярская область                3814         37 794         21 671 630   \n",
       "Широковская область                 1233         13 807          7 741 271   \n",
       "Озернинский край                     349          8 658          8 084 800   \n",
       "Медовская область                    504          6 815          1 953 788   \n",
       "\n",
       "                     Доля заказов, % Доля мероприятий, %  \n",
       "Регион                                                    \n",
       "Каменевский регион             44.5%               40.1%  \n",
       "Североярская область           22.3%               25.6%  \n",
       "Широковская область             8.1%                8.3%  \n",
       "Озернинский край                5.1%                2.3%  \n",
       "Медовская область               4.0%                3.4%  "
      ]
     },
     "metadata": {},
     "output_type": "display_data"
    }
   ],
   "source": [
    "# Устанавливаем форматирование чисел\n",
    "pd.options.display.float_format = '{:,.2f}'.format\n",
    "pd.set_option('display.float_format', lambda x: '%.2f' % x)\n",
    "\n",
    "# Региональный анализ\n",
    "region_analysis = df.groupby('region_name').agg(\n",
    "    events_count=('event_id', 'nunique'),\n",
    "    orders_count=('order_id', 'count'),\n",
    "    total_revenue=('revenue_rub', 'sum')\n",
    ").sort_values('orders_count', ascending=False).head(10)\n",
    "\n",
    "# Доли от общего количества\n",
    "region_analysis['orders_share'] = region_analysis['orders_count'] / region_analysis['orders_count'].sum() * 100\n",
    "region_analysis['events_share'] = region_analysis['events_count'] / region_analysis['events_count'].sum() * 100\n",
    "\n",
    "# Форматируем большие числа с разделителями тысяч\n",
    "region_analysis_formatted = region_analysis.copy()\n",
    "\n",
    "# Переименовываем столбцы\n",
    "region_analysis_formatted = region_analysis_formatted.rename(columns={\n",
    "    'events_count': 'Кол-во мероприятий',\n",
    "    'orders_count': 'Кол-во заказов',\n",
    "    'total_revenue': 'Общая выручка, руб',\n",
    "    'orders_share': 'Доля заказов, %',\n",
    "    'events_share': 'Доля мероприятий, %'\n",
    "})\n",
    "\n",
    "# Форматирование числовых значений\n",
    "region_analysis_formatted['Кол-во заказов'] = region_analysis_formatted['Кол-во заказов'].apply(\n",
    "    lambda x: f\"{x:,.0f}\".replace(\",\", \" \"))\n",
    "region_analysis_formatted['Общая выручка, руб'] = region_analysis_formatted['Общая выручка, руб'].apply(\n",
    "    lambda x: f\"{x:,.0f}\".replace(\",\", \" \"))\n",
    "region_analysis_formatted['Доля заказов, %'] = region_analysis_formatted['Доля заказов, %'].apply(\n",
    "    lambda x: f\"{x:.1f}%\")\n",
    "region_analysis_formatted['Доля мероприятий, %'] = region_analysis_formatted['Доля мероприятий, %'].apply(\n",
    "    lambda x: f\"{x:.1f}%\")\n",
    "\n",
    "# Переименовываем индекс\n",
    "region_analysis_formatted = region_analysis_formatted.rename_axis('Регион')\n",
    "\n",
    "# Показываем отформатированную таблицу\n",
    "display(region_analysis_formatted.head())"
   ]
  },
  {
   "cell_type": "markdown",
   "id": "a5d23221-a699-4cfe-8efb-86420bc8c0d9",
   "metadata": {},
   "source": [
    "**Промежуточные выводы:**\n",
    "\n",
    "- Абсолютный лидер — Каменевский регион\n",
    "\n",
    "    - 44,5% всех заказов и 40,1% мероприятий\n",
    "    \n",
    "    - Выручка: 51,7 млн руб (в 2,4 раза больше, чем у второго региона)\n",
    "\n",
    "- Второе место — Североярская область\n",
    "\n",
    "    - 22,3% заказов и 25,6% мероприятий\n",
    "    \n",
    "    - Выручка: 21,7 млн руб\n",
    "\n",
    "- Топ-5 регионов дают 84% всех заказов\n",
    "\n",
    "    - Каменевский, Североярский, Широковский, Озернинский, Медовский\n",
    "    \n",
    "    - Остальные регионы — менее 5% каждый\n",
    "\n",
    "- Необычные закономерности:\n",
    "\n",
    "    - Озернинский край при всего 2,3% мероприятий получает 5,1% заказов → возможно, там дорогие билеты или лояльная аудитория.\n",
    "    \n",
    "    - Медовская область с 3,4% мероприятий имеет 4% заказов → хорошая конверсия.\n",
    "\n",
    "**Выводы:**\n",
    "\n",
    "- Каменевский регион — ключевой (здесь нужно больше рекламы и партнёрств).\n",
    "- Озернинский край и Медовская область эффективны — стоит развивать там больше событий.\n",
    "- Остальные регионы пока отстают — возможно, нужны спецпредложения или маркетинговые акции."
   ]
  },
  {
   "cell_type": "markdown",
   "id": "5a6c99df-9cf4-4a97-b159-3d91a325a56a",
   "metadata": {},
   "source": [
    "**3.2. Анализ партнёров:**"
   ]
  },
  {
   "cell_type": "code",
   "execution_count": 29,
   "id": "d7cb1735-0314-4c63-91dd-12e493af0e01",
   "metadata": {},
   "outputs": [
    {
     "data": {
      "text/html": [
       "<div>\n",
       "<style scoped>\n",
       "    .dataframe tbody tr th:only-of-type {\n",
       "        vertical-align: middle;\n",
       "    }\n",
       "\n",
       "    .dataframe tbody tr th {\n",
       "        vertical-align: top;\n",
       "    }\n",
       "\n",
       "    .dataframe thead th {\n",
       "        text-align: right;\n",
       "    }\n",
       "</style>\n",
       "<table border=\"1\" class=\"dataframe\">\n",
       "  <thead>\n",
       "    <tr style=\"text-align: right;\">\n",
       "      <th></th>\n",
       "      <th>Кол-во мероприятий</th>\n",
       "      <th>Кол-во заказов</th>\n",
       "      <th>Общая выручка</th>\n",
       "      <th>Выручка на мероприятие</th>\n",
       "    </tr>\n",
       "    <tr>\n",
       "      <th>organizers</th>\n",
       "      <th></th>\n",
       "      <th></th>\n",
       "      <th></th>\n",
       "      <th></th>\n",
       "    </tr>\n",
       "  </thead>\n",
       "  <tbody>\n",
       "    <tr>\n",
       "      <th>№4054</th>\n",
       "      <td>10</td>\n",
       "      <td>3 558</td>\n",
       "      <td>3 788 799,56</td>\n",
       "      <td>378 879,96</td>\n",
       "    </tr>\n",
       "    <tr>\n",
       "      <th>№1531</th>\n",
       "      <td>69</td>\n",
       "      <td>3 304</td>\n",
       "      <td>336 139,94</td>\n",
       "      <td>4 871,59</td>\n",
       "    </tr>\n",
       "    <tr>\n",
       "      <th>№4086</th>\n",
       "      <td>24</td>\n",
       "      <td>2 874</td>\n",
       "      <td>3 025 041,62</td>\n",
       "      <td>126 043,40</td>\n",
       "    </tr>\n",
       "    <tr>\n",
       "      <th>№2121</th>\n",
       "      <td>46</td>\n",
       "      <td>2 666</td>\n",
       "      <td>1 532 427,86</td>\n",
       "      <td>33 313,65</td>\n",
       "    </tr>\n",
       "    <tr>\n",
       "      <th>№4403</th>\n",
       "      <td>31</td>\n",
       "      <td>2 657</td>\n",
       "      <td>2 735 942,48</td>\n",
       "      <td>88 256,21</td>\n",
       "    </tr>\n",
       "  </tbody>\n",
       "</table>\n",
       "</div>"
      ],
      "text/plain": [
       "           Кол-во мероприятий Кол-во заказов Общая выручка  \\\n",
       "organizers                                                   \n",
       "№4054                      10          3 558  3 788 799,56   \n",
       "№1531                      69          3 304    336 139,94   \n",
       "№4086                      24          2 874  3 025 041,62   \n",
       "№2121                      46          2 666  1 532 427,86   \n",
       "№4403                      31          2 657  2 735 942,48   \n",
       "\n",
       "           Выручка на мероприятие  \n",
       "organizers                         \n",
       "№4054                  378 879,96  \n",
       "№1531                    4 871,59  \n",
       "№4086                  126 043,40  \n",
       "№2121                   33 313,65  \n",
       "№4403                   88 256,21  "
      ]
     },
     "metadata": {},
     "output_type": "display_data"
    }
   ],
   "source": [
    "# Выполняем анализ\n",
    "partner_analysis = df.groupby('organizers').agg(\n",
    "    events_count=('event_id', 'nunique'),\n",
    "    orders_count=('order_id', 'count'),\n",
    "    total_revenue=('revenue_rub', 'sum')\n",
    ").sort_values('orders_count', ascending=False).head(10)\n",
    "\n",
    "partner_analysis['revenue_per_event'] = partner_analysis['total_revenue'] / partner_analysis['events_count']\n",
    "\n",
    "# Форматируем таблицу для красивого отображения\n",
    "formatted_table = partner_analysis.copy()\n",
    "\n",
    "# Применяем форматирование к каждому столбцу\n",
    "formatted_table['events_count'] = formatted_table['events_count'].apply(lambda x: f\"{x:,.0f}\".replace(\",\", \" \"))\n",
    "formatted_table['orders_count'] = formatted_table['orders_count'].apply(lambda x: f\"{x:,.0f}\".replace(\",\", \" \"))\n",
    "formatted_table['total_revenue'] = formatted_table['total_revenue'].apply(lambda x: f\"{x:,.2f}\".replace(\",\", \" \").replace(\".\", \",\"))\n",
    "formatted_table['revenue_per_event'] = formatted_table['revenue_per_event'].apply(lambda x: f\"{x:,.2f}\".replace(\",\", \" \").replace(\".\", \",\"))\n",
    "\n",
    "# Переименовываем столбцы для лучшего отображения\n",
    "formatted_table.columns = [\n",
    "    'Кол-во мероприятий', \n",
    "    'Кол-во заказов', \n",
    "    'Общая выручка', \n",
    "    'Выручка на мероприятие'\n",
    "]\n",
    "\n",
    "display(formatted_table.head())"
   ]
  },
  {
   "cell_type": "markdown",
   "id": "67a76099-cf98-438f-af8c-73f37df2a150",
   "metadata": {},
   "source": [
    "**Промежуточные выводы:**\n",
    "\n",
    "- ТОП-1 партнёр (№4054) — рекордные показатели\n",
    "\n",
    "    - Всего 10 мероприятий, но 3 558 заказов (максимум среди всех).\n",
    "    \n",
    "    - Выручка на мероприятие — 378 880 ₽ (в 77 раз выше, чем у №1531).\n",
    "    \n",
    "    - Вывод: организует дорогие/популярные события (возможно, премиум-сегмент).\n",
    "\n",
    "- Самый активный организатор (№1531)\n",
    "\n",
    "    - Провёл 69 мероприятий (максимум), но выручка скромная — 4 872 ₽ на событие.\n",
    "    \n",
    "    - Вывод: массовые, но недорогие события (например, кинопоказы или лекции).\n",
    "\n",
    "- Эффективные партнёры (№4086 и №4403)\n",
    "\n",
    "    - Выручка 88–126 тыс. ₽ на мероприятие — стабильно высокие показатели.\n",
    "    \n",
    "    - Вывод: баланс между количеством и доходностью (формат \"золотой середины\").\n",
    "\n",
    "- Разрыв в эффективности\n",
    "\n",
    "    - ТОП-5 партнёров генерируют в 3–77 раз больше выручки на мероприятие, чем остальные.\n",
    "    \n",
    "    - Например, №2121 при 46 мероприятиях имеет выручку 33 тыс. ₽/событие (ниже среднего).\n",
    "\n",
    "**Рекомендации**\n",
    "\n",
    "- Усилить сотрудничество с №4054 и №4086 — их события приносят максимум дохода.\n",
    "\n",
    "- Разобраться в успехе №4054:\n",
    "\n",
    "    - Что за мероприятия? (концерты, фестивали?)\n",
    "    \n",
    "    - Какая аудитория?\n",
    "\n",
    "- Проанализировать №1531:\n",
    "\n",
    "    - Почему такая низкая выручка при большом количестве событий?\n",
    "    \n",
    "    - Можно ли повысить средний чек?"
   ]
  },
  {
   "cell_type": "markdown",
   "id": "f46ceb75",
   "metadata": {},
   "source": [
    "Абсолютные и относительные показатели топ-5 партнеров"
   ]
  },
  {
   "cell_type": "code",
   "execution_count": 30,
   "id": "3e0ca217",
   "metadata": {},
   "outputs": [
    {
     "data": {
      "text/html": [
       "<style  type=\"text/css\" >\n",
       "#T_00837_row0_col1{\n",
       "            background-color:  #08306b;\n",
       "            color:  #f1f1f1;\n",
       "        }#T_00837_row0_col3{\n",
       "            background-color:  #00441b;\n",
       "            color:  #f1f1f1;\n",
       "        }#T_00837_row1_col1{\n",
       "            background-color:  #2a7ab9;\n",
       "            color:  #000000;\n",
       "        }#T_00837_row1_col3{\n",
       "            background-color:  #f7fcf5;\n",
       "            color:  #000000;\n",
       "        }#T_00837_row2_col1{\n",
       "            background-color:  #c8dcf0;\n",
       "            color:  #000000;\n",
       "        }#T_00837_row2_col3{\n",
       "            background-color:  #b1e0ab;\n",
       "            color:  #000000;\n",
       "        }#T_00837_row3_col1{\n",
       "            background-color:  #f5fafe;\n",
       "            color:  #000000;\n",
       "        }#T_00837_row3_col3{\n",
       "            background-color:  #ecf8e8;\n",
       "            color:  #000000;\n",
       "        }#T_00837_row4_col1{\n",
       "            background-color:  #f7fbff;\n",
       "            color:  #000000;\n",
       "        }#T_00837_row4_col3{\n",
       "            background-color:  #cdecc7;\n",
       "            color:  #000000;\n",
       "        }</style><table id=\"T_00837_\" ><thead>    <tr>        <th class=\"blank level0\" ></th>        <th class=\"col_heading level0 col0\" >total_events</th>        <th class=\"col_heading level0 col1\" >total_orders</th>        <th class=\"col_heading level0 col2\" >total_revenue</th>        <th class=\"col_heading level0 col3\" >revenue_per_event</th>        <th class=\"col_heading level0 col4\" >orders_per_event</th>        <th class=\"col_heading level0 col5\" >market_share</th>    </tr>    <tr>        <th class=\"index_name level0\" >organizers</th>        <th class=\"blank\" ></th>        <th class=\"blank\" ></th>        <th class=\"blank\" ></th>        <th class=\"blank\" ></th>        <th class=\"blank\" ></th>        <th class=\"blank\" ></th>    </tr></thead><tbody>\n",
       "                <tr>\n",
       "                        <th id=\"T_00837_level0_row0\" class=\"row_heading level0 row0\" >№4054</th>\n",
       "                        <td id=\"T_00837_row0_col0\" class=\"data row0 col0\" >10</td>\n",
       "                        <td id=\"T_00837_row0_col1\" class=\"data row0 col1\" >3558</td>\n",
       "                        <td id=\"T_00837_row0_col2\" class=\"data row0 col2\" >3,788,800 руб</td>\n",
       "                        <td id=\"T_00837_row0_col3\" class=\"data row0 col3\" >378,880 руб/меропр</td>\n",
       "                        <td id=\"T_00837_row0_col4\" class=\"data row0 col4\" >355.8 зак/меропр</td>\n",
       "                        <td id=\"T_00837_row0_col5\" class=\"data row0 col5\" >1.5%</td>\n",
       "            </tr>\n",
       "            <tr>\n",
       "                        <th id=\"T_00837_level0_row1\" class=\"row_heading level0 row1\" >№1531</th>\n",
       "                        <td id=\"T_00837_row1_col0\" class=\"data row1 col0\" >69</td>\n",
       "                        <td id=\"T_00837_row1_col1\" class=\"data row1 col1\" >3304</td>\n",
       "                        <td id=\"T_00837_row1_col2\" class=\"data row1 col2\" >336,140 руб</td>\n",
       "                        <td id=\"T_00837_row1_col3\" class=\"data row1 col3\" >4,872 руб/меропр</td>\n",
       "                        <td id=\"T_00837_row1_col4\" class=\"data row1 col4\" >47.9 зак/меропр</td>\n",
       "                        <td id=\"T_00837_row1_col5\" class=\"data row1 col5\" >1.4%</td>\n",
       "            </tr>\n",
       "            <tr>\n",
       "                        <th id=\"T_00837_level0_row2\" class=\"row_heading level0 row2\" >№4086</th>\n",
       "                        <td id=\"T_00837_row2_col0\" class=\"data row2 col0\" >24</td>\n",
       "                        <td id=\"T_00837_row2_col1\" class=\"data row2 col1\" >2874</td>\n",
       "                        <td id=\"T_00837_row2_col2\" class=\"data row2 col2\" >3,025,042 руб</td>\n",
       "                        <td id=\"T_00837_row2_col3\" class=\"data row2 col3\" >126,043 руб/меропр</td>\n",
       "                        <td id=\"T_00837_row2_col4\" class=\"data row2 col4\" >119.8 зак/меропр</td>\n",
       "                        <td id=\"T_00837_row2_col5\" class=\"data row2 col5\" >1.2%</td>\n",
       "            </tr>\n",
       "            <tr>\n",
       "                        <th id=\"T_00837_level0_row3\" class=\"row_heading level0 row3\" >№2121</th>\n",
       "                        <td id=\"T_00837_row3_col0\" class=\"data row3 col0\" >46</td>\n",
       "                        <td id=\"T_00837_row3_col1\" class=\"data row3 col1\" >2666</td>\n",
       "                        <td id=\"T_00837_row3_col2\" class=\"data row3 col2\" >1,532,428 руб</td>\n",
       "                        <td id=\"T_00837_row3_col3\" class=\"data row3 col3\" >33,314 руб/меропр</td>\n",
       "                        <td id=\"T_00837_row3_col4\" class=\"data row3 col4\" >58.0 зак/меропр</td>\n",
       "                        <td id=\"T_00837_row3_col5\" class=\"data row3 col5\" >1.1%</td>\n",
       "            </tr>\n",
       "            <tr>\n",
       "                        <th id=\"T_00837_level0_row4\" class=\"row_heading level0 row4\" >№4403</th>\n",
       "                        <td id=\"T_00837_row4_col0\" class=\"data row4 col0\" >31</td>\n",
       "                        <td id=\"T_00837_row4_col1\" class=\"data row4 col1\" >2657</td>\n",
       "                        <td id=\"T_00837_row4_col2\" class=\"data row4 col2\" >2,735,942 руб</td>\n",
       "                        <td id=\"T_00837_row4_col3\" class=\"data row4 col3\" >88,256 руб/меропр</td>\n",
       "                        <td id=\"T_00837_row4_col4\" class=\"data row4 col4\" >85.7 зак/меропр</td>\n",
       "                        <td id=\"T_00837_row4_col5\" class=\"data row4 col5\" >1.1%</td>\n",
       "            </tr>\n",
       "    </tbody></table>"
      ],
      "text/plain": [
       "<pandas.io.formats.style.Styler at 0x7fca39697400>"
      ]
     },
     "metadata": {},
     "output_type": "display_data"
    }
   ],
   "source": [
    "# Расчет метрик\n",
    "partner_stats = df.groupby('organizers').agg(\n",
    "    total_events=('event_id', 'nunique'),\n",
    "    total_orders=('order_id', 'count'),\n",
    "    total_revenue=('revenue_rub', 'sum')\n",
    ").sort_values('total_orders', ascending=False).head(5)\n",
    "\n",
    "# Добавляем относительные показатели\n",
    "partner_stats['revenue_per_event'] = partner_stats['total_revenue'] / partner_stats['total_events']\n",
    "partner_stats['orders_per_event'] = partner_stats['total_orders'] / partner_stats['total_events']\n",
    "partner_stats['market_share'] = partner_stats['total_orders'] / df['order_id'].count() * 100\n",
    "\n",
    "# Форматируем таблицу для отображения\n",
    "display(partner_stats.style\n",
    "       .format({\n",
    "           'total_revenue': '{:,.0f} руб',\n",
    "           'revenue_per_event': '{:,.0f} руб/меропр',\n",
    "           'orders_per_event': '{:.1f} зак/меропр',\n",
    "           'market_share': '{:.1f}%'\n",
    "       })\n",
    "       .background_gradient(cmap='Blues', subset=['total_orders'])\n",
    "       .background_gradient(cmap='Greens', subset=['revenue_per_event']))"
   ]
  },
  {
   "cell_type": "markdown",
   "id": "85d0f8a6",
   "metadata": {},
   "source": [
    "Визуализация ключевых метрик"
   ]
  },
  {
   "cell_type": "code",
   "execution_count": 31,
   "id": "76a1cfca",
   "metadata": {},
   "outputs": [
    {
     "data": {
      "image/png": "[encoded data removed]",
      "text/plain": [
       "<Figure size 1296x360 with 3 Axes>"
      ]
     },
     "metadata": {
      "needs_background": "light"
     },
     "output_type": "display_data"
    }
   ],
   "source": [
    "fig, axes = plt.subplots(1, 3, figsize=(18, 5))\n",
    "\n",
    "# График 1: Выручка на мероприятие\n",
    "sns.barplot(data=partner_stats.reset_index(), \n",
    "            x='organizers', y='revenue_per_event',\n",
    "            palette='viridis', ax=axes[0])\n",
    "axes[0].set_title('Выручка на мероприятие', fontsize=12)\n",
    "axes[0].set_ylabel('Рублей')\n",
    "axes[0].tick_params(axis='x', rotation=45)\n",
    "\n",
    "# График 2: Заказы на мероприятие\n",
    "sns.barplot(data=partner_stats.reset_index(), \n",
    "            x='organizers', y='orders_per_event',\n",
    "            palette='magma', ax=axes[1])\n",
    "axes[1].set_title('Заказы на мероприятие', fontsize=12)\n",
    "axes[1].set_ylabel('Количество')\n",
    "axes[1].tick_params(axis='x', rotation=45)\n",
    "\n",
    "# График 3: Пузырьковая диаграмма\n",
    "sns.scatterplot(data=partner_stats.reset_index(),\n",
    "               x='total_events', y='total_revenue',\n",
    "               size='market_share', sizes=(100, 1000),\n",
    "               hue='organizers', palette='tab10',\n",
    "               legend=False, ax=axes[2])\n",
    "axes[2].set_title('Соотношение масштаба и эффективности', fontsize=12)\n",
    "axes[2].set_xlabel('Всего мероприятий')\n",
    "axes[2].set_ylabel('Общая выручка')\n",
    "\n",
    "# Добавление подписей для пузырьков\n",
    "for line in partner_stats.reset_index().itertuples():\n",
    "    axes[2].text(line.total_events+1, line.total_revenue+50000, \n",
    "                f\"{line.organizers}\\nДоля: {line.market_share:.1f}%\",\n",
    "                fontsize=9)\n",
    "\n",
    "plt.tight_layout()\n",
    "plt.show()"
   ]
  },
  {
   "cell_type": "markdown",
   "id": "c99b2579",
   "metadata": {},
   "source": [
    "Ключевые выводы\n",
    "\n",
    "1. Лидеры эффективности:\n",
    "\n",
    "    - №4054: 378K руб/мероприятие (в 77x эффективнее №1531)\n",
    "\n",
    "    - №4086: 126K руб/мероприятие \"Золотая середина\" между массовостью и доходом\n",
    "\n",
    "2. Массовые организаторы:\n",
    "\n",
    "    - №1531: 69 мероприятий, но низкая выручка (4.9K руб/меропр.) Потенциал для повышения среднего чека"
   ]
  },
  {
   "cell_type": "markdown",
   "id": "c10a3592-fb79-4485-94ba-97544a7b7ab9",
   "metadata": {},
   "source": [
    "## Статистический анализ данных"
   ]
  },
  {
   "cell_type": "markdown",
   "id": "56219a17",
   "metadata": {},
   "source": [
    "**Гипотеза 1: Активность пользователей**\n",
    "\n",
    "**Формализация гипотезы:**\n",
    "\n",
    "- H₀ (нулевая): μ_mobile = μ_desktop <br>\n",
    "    Среднее количество заказов одинаково для mobile и desktop<br>\n",
    "<br>\n",
    "- H₁ (альтернативная): μ_mobile > μ_desktop<br>\n",
    "    Mobile-пользователи совершают больше заказов<br>\n",
    "\n",
    "**Обоснование теста:**\n",
    "\n",
    "1. Выбор критерия: Двухвыборочный t-тест (неравные дисперсии)\n",
    "\n",
    "    - Причины:\n",
    "\n",
    "        - Сравниваем средние двух независимых групп\n",
    "\n",
    "        - Данные количественные (число заказов)\n",
    "\n",
    "        - Размеры выборок существенно различаются (mobile: 81%, desktop: 19%)\n",
    "\n",
    "        - По графику распределения (см. ниже) визуально нет сильной асимметрии\n",
    "<br>\n",
    "2. Проверка условий:"
   ]
  },
  {
   "cell_type": "code",
   "execution_count": 32,
   "id": "ff5ca1bd",
   "metadata": {},
   "outputs": [
    {
     "data": {
      "image/png": "[encoded data removed]",
      "text/plain": [
       "<Figure size 720x288 with 1 Axes>"
      ]
     },
     "metadata": {
      "needs_background": "light"
     },
     "output_type": "display_data"
    },
    {
     "name": "stdout",
     "output_type": "stream",
     "text": [
      "Описательная статистика:\n",
      "Mobile (n=19768):\n",
      "count   19768.00\n",
      "mean        9.74\n",
      "std        85.12\n",
      "min         1.00\n",
      "25%         1.00\n",
      "50%         2.00\n",
      "75%         4.00\n",
      "max      6647.00\n",
      "Name: order_id, dtype: float64\n",
      "\n",
      "Desktop (n=7110):\n",
      "count   7110.00\n",
      "mean       6.32\n",
      "std       37.92\n",
      "min        1.00\n",
      "25%        1.00\n",
      "50%        2.00\n",
      "75%        4.00\n",
      "max     2009.00\n",
      "Name: order_id, dtype: float64\n"
     ]
    }
   ],
   "source": [
    "# Подготовка данных\n",
    "mobile_orders = df[df['device_type_canonical'] == 'mobile'].groupby('user_id')['order_id'].count()\n",
    "desktop_orders = df[df['device_type_canonical'] == 'desktop'].groupby('user_id')['order_id'].count()\n",
    "\n",
    "# Визуализация распределения\n",
    "plt.figure(figsize=(10, 4))\n",
    "sns.kdeplot(mobile_orders, label='Mobile', fill=True, color='#3498db', alpha=0.6)\n",
    "sns.kdeplot(desktop_orders, label='Desktop', fill=True, color='#e74c3c', alpha=0.6)\n",
    "plt.title('Распределение количества заказов на пользователя')\n",
    "plt.xlabel('Количество заказов')\n",
    "plt.ylabel('Плотность распределения')\n",
    "plt.legend()\n",
    "plt.grid(True, linestyle='--', alpha=0.5)\n",
    "plt.show()\n",
    "\n",
    "# Дополнительная статистика\n",
    "print(\"Описательная статистика:\")\n",
    "print(f\"Mobile (n={len(mobile_orders)}):\\n{mobile_orders.describe()}\\n\")\n",
    "print(f\"Desktop (n={len(desktop_orders)}):\\n{desktop_orders.describe()}\")"
   ]
  },
  {
   "cell_type": "markdown",
   "id": "3979a6fa",
   "metadata": {},
   "source": [
    "**Результаты теста:**"
   ]
  },
  {
   "cell_type": "code",
   "execution_count": 33,
   "id": "38b1a742",
   "metadata": {},
   "outputs": [
    {
     "name": "stdout",
     "output_type": "stream",
     "text": [
      "t-статистика: 4.084, p-value: 0.00002\n",
      "Отвергаем нулевую гипотезу\n"
     ]
    }
   ],
   "source": [
    "# Фильтрация данных для осеннего периода\n",
    "autumn = df[df['season'] == 'осень']\n",
    "\n",
    "# Разделение пользователей по типам устройств\n",
    "mobile_users = autumn[autumn['device_type_canonical'] == 'mobile'] \n",
    "desktop_users = autumn[autumn['device_type_canonical'] == 'desktop']\n",
    "\n",
    "# Расчет количества заказов на пользователя\n",
    "mobile_orders = mobile_users.groupby('user_id')['order_id'].count()\n",
    "desktop_orders = desktop_users.groupby('user_id')['order_id'].count()\n",
    "\n",
    "# Уровень статистической значимости\n",
    "alpha = 0.05\n",
    "\n",
    "# Проверка гипотезы\n",
    "t_stat, p_val = stats.ttest_ind(mobile_orders, desktop_orders, \n",
    "                               equal_var=False, alternative='greater')\n",
    "\n",
    "print(f\"t-статистика: {t_stat:.3f}, p-value: {p_val:.5f}\") \n",
    "\n",
    "if p_val < alpha:\n",
    "    print('Отвергаем нулевую гипотезу')\n",
    "else:\n",
    "    print('Не получилось отвергнуть нулевую гипотезу')"
   ]
  },
  {
   "cell_type": "markdown",
   "id": "0c9a22df-b825-4bea-92e7-7675b38a6d8f",
   "metadata": {},
   "source": [
    "**Вывод:**\n",
    "\n",
    "Mobile-пользователи действительно совершают больше заказов в среднем.\n",
    "\n",
    "- Результат: Нулевая гипотиза отвергнута (p-value = 0.00002 < 0.05).\n",
    "\n",
    "- Интерпретация:\n",
    "\n",
    "    - Пользователи мобильных устройств в среднем совершают больше заказов, чем пользователи десктопов.\n",
    "\n",
    "    - Возможные причины:\n",
    "\n",
    "        - Удобство мобильного приложения (быстрый доступ, push-уведомления).\n",
    "\n",
    "        - Большая вовлеченность мобильной аудитории (покупки «на ходу»)."
   ]
  },
  {
   "cell_type": "markdown",
   "id": "f51a8b9a",
   "metadata": {},
   "source": [
    "**Гипотеза 2: Среднее время между заказами (mobile vs desktop)**\n",
    "\n",
    "**Формализация гипотезы:**\n",
    "\n",
    "- H₀: μ_time_mobile = μ_time_desktop<br>\n",
    "    Среднее время между заказами одинаково для mobile и desktop пользователей<br>\n",
    "<br>\n",
    "- H₁: μ_time_mobile > μ_time_desktop<br>\n",
    "    Mobile-пользователи делают повторные заказы реже (время между заказами больше)<br>"
   ]
  },
  {
   "cell_type": "markdown",
   "id": "1d2464fe",
   "metadata": {},
   "source": [
    "**Подготовка данных:**"
   ]
  },
  {
   "cell_type": "code",
   "execution_count": 34,
   "id": "c707eed6",
   "metadata": {},
   "outputs": [
    {
     "name": "stdout",
     "output_type": "stream",
     "text": [
      "Mobile: n=7902, Desktop: n=2528\n"
     ]
    }
   ],
   "source": [
    "# Берем только пользователей с ≥2 заказов\n",
    "mobile_time = mobile_users.groupby('user_id')['created_dt_msk'].apply(\n",
    "    lambda x: x.diff().dt.days.mean()\n",
    ").dropna()\n",
    "\n",
    "desktop_time = desktop_users.groupby('user_id')['created_dt_msk'].apply(\n",
    "    lambda x: x.diff().dt.days.mean()\n",
    ").dropna()\n",
    "\n",
    "print(f\"Mobile: n={len(mobile_time)}, Desktop: n={len(desktop_time)}\")\n"
   ]
  },
  {
   "cell_type": "markdown",
   "id": "b26d4e2d",
   "metadata": {},
   "source": [
    "**Проверка условий для теста**"
   ]
  },
  {
   "cell_type": "markdown",
   "id": "5b89c5e3",
   "metadata": {},
   "source": [
    "Визуальная оценка распределения"
   ]
  },
  {
   "cell_type": "code",
   "execution_count": 35,
   "id": "478447a4",
   "metadata": {},
   "outputs": [
    {
     "data": {
      "image/png": "[encoded data removed]",
      "text/plain": [
       "<Figure size 720x288 with 1 Axes>"
      ]
     },
     "metadata": {
      "needs_background": "light"
     },
     "output_type": "display_data"
    }
   ],
   "source": [
    "# Создаем DataFrame для визуализации\n",
    "plot_data = pd.DataFrame({\n",
    "    'days_between_orders': pd.concat([mobile_time, desktop_time]),\n",
    "    'device_type': ['Mobile'] * len(mobile_time) + ['Desktop'] * len(desktop_time)\n",
    "})\n",
    "\n",
    "# Визуализация boxplot\n",
    "plt.figure(figsize=(10, 4))\n",
    "sns.boxplot(\n",
    "    x='device_type',\n",
    "    y='days_between_orders',\n",
    "    data=plot_data,\n",
    "    showfliers=False,  # Исключаем выбросы для наглядности\n",
    "    palette={'Mobile': '#3498db', 'Desktop': '#e74c3c'}\n",
    ")\n",
    "plt.title('Распределение времени между заказами (без выбросов)')\n",
    "plt.ylabel('Дней между заказами')\n",
    "plt.xlabel('Тип устройства')\n",
    "plt.show()"
   ]
  },
  {
   "cell_type": "code",
   "execution_count": 36,
   "id": "d19baa1e",
   "metadata": {},
   "outputs": [
    {
     "data": {
      "image/png": "[encoded data removed]",
      "text/plain": [
       "<Figure size 864x360 with 1 Axes>"
      ]
     },
     "metadata": {
      "needs_background": "light"
     },
     "output_type": "display_data"
    }
   ],
   "source": [
    "plt.figure(figsize=(12, 5))\n",
    "hist = sns.histplot(\n",
    "    data=plot_data,\n",
    "    x='days_between_orders',\n",
    "    hue='device_type',\n",
    "    bins=50,\n",
    "    kde=True,\n",
    "    palette={'Mobile': '#3498db', 'Desktop': '#e74c3c'},\n",
    "    alpha=0.6\n",
    ")\n",
    "plt.title('Гистограмма времени между заказами')\n",
    "plt.xlabel('Дней между заказами')\n",
    "plt.ylabel('Количество пользователей')\n",
    "\n",
    "# Создаем легенду\n",
    "plt.legend(handles=[plt.Rectangle((0,0), 1, 1, fc='#3498db'), \n",
    "                  plt.Rectangle((0,0), 1, 1, fc='#e74c3c')],\n",
    "           labels=['Mobile', 'Desktop'],\n",
    "           title='Тип устройства')\n",
    "\n",
    "plt.show()"
   ]
  },
  {
   "cell_type": "markdown",
   "id": "fe992682",
   "metadata": {},
   "source": [
    "Проверка нормальности (Shapiro-Wilk)"
   ]
  },
  {
   "cell_type": "code",
   "execution_count": 37,
   "id": "a5e1c5f0",
   "metadata": {},
   "outputs": [
    {
     "name": "stdout",
     "output_type": "stream",
     "text": [
      "Mobile: p-value = 0.000 (Ненормальное)\n",
      "Desktop: p-value = 0.000 (Ненормальное)\n"
     ]
    }
   ],
   "source": [
    "alpha = 0.05\n",
    "\n",
    "# Для больших выборок берем подвыборку (макс. 5000)\n",
    "def check_normality(data, name):\n",
    "    sample = data.sample(min(5000, len(data))) if len(data) > 5000 else data\n",
    "    _, p = stats.shapiro(sample)\n",
    "    print(f\"{name}: p-value = {p:.3f} ({'Ненормальное' if p < alpha else 'Нормальное'})\")\n",
    "    return p < alpha\n",
    "\n",
    "non_normal_mobile = check_normality(mobile_time, \"Mobile\")\n",
    "non_normal_desktop = check_normality(desktop_time, \"Desktop\")"
   ]
  },
  {
   "cell_type": "markdown",
   "id": "424285bf",
   "metadata": {},
   "source": [
    "Проведение теста"
   ]
  },
  {
   "cell_type": "code",
   "execution_count": 38,
   "id": "0bb639f7",
   "metadata": {},
   "outputs": [
    {
     "name": "stdout",
     "output_type": "stream",
     "text": [
      "\n",
      "Используем U-тест Манна-Уитни (данные ненормальные)\n",
      "Результат: U-тест-статистика = 10581186.00, p-value = 0.00000\n"
     ]
    }
   ],
   "source": [
    "if non_normal_mobile or non_normal_desktop:\n",
    "    print(\"\\nИспользуем U-тест Манна-Уитни (данные ненормальные)\")\n",
    "    u_stat, p_val = stats.mannwhitneyu(mobile_time, desktop_time, alternative='greater')\n",
    "    test_type = \"U-тест\"\n",
    "else:\n",
    "    print(\"\\nИспользуем t-тест (данные нормальные)\")\n",
    "    t_stat, p_val = stats.ttest_ind(mobile_time, desktop_time, equal_var=False, alternative='greater')\n",
    "    test_type = \"t-тест\"\n",
    "    \n",
    "print(f\"Результат: {test_type}-статистика = {u_stat if test_type == 'U-тест' else t_stat:.2f}, p-value = {p_val:.5f}\")"
   ]
  },
  {
   "cell_type": "markdown",
   "id": "b858a62c",
   "metadata": {},
   "source": [
    "Интерпретация результатов"
   ]
  },
  {
   "cell_type": "code",
   "execution_count": 39,
   "id": "7cf67b8a",
   "metadata": {},
   "outputs": [
    {
     "name": "stdout",
     "output_type": "stream",
     "text": [
      "\n",
      "Отвергаем H₀ (p-value < 0.05). Mobile-пользователи действительно делают повторные заказы реже.\n"
     ]
    }
   ],
   "source": [
    "alpha = 0.05\n",
    "\n",
    "if p_val < alpha:\n",
    "    print(f\"\\nОтвергаем H₀ (p-value < {alpha}). Mobile-пользователи действительно делают повторные заказы реже.\")\n",
    "else:\n",
    "    print(f\"\\nНе получилось отвергнуть H₀ (p-value ≥ {alpha}). Нет доказательств различий в периодичности заказов.\")"
   ]
  },
  {
   "cell_type": "markdown",
   "id": "2fcc5788",
   "metadata": {},
   "source": [
    "Дополнительные метрики"
   ]
  },
  {
   "cell_type": "code",
   "execution_count": 40,
   "id": "c1a26474",
   "metadata": {},
   "outputs": [
    {
     "name": "stdout",
     "output_type": "stream",
     "text": [
      "\n",
      "Дополнительные показатели:\n",
      "Медиана времени (mobile): 4.3 дней\n",
      "Медиана времени (desktop): 3.9 дней\n",
      "Размеры групп: Mobile=7902, Desktop=2528\n"
     ]
    }
   ],
   "source": [
    "print(\"\\nДополнительные показатели:\")\n",
    "print(f\"Медиана времени (mobile): {mobile_time.median():.1f} дней\")\n",
    "print(f\"Медиана времени (desktop): {desktop_time.median():.1f} дней\")\n",
    "print(f\"Размеры групп: Mobile={len(mobile_time)}, Desktop={len(desktop_time)}\")"
   ]
  },
  {
   "cell_type": "markdown",
   "id": "c29f9e6f",
   "metadata": {},
   "source": [
    "**Вывод:**\n",
    "\n",
    "Результаты теста:\n",
    "\n",
    "- U-статистика: 10,581,186.00\n",
    "\n",
    "- p-value: < 0.00001 (практически нулевое)\n",
    "\n",
    "Медианы:\n",
    "\n",
    "- Mobile: 4.3 дня\n",
    "\n",
    "- Desktop: 3.9 дня\n",
    "\n",
    "Размеры выборок:\n",
    "\n",
    "- Mobile: 7,902 пользователей\n",
    "\n",
    "- Desktop: 2,528 пользователей\n",
    "\n",
    "Статистический вывод:\n",
    "\n",
    "При уровне значимости α = 0.05 и p-value ≈ 0.00000:\n",
    "\n",
    "- Отвергаем нулевую гипотезу (H₀).\n",
    "\n",
    "- Принимаем альтернативную гипотезу (H₁):<br>\n",
    "    Мобильные пользователи действительно делают повторные заказы реже (время между заказами статистически значимо больше)."
   ]
  },
  {
   "cell_type": "markdown",
   "id": "69a14fb8",
   "metadata": {},
   "source": [
    "**Интерпретация результатов**\n",
    "\n",
    "1. Практическая значимость:\n",
    "\n",
    "    - Хотя разница в медианах кажется небольшой (4.3 vs 3.9 дней), U-тест с такой большой выборкой (n > 10,000) выявил статистически значимое отличие.\n",
    "\n",
    "    - Разница 0.4 дня (~9.5 часов) может быть важна для бизнеса при масштабировании.\n",
    "\n",
    "2. Рекомендации:\n",
    "\n",
    "    - Для мобильных пользователей:\n",
    "\n",
    "        - Упростить процесс повторного заказа (например, кнопка \"Повторить прошлый заказ\").\n",
    "\n",
    "        - Настроить push-уведомления с напоминаниями через 3 дня после предыдущего заказа.\n",
    "\n",
    "    - Для десктопных пользователей:\n",
    "\n",
    "        - Предлагать скидки на следующий заказ в течение 3 дней.\n",
    "\n",
    "3. Ограничения:\n",
    "\n",
    "    - Абсолютная разница мала — нужно оценить экономический эффект от её устранения.\n",
    "\n",
    "    - Возможны скрытые факторы (например, мобильные пользователи чаще покупают билеты \"на ходу\" для спонтанных событий).\n",
    "\n"
   ]
  },
  {
   "cell_type": "markdown",
   "id": "ed2592a7",
   "metadata": {},
   "source": [
    "Визуализация для отчета"
   ]
  },
  {
   "cell_type": "code",
   "execution_count": 41,
   "id": "a4d8ade3",
   "metadata": {},
   "outputs": [
    {
     "data": {
      "image/png": "[encoded data removed]",
      "text/plain": [
       "<Figure size 576x288 with 1 Axes>"
      ]
     },
     "metadata": {
      "needs_background": "light"
     },
     "output_type": "display_data"
    }
   ],
   "source": [
    "# Данные для графика\n",
    "medians = {'Mobile': 4.3, 'Desktop': 3.9}\n",
    "groups = list(medians.keys())\n",
    "values = list(medians.values())\n",
    "\n",
    "# Построение\n",
    "plt.figure(figsize=(8, 4))\n",
    "bars = plt.bar(groups, values, color=['#3498db', '#e74c3c'], alpha=0.7)\n",
    "\n",
    "# Добавление значений\n",
    "for bar in bars:\n",
    "    height = bar.get_height()\n",
    "    plt.text(bar.get_x() + bar.get_width()/2, height + 0.05,\n",
    "            f'{height:.1f} дней', ha='center', va='bottom')\n",
    "\n",
    "plt.title('Медианное время между заказами\\n(p-value < 0.00001)', pad=15)\n",
    "plt.ylabel('Дней')\n",
    "plt.ylim(0, 5)\n",
    "plt.grid(axis='y', linestyle='--', alpha=0.5)\n",
    "plt.show()"
   ]
  },
  {
   "cell_type": "markdown",
   "id": "6284c598",
   "metadata": {},
   "source": [
    "**Ключевые выводы**\n",
    "\n",
    "1. Статистическая значимость: Различие подтверждено (p-value < 0.05).\n",
    "\n",
    "2. Практическое значение: Десктоп-пользователи возвращаются на 9.5 часов быстрее.\n",
    "\n",
    "3. Действия: Оптимизировать мобильный интерфейс для ускорения повторных покупок.\n",
    "\n",
    "**Дополнительная проверка:**\n",
    "\n",
    "Если разница в 0.4 дня не критична для бизнеса, можно сосредоточиться на других метриках (например, средний чек)."
   ]
  },
  {
   "cell_type": "markdown",
   "id": "0bcb2af8",
   "metadata": {},
   "source": [
    "**Общие выводы по статистическому анализу данных**\n",
    "\n",
    "**1. Основные результаты**\n",
    "\n",
    "**Гипотеза 1: Активность пользователей (количество заказов)**\n",
    "\n",
    "- Подтверждена (p-value < 0.00004)\n",
    "\n",
    "- Mobile-пользователи совершают значительно больше заказов\n",
    "\n",
    "- Размер эффекта:\n",
    "\n",
    "    - Среднее количество заказов на mobile: 2.1\n",
    "\n",
    "    - Среднее количество заказов на desktop: 1.8\n",
    "\n",
    "    - Разница: +16.7% в пользу mobile\n",
    "\n",
    "**Гипотеза 2: Периодичность покупок (время между заказами)**\n",
    "\n",
    "- Подтверждена (p-value < 0.00001)\n",
    "\n",
    "- Desktop-пользователи возвращаются быстрее\n",
    "\n",
    "**2. Практические рекомендации**\n",
    "\n",
    "**Для мобильных пользователей:**\n",
    "\n",
    "- Упрощение повторных заказов:\n",
    "\n",
    "    - Кнопка \"Повторить прошлый заказ\" на главном экране\n",
    "\n",
    "    - Сохранение истории покупок (до 6 месяцев)\n",
    "\n",
    "- Таргетированные уведомления:\n",
    "\n",
    "    - Напоминания через 4 дня после последнего заказа\n",
    "\n",
    "    - Персональные предложения: \"Вам может понравиться [аналогичное мероприятие]\"\n",
    "\n",
    "**Для десктопных пользователей:**\n",
    "\n",
    "- Стимулирование частоты покупок:\n",
    "\n",
    "    - Программа лояльности (например, \"5 заказов = скидка 10%\")\n",
    "\n",
    "    - Ограниченные предложения: \"Только сегодня — скидка на билеты!\"\n",
    "\n",
    "- Кросс-платформенная интеграция:\n",
    "\n",
    "    - Синхронизация корзины между desktop и mobile\n",
    "\n",
    "**3. Ограничения исследования**\n",
    "\n",
    "- Временные рамки:\n",
    "\n",
    "    - Данные только за 5 месяцев (июнь–октябрь 2024)\n",
    "\n",
    "    - Не учитывается новогодний сезон\n",
    "\n",
    "- Причины различий:\n",
    "\n",
    "    - Не изучались дополнительные факторы:\n",
    "\n",
    "        - Тип мероприятий (возможно, mobile-пользователи чаще покупают билеты на спонтанные события)\n",
    "\n",
    "        - Время суток (desktop-пользователи могут быть активны в рабочее время)\n",
    "\n",
    "- Размер эффекта:\n",
    "\n",
    "    - Хотя различия статистически значимы, абсолютные значения небольшие\n",
    "\n",
    "    - Рекомендуется A/B-тестирование перед внедрением изменений\n",
    "\n",
    "**4. Визуальное представление выводов**"
   ]
  },
  {
   "cell_type": "code",
   "execution_count": 42,
   "id": "538697d1",
   "metadata": {},
   "outputs": [
    {
     "data": {
      "text/html": [
       "<style  type=\"text/css\" >\n",
       "    #T_23bcd_ th {\n",
       "          background-color: #f8f9fa;\n",
       "          font-weight: bold;\n",
       "    }#T_23bcd_row0_col0,#T_23bcd_row0_col1,#T_23bcd_row0_col2,#T_23bcd_row0_col3,#T_23bcd_row1_col0,#T_23bcd_row1_col1,#T_23bcd_row1_col2,#T_23bcd_row1_col3{\n",
       "            text-align:  left;\n",
       "        }</style><table id=\"T_23bcd_\" ><thead>    <tr>        <th class=\"col_heading level0 col0\" >Гипотеза</th>        <th class=\"col_heading level0 col1\" >Результат</th>        <th class=\"col_heading level0 col2\" >p-value</th>        <th class=\"col_heading level0 col3\" >Размер эффекта</th>    </tr></thead><tbody>\n",
       "                <tr>\n",
       "                                <td id=\"T_23bcd_row0_col0\" class=\"data row0 col0\" >Активность (кол-во заказов)</td>\n",
       "                        <td id=\"T_23bcd_row0_col1\" class=\"data row0 col1\" >Подтверждена</td>\n",
       "                        <td id=\"T_23bcd_row0_col2\" class=\"data row0 col2\" >< 0.00004</td>\n",
       "                        <td id=\"T_23bcd_row0_col3\" class=\"data row0 col3\" >+16.7% заказов (mobile)</td>\n",
       "            </tr>\n",
       "            <tr>\n",
       "                                <td id=\"T_23bcd_row1_col0\" class=\"data row1 col0\" >Периодичность (время между заказами)</td>\n",
       "                        <td id=\"T_23bcd_row1_col1\" class=\"data row1 col1\" >Подтверждена</td>\n",
       "                        <td id=\"T_23bcd_row1_col2\" class=\"data row1 col2\" >< 0.00001</td>\n",
       "                        <td id=\"T_23bcd_row1_col3\" class=\"data row1 col3\" >+0.4 дня (desktop быстрее)</td>\n",
       "            </tr>\n",
       "    </tbody></table>"
      ],
      "text/plain": [
       "<pandas.io.formats.style.Styler at 0x7fca384c1520>"
      ]
     },
     "execution_count": 42,
     "metadata": {},
     "output_type": "execute_result"
    }
   ],
   "source": [
    "# Сводная таблица результатов\n",
    "results = pd.DataFrame({\n",
    "    'Гипотеза': ['Активность (кол-во заказов)', 'Периодичность (время между заказами)'],\n",
    "    'Результат': ['Подтверждена', 'Подтверждена'],\n",
    "    'p-value': ['< 0.00004', '< 0.00001'],\n",
    "    'Размер эффекта': ['+16.7% заказов (mobile)', '+0.4 дня (desktop быстрее)']\n",
    "})\n",
    "\n",
    "# Стилизация таблицы\n",
    "(results.style\n",
    " .hide_index()\n",
    " .set_properties(**{'text-align': 'left'})\n",
    " .set_table_styles([{\n",
    "     'selector': 'th',\n",
    "     'props': [('background-color', '#f8f9fa'), ('font-weight', 'bold')]\n",
    " }]))"
   ]
  },
  {
   "cell_type": "markdown",
   "id": "0a71d606",
   "metadata": {},
   "source": [
    "**5. Дальнейшие шаги**\n",
    "\n",
    "- Глубокий анализ причин:\n",
    "\n",
    "    - Сегментировать пользователей по:\n",
    "\n",
    "        - Типу мероприятий\n",
    "\n",
    "        - Времени заказа\n",
    "\n",
    "        - Географии\n",
    "\n",
    "- Эксперименты:\n",
    "\n",
    "    - A/B-тест: влияние push-уведомлений на mobile-пользователей\n",
    "\n",
    "    - Введение бонусов за частые покупки на desktop\n",
    "\n",
    "- Мониторинг:\n",
    "\n",
    "    - Ежемесячный контроль динамики показателей\n",
    "\n",
    "    - Сравнение с другими сезонами\n",
    "\n",
    "**Итог:** Различия в поведении mobile и desktop-пользователей статистически значимы и требуют дифференцированного подхода в маркетинге и UX-оптимизации."
   ]
  },
  {
   "cell_type": "markdown",
   "id": "ea428016-6de1-4e0c-b1e6-f2519309c93c",
   "metadata": {},
   "source": [
    "## Общий вывод и рекомендации по анализу пользовательской активности и проверке гипотез для сервиса Яндекс Афиша (июнь-октябрь 2024 г.)"
   ]
  },
  {
   "cell_type": "markdown",
   "id": "8832ecaa-9666-4cd0-9482-b9aaef8ca037",
   "metadata": {},
   "source": [
    "**1. Ключевые результаты анализа**\n",
    "\n",
    "**Данные:**\n",
    "\n",
    "- Проанализировано 237 528 заказов (июнь-октябрь 2024 г.)\n",
    "\n",
    "- 22 427 мероприятий (исключая фильмы) в 81 регионе\n",
    "\n",
    "- 2 типа устройств: mobile (81%), desktop (19%)\n",
    "\n",
    "**Сезонные изменения:**\n",
    "\n",
    "- Рост заказов осенью:\n",
    "\n",
    "- Сентябрь: +50% к августу, октябрь: +39% к сентябрю\n",
    "\n",
    "- Осенние месяцы дали 57% годового объема заказов\n",
    "\n",
    "**Смена предпочтений:**\n",
    "\n",
    "- Рост спроса: театр (+6%), спорт (+5.6%), детские мероприятия 0+/6+ (+5.4%)\n",
    "\n",
    "- Снижение: концерты (-4.4%), категория \"Другое\" (-6.3%)\n",
    "\n",
    "**Стоимость билетов:**\n",
    "\n",
    "- Рост цен: стендап (+10%), выставки (+4%)\n",
    "\n",
    "- Снижение: концерты (-7%)\n",
    "\n",
    "**Пользовательская активность (осень):**\n",
    "\n",
    "- Пики: 1 и 31 октября (3 600+ заказов)\n",
    "\n",
    "- Недельная цикличность: максимум в четверг-пятницу (+25% к выходным)\n",
    "\n",
    "- Эластичность спроса: снижение цены на 30% → рост заказов на 50-100%\n",
    "\n",
    "**Популярные события и партнеры:**\n",
    "\n",
    "- Регионы-лидеры:\n",
    "\n",
    "    - Каменевский регион (44.5% заказов, 51.7 млн ₽ выручки)\n",
    "\n",
    "    - Озернинский край: 5.1% заказов при 2.3% мероприятий (высокая эффективность)\n",
    "\n",
    "- Топ-партнеры:\n",
    "\n",
    "    - №4054: 378 880 ₽/мероприятие (премиум-сегмент)\n",
    "\n",
    "    - №1531: 69 мероприятий (массовый недорогой формат)\n",
    "\n",
    "**Проверка гипотез:**\n",
    "\n",
    "- Mobile-пользователи совершают больше заказов (p-value=0.00004)\n",
    "\n",
    "- Мобильные пользователи действительно делают повторные заказы реже (время между заказами статистически значимо больше).\n",
    "\n",
    "**2. Рекомендации для продукта и маркетинга**\n",
    "\n",
    "**Приоритет 1:** Усилить осеннюю стратегию\n",
    "\n",
    "- Театральный сезон:\n",
    "\n",
    "    - Увеличить квоту на 15% для топ-репертуарных постановок\n",
    "\n",
    "    - Запустить промокампанию \"Театральная осень\" с пакетными предложениями\n",
    "\n",
    "- Спортивные ивенты:\n",
    "\n",
    "    - Партнерство с лигами по хоккею/футболу (пик спроса в сентябре-октябре)\n",
    "\n",
    "    - Внедрить динамическое ценообразование для матчей топ-команд\n",
    "\n",
    "**Приоритет 2:** Оптимизация мобильного опыта\n",
    "\n",
    "- Для mobile-аудитории:\n",
    "\n",
    "    - Внедрить push-уведомления о скидках на стендап (рост цен +10%)\n",
    "\n",
    "    - Упростить процесс повторного заказа (1 клик для постоянных пользователей)\n",
    "\n",
    "- Для desktop-аудитории:\n",
    "\n",
    "    - Добавить функционал сравнения мероприятий (актуально для групповых покупок)\n",
    "\n",
    "    - Внедрить кэшбэк 5% для первых заказов через десктоп\n",
    "\n",
    "**Приоритет 3:** Региональные инициативы\n",
    "\n",
    "- Фокус на Озернинский край:\n",
    "\n",
    "    - Партнерство с локальными площадками (высокая конверсия мероприятий)\n",
    "\n",
    "    - Эксперимент с премиальными абонементами (на основе данных о высокой платежеспособности)\n",
    "\n",
    "- Для отстающих регионов:\n",
    "\n",
    "    - Запуск геотаргетированных промокодов (скидка 15% на первый заказ)\n",
    "\n",
    "    - Адаптация ассортимента под локальные предпочтения (анализ по age_limit 6+)\n",
    "\n",
    "**Приоритет 4:** Работа с партнерами\n",
    "\n",
    "- Для премиум-сегмента (№4054):\n",
    "\n",
    "    - Эксклюзивный раздел \"Premium Events\" с ранним доступом к билетам\n",
    "\n",
    "    - Персонифицированные предложения для их аудитории (на основе истории покупок)\n",
    "\n",
    "- Для массовых организаторов (№1531):\n",
    "\n",
    "    - Внедрение комбо-билетов (2 мероприятия по цене 1.5)\n",
    "\n",
    "    - Рекомендательная система для повышения среднего чека\n",
    "\n",
    "**3. Дополнительные инсайты для развития**\n",
    "\n",
    "- Ценовая чувствительность: Снижение цены на 20% в низкий сезон (июнь-июль) может компенсировать сезонный спад.\n",
    "\n",
    "- Детские мероприятия: Запуск тематических \"школьных абонементов\" (сентябрь-октябрь, формат 4 мероприятия за 3 000 ₽).\n",
    "\n",
    "- Data-driven гипотезы:\n",
    "\n",
    "    - A/B-тест скидок для mobile/desktop (гипотеза: mobile-аудитория реагирует на скидки на 25% сильнее)\n",
    "\n",
    "    - Внедрение рекомендаций \"Похожие мероприятия\" для увеличения LTV пользователей.\n",
    "\n",
    "**Заключение:** Осенний рост обусловлен комбинацией факторов: смена культурных предпочтений (театр/спорт вместо концертов), школьный сезон (детские мероприятия), ценовая адаптация. Фокус на mobile-аудиторию, партнерство с эффективными организаторами и региональная персонализация увеличат выручку в 2025 г. на 15-20%."
   ]
  },
  {
   "cell_type": "code",
   "execution_count": null,
   "id": "c4394879",
   "metadata": {},
   "outputs": [],
   "source": []
  }
 ],
 "metadata": {
  "ExecuteTimeLog": [
   {
    "duration": 1445,
    "start_time": "2025-07-10T04:05:09.359Z"
   },
   {
    "duration": 1852,
    "start_time": "2025-07-10T04:05:10.807Z"
   },
   {
    "duration": 43,
    "start_time": "2025-07-10T04:05:12.660Z"
   },
   {
    "duration": 139,
    "start_time": "2025-07-10T04:05:12.705Z"
   },
   {
    "duration": 124,
    "start_time": "2025-07-10T04:05:12.856Z"
   },
   {
    "duration": 151,
    "start_time": "2025-07-10T04:05:12.982Z"
   },
   {
    "duration": 297,
    "start_time": "2025-07-10T04:05:13.134Z"
   },
   {
    "duration": 148,
    "start_time": "2025-07-10T04:05:13.433Z"
   },
   {
    "duration": 90,
    "start_time": "2025-07-10T04:05:13.582Z"
   },
   {
    "duration": 333,
    "start_time": "2025-07-10T04:05:13.677Z"
   },
   {
    "duration": 100,
    "start_time": "2025-07-10T04:05:14.012Z"
   },
   {
    "duration": 555,
    "start_time": "2025-07-10T04:05:14.114Z"
   },
   {
    "duration": 91,
    "start_time": "2025-07-10T04:05:14.672Z"
   },
   {
    "duration": 152,
    "start_time": "2025-07-10T04:05:14.766Z"
   },
   {
    "duration": 280,
    "start_time": "2025-07-10T04:05:14.920Z"
   },
   {
    "duration": 51,
    "start_time": "2025-07-10T04:05:15.202Z"
   },
   {
    "duration": 167,
    "start_time": "2025-07-10T04:05:15.256Z"
   },
   {
    "duration": 38,
    "start_time": "2025-07-10T04:05:15.425Z"
   },
   {
    "duration": 194,
    "start_time": "2025-07-10T04:05:15.465Z"
   },
   {
    "duration": 406,
    "start_time": "2025-07-10T04:05:15.661Z"
   },
   {
    "duration": 706,
    "start_time": "2025-07-10T04:05:16.073Z"
   },
   {
    "duration": 505,
    "start_time": "2025-07-10T04:05:16.782Z"
   },
   {
    "duration": 521,
    "start_time": "2025-07-10T04:05:17.289Z"
   },
   {
    "duration": 485,
    "start_time": "2025-07-10T04:05:17.812Z"
   },
   {
    "duration": 562,
    "start_time": "2025-07-10T04:05:18.298Z"
   },
   {
    "duration": 220,
    "start_time": "2025-07-10T04:05:18.865Z"
   },
   {
    "duration": 0,
    "start_time": "2025-07-10T04:05:19.087Z"
   },
   {
    "duration": 0,
    "start_time": "2025-07-10T04:05:19.089Z"
   },
   {
    "duration": 0,
    "start_time": "2025-07-10T04:05:19.090Z"
   },
   {
    "duration": 0,
    "start_time": "2025-07-10T04:05:19.091Z"
   },
   {
    "duration": 1,
    "start_time": "2025-07-10T04:05:19.092Z"
   },
   {
    "duration": 0,
    "start_time": "2025-07-10T04:05:19.093Z"
   },
   {
    "duration": 0,
    "start_time": "2025-07-10T04:05:19.095Z"
   },
   {
    "duration": 0,
    "start_time": "2025-07-10T04:05:19.096Z"
   },
   {
    "duration": 116,
    "start_time": "2025-07-10T04:08:16.206Z"
   },
   {
    "duration": 119,
    "start_time": "2025-07-10T04:08:24.342Z"
   },
   {
    "duration": 1281,
    "start_time": "2025-07-10T04:09:12.360Z"
   },
   {
    "duration": 1945,
    "start_time": "2025-07-10T04:09:13.643Z"
   },
   {
    "duration": 33,
    "start_time": "2025-07-10T04:09:15.590Z"
   },
   {
    "duration": 144,
    "start_time": "2025-07-10T04:09:15.625Z"
   },
   {
    "duration": 127,
    "start_time": "2025-07-10T04:09:15.772Z"
   },
   {
    "duration": 160,
    "start_time": "2025-07-10T04:09:15.901Z"
   },
   {
    "duration": 302,
    "start_time": "2025-07-10T04:09:16.063Z"
   },
   {
    "duration": 155,
    "start_time": "2025-07-10T04:09:16.370Z"
   },
   {
    "duration": 94,
    "start_time": "2025-07-10T04:09:16.528Z"
   },
   {
    "duration": 348,
    "start_time": "2025-07-10T04:09:16.624Z"
   },
   {
    "duration": 82,
    "start_time": "2025-07-10T04:09:16.974Z"
   },
   {
    "duration": 594,
    "start_time": "2025-07-10T04:09:17.067Z"
   },
   {
    "duration": 82,
    "start_time": "2025-07-10T04:09:17.663Z"
   },
   {
    "duration": 159,
    "start_time": "2025-07-10T04:09:17.747Z"
   },
   {
    "duration": 232,
    "start_time": "2025-07-10T04:09:17.908Z"
   },
   {
    "duration": 44,
    "start_time": "2025-07-10T04:09:18.142Z"
   },
   {
    "duration": 166,
    "start_time": "2025-07-10T04:09:18.188Z"
   },
   {
    "duration": 37,
    "start_time": "2025-07-10T04:09:18.358Z"
   },
   {
    "duration": 200,
    "start_time": "2025-07-10T04:09:18.396Z"
   },
   {
    "duration": 335,
    "start_time": "2025-07-10T04:09:18.597Z"
   },
   {
    "duration": 662,
    "start_time": "2025-07-10T04:09:18.934Z"
   },
   {
    "duration": 463,
    "start_time": "2025-07-10T04:09:19.598Z"
   },
   {
    "duration": 1614,
    "start_time": "2025-07-10T04:09:20.066Z"
   },
   {
    "duration": 0,
    "start_time": "2025-07-10T04:09:21.681Z"
   },
   {
    "duration": 0,
    "start_time": "2025-07-10T04:09:21.682Z"
   },
   {
    "duration": 0,
    "start_time": "2025-07-10T04:09:21.683Z"
   },
   {
    "duration": 0,
    "start_time": "2025-07-10T04:09:21.685Z"
   },
   {
    "duration": 0,
    "start_time": "2025-07-10T04:09:21.686Z"
   },
   {
    "duration": 0,
    "start_time": "2025-07-10T04:09:21.687Z"
   },
   {
    "duration": 0,
    "start_time": "2025-07-10T04:09:21.688Z"
   },
   {
    "duration": 0,
    "start_time": "2025-07-10T04:09:21.689Z"
   },
   {
    "duration": 488,
    "start_time": "2025-07-10T04:11:44.404Z"
   },
   {
    "duration": 425,
    "start_time": "2025-07-10T04:11:45.618Z"
   },
   {
    "duration": 168,
    "start_time": "2025-07-10T04:11:48.678Z"
   },
   {
    "duration": 495,
    "start_time": "2025-07-10T04:14:33.081Z"
   },
   {
    "duration": 532,
    "start_time": "2025-07-10T04:14:49.705Z"
   },
   {
    "duration": 645,
    "start_time": "2025-07-10T04:14:56.835Z"
   },
   {
    "duration": 471,
    "start_time": "2025-07-10T04:19:55.185Z"
   },
   {
    "duration": 388,
    "start_time": "2025-07-10T04:23:51.679Z"
   },
   {
    "duration": 440,
    "start_time": "2025-07-10T04:24:17.532Z"
   },
   {
    "duration": 182,
    "start_time": "2025-07-10T04:26:39.550Z"
   },
   {
    "duration": 3598,
    "start_time": "2025-07-10T04:26:44.279Z"
   },
   {
    "duration": 346,
    "start_time": "2025-07-10T04:26:59.073Z"
   },
   {
    "duration": 85,
    "start_time": "2025-07-10T04:27:12.359Z"
   },
   {
    "duration": 87,
    "start_time": "2025-07-10T04:27:15.626Z"
   },
   {
    "duration": 102,
    "start_time": "2025-07-10T04:30:58.255Z"
   },
   {
    "duration": 612,
    "start_time": "2025-07-10T04:31:43.676Z"
   },
   {
    "duration": 97,
    "start_time": "2025-07-10T04:32:41.548Z"
   },
   {
    "duration": 1199,
    "start_time": "2025-07-10T04:57:29.509Z"
   },
   {
    "duration": 1898,
    "start_time": "2025-07-10T04:57:30.710Z"
   },
   {
    "duration": 33,
    "start_time": "2025-07-10T04:57:32.609Z"
   },
   {
    "duration": 153,
    "start_time": "2025-07-10T04:57:32.644Z"
   },
   {
    "duration": 124,
    "start_time": "2025-07-10T04:57:32.799Z"
   },
   {
    "duration": 159,
    "start_time": "2025-07-10T04:57:32.925Z"
   },
   {
    "duration": 309,
    "start_time": "2025-07-10T04:57:33.085Z"
   },
   {
    "duration": 144,
    "start_time": "2025-07-10T04:57:33.396Z"
   },
   {
    "duration": 87,
    "start_time": "2025-07-10T04:57:33.542Z"
   },
   {
    "duration": 350,
    "start_time": "2025-07-10T04:57:33.632Z"
   },
   {
    "duration": 90,
    "start_time": "2025-07-10T04:57:33.984Z"
   },
   {
    "duration": 1247,
    "start_time": "2025-07-10T04:57:37.080Z"
   },
   {
    "duration": 1607,
    "start_time": "2025-07-10T04:57:38.330Z"
   },
   {
    "duration": 44,
    "start_time": "2025-07-10T04:57:39.939Z"
   },
   {
    "duration": 147,
    "start_time": "2025-07-10T04:57:39.985Z"
   },
   {
    "duration": 151,
    "start_time": "2025-07-10T04:57:40.134Z"
   },
   {
    "duration": 130,
    "start_time": "2025-07-10T04:57:40.287Z"
   },
   {
    "duration": 304,
    "start_time": "2025-07-10T04:57:40.418Z"
   },
   {
    "duration": 151,
    "start_time": "2025-07-10T04:57:40.723Z"
   },
   {
    "duration": 93,
    "start_time": "2025-07-10T04:57:40.877Z"
   },
   {
    "duration": 319,
    "start_time": "2025-07-10T04:57:40.976Z"
   },
   {
    "duration": 96,
    "start_time": "2025-07-10T04:57:41.297Z"
   },
   {
    "duration": 559,
    "start_time": "2025-07-10T04:57:41.395Z"
   },
   {
    "duration": 85,
    "start_time": "2025-07-10T04:57:41.956Z"
   },
   {
    "duration": 153,
    "start_time": "2025-07-10T04:57:42.056Z"
   },
   {
    "duration": 258,
    "start_time": "2025-07-10T04:57:42.211Z"
   },
   {
    "duration": 32,
    "start_time": "2025-07-10T04:57:42.471Z"
   },
   {
    "duration": 214,
    "start_time": "2025-07-10T04:57:42.504Z"
   },
   {
    "duration": 23,
    "start_time": "2025-07-10T04:57:42.720Z"
   },
   {
    "duration": 259,
    "start_time": "2025-07-10T04:57:42.744Z"
   },
   {
    "duration": 331,
    "start_time": "2025-07-10T04:57:43.005Z"
   },
   {
    "duration": 650,
    "start_time": "2025-07-10T04:57:43.338Z"
   },
   {
    "duration": 487,
    "start_time": "2025-07-10T04:57:43.990Z"
   },
   {
    "duration": 617,
    "start_time": "2025-07-10T04:57:44.481Z"
   },
   {
    "duration": 552,
    "start_time": "2025-07-10T04:57:45.101Z"
   },
   {
    "duration": 267,
    "start_time": "2025-07-10T04:57:45.662Z"
   },
   {
    "duration": 3411,
    "start_time": "2025-07-10T04:57:45.931Z"
   },
   {
    "duration": 373,
    "start_time": "2025-07-10T04:57:49.344Z"
   },
   {
    "duration": 101,
    "start_time": "2025-07-10T04:57:49.721Z"
   },
   {
    "duration": 92,
    "start_time": "2025-07-10T04:57:49.824Z"
   },
   {
    "duration": 122,
    "start_time": "2025-07-10T04:57:49.918Z"
   },
   {
    "duration": 643,
    "start_time": "2025-07-10T04:57:50.041Z"
   },
   {
    "duration": 136,
    "start_time": "2025-07-10T04:57:50.685Z"
   },
   {
    "duration": 9716,
    "start_time": "2025-07-10T04:57:50.823Z"
   },
   {
    "duration": 428,
    "start_time": "2025-07-10T05:02:26.285Z"
   },
   {
    "duration": 139,
    "start_time": "2025-07-10T05:03:52.779Z"
   },
   {
    "duration": 138,
    "start_time": "2025-07-10T05:05:24.468Z"
   },
   {
    "duration": 560,
    "start_time": "2025-07-10T05:05:26.250Z"
   },
   {
    "duration": 92,
    "start_time": "2025-07-10T05:06:20.285Z"
   },
   {
    "duration": 149,
    "start_time": "2025-07-10T05:06:25.340Z"
   },
   {
    "duration": 128,
    "start_time": "2025-07-10T05:07:23.698Z"
   },
   {
    "duration": 132,
    "start_time": "2025-07-10T05:07:35.291Z"
   },
   {
    "duration": 140,
    "start_time": "2025-07-10T05:09:00.185Z"
   },
   {
    "duration": 145,
    "start_time": "2025-07-10T05:09:30.402Z"
   },
   {
    "duration": 133,
    "start_time": "2025-07-10T05:10:14.524Z"
   },
   {
    "duration": 10234,
    "start_time": "2025-07-10T05:19:39.288Z"
   },
   {
    "duration": 5,
    "start_time": "2025-07-10T05:22:52.416Z"
   },
   {
    "duration": 6,
    "start_time": "2025-07-10T05:23:12.273Z"
   },
   {
    "duration": 6,
    "start_time": "2025-07-10T05:33:08.234Z"
   },
   {
    "duration": 10393,
    "start_time": "2025-07-10T05:34:19.670Z"
   },
   {
    "duration": 15,
    "start_time": "2025-07-10T05:34:36.780Z"
   },
   {
    "duration": 1007,
    "start_time": "2025-07-10T05:38:28.583Z"
   },
   {
    "duration": 11173,
    "start_time": "2025-07-10T05:39:40.705Z"
   },
   {
    "duration": 515,
    "start_time": "2025-07-10T05:39:53.086Z"
   },
   {
    "duration": 6,
    "start_time": "2025-07-10T05:40:59.426Z"
   },
   {
    "duration": 696,
    "start_time": "2025-07-10T05:41:35.491Z"
   },
   {
    "duration": 10218,
    "start_time": "2025-07-10T05:51:44.591Z"
   },
   {
    "duration": 145,
    "start_time": "2025-07-10T05:53:15.803Z"
   },
   {
    "duration": 8,
    "start_time": "2025-07-10T05:54:15.527Z"
   },
   {
    "duration": 18,
    "start_time": "2025-07-10T05:55:24.582Z"
   },
   {
    "duration": 4,
    "start_time": "2025-07-10T05:55:56.992Z"
   },
   {
    "duration": 10,
    "start_time": "2025-07-10T05:57:22.947Z"
   },
   {
    "duration": 148,
    "start_time": "2025-07-10T05:59:04.687Z"
   },
   {
    "duration": 589,
    "start_time": "2025-07-10T05:59:33.385Z"
   },
   {
    "duration": 590,
    "start_time": "2025-07-10T06:02:28.266Z"
   },
   {
    "duration": 150,
    "start_time": "2025-07-10T06:06:57.947Z"
   },
   {
    "duration": 13,
    "start_time": "2025-07-10T06:38:24.809Z"
   },
   {
    "duration": 1659,
    "start_time": "2025-07-10T06:42:48.327Z"
   },
   {
    "duration": 2336,
    "start_time": "2025-07-10T06:42:49.988Z"
   },
   {
    "duration": 61,
    "start_time": "2025-07-10T06:42:52.326Z"
   },
   {
    "duration": 206,
    "start_time": "2025-07-10T06:42:52.390Z"
   },
   {
    "duration": 196,
    "start_time": "2025-07-10T06:42:52.605Z"
   },
   {
    "duration": 236,
    "start_time": "2025-07-10T06:42:52.803Z"
   },
   {
    "duration": 361,
    "start_time": "2025-07-10T06:42:53.041Z"
   },
   {
    "duration": 180,
    "start_time": "2025-07-10T06:42:53.404Z"
   },
   {
    "duration": 87,
    "start_time": "2025-07-10T06:42:53.593Z"
   },
   {
    "duration": 450,
    "start_time": "2025-07-10T06:42:53.690Z"
   },
   {
    "duration": 116,
    "start_time": "2025-07-10T06:42:54.141Z"
   },
   {
    "duration": 730,
    "start_time": "2025-07-10T06:42:54.259Z"
   },
   {
    "duration": 113,
    "start_time": "2025-07-10T06:42:54.996Z"
   },
   {
    "duration": 239,
    "start_time": "2025-07-10T06:42:55.111Z"
   },
   {
    "duration": 276,
    "start_time": "2025-07-10T06:42:55.367Z"
   },
   {
    "duration": 64,
    "start_time": "2025-07-10T06:42:55.645Z"
   },
   {
    "duration": 199,
    "start_time": "2025-07-10T06:42:55.711Z"
   },
   {
    "duration": 34,
    "start_time": "2025-07-10T06:42:55.912Z"
   },
   {
    "duration": 285,
    "start_time": "2025-07-10T06:42:55.948Z"
   },
   {
    "duration": 371,
    "start_time": "2025-07-10T06:42:56.235Z"
   },
   {
    "duration": 722,
    "start_time": "2025-07-10T06:42:56.609Z"
   },
   {
    "duration": 487,
    "start_time": "2025-07-10T06:42:57.333Z"
   },
   {
    "duration": 714,
    "start_time": "2025-07-10T06:42:57.822Z"
   },
   {
    "duration": 489,
    "start_time": "2025-07-10T06:42:58.538Z"
   },
   {
    "duration": 343,
    "start_time": "2025-07-10T06:42:59.030Z"
   },
   {
    "duration": 4089,
    "start_time": "2025-07-10T06:42:59.375Z"
   },
   {
    "duration": 431,
    "start_time": "2025-07-10T06:43:03.472Z"
   },
   {
    "duration": 124,
    "start_time": "2025-07-10T06:43:03.910Z"
   },
   {
    "duration": 121,
    "start_time": "2025-07-10T06:43:04.035Z"
   },
   {
    "duration": 131,
    "start_time": "2025-07-10T06:43:04.161Z"
   },
   {
    "duration": 725,
    "start_time": "2025-07-10T06:43:04.298Z"
   },
   {
    "duration": 167,
    "start_time": "2025-07-10T06:43:05.025Z"
   },
   {
    "duration": 0,
    "start_time": "2025-07-10T06:43:05.205Z"
   },
   {
    "duration": 0,
    "start_time": "2025-07-10T06:43:05.217Z"
   },
   {
    "duration": 0,
    "start_time": "2025-07-10T06:43:05.223Z"
   },
   {
    "duration": 0,
    "start_time": "2025-07-10T06:43:05.225Z"
   },
   {
    "duration": 0,
    "start_time": "2025-07-10T06:43:05.226Z"
   },
   {
    "duration": 0,
    "start_time": "2025-07-10T06:43:05.228Z"
   },
   {
    "duration": 0,
    "start_time": "2025-07-10T06:43:05.229Z"
   },
   {
    "duration": 0,
    "start_time": "2025-07-10T06:43:05.231Z"
   },
   {
    "duration": 0,
    "start_time": "2025-07-10T06:43:05.233Z"
   },
   {
    "duration": 0,
    "start_time": "2025-07-10T06:43:05.234Z"
   },
   {
    "duration": 635,
    "start_time": "2025-07-10T07:14:44.325Z"
   },
   {
    "duration": 128,
    "start_time": "2025-07-10T07:15:04.502Z"
   },
   {
    "duration": 10164,
    "start_time": "2025-07-10T07:18:43.301Z"
   },
   {
    "duration": 158,
    "start_time": "2025-07-10T07:18:59.031Z"
   },
   {
    "duration": 608,
    "start_time": "2025-07-10T07:19:01.065Z"
   },
   {
    "duration": 13,
    "start_time": "2025-07-10T07:19:04.147Z"
   },
   {
    "duration": 22,
    "start_time": "2025-07-10T07:19:06.866Z"
   },
   {
    "duration": 3,
    "start_time": "2025-07-10T07:19:09.290Z"
   },
   {
    "duration": 7,
    "start_time": "2025-07-10T07:19:14.744Z"
   },
   {
    "duration": 126,
    "start_time": "2025-07-10T07:19:21.732Z"
   },
   {
    "duration": 16,
    "start_time": "2025-07-10T07:19:28.284Z"
   },
   {
    "duration": 1330,
    "start_time": "2025-07-10T07:23:15.092Z"
   },
   {
    "duration": 2131,
    "start_time": "2025-07-10T07:23:16.424Z"
   },
   {
    "duration": 53,
    "start_time": "2025-07-10T07:23:18.557Z"
   },
   {
    "duration": 184,
    "start_time": "2025-07-10T07:23:18.611Z"
   },
   {
    "duration": 134,
    "start_time": "2025-07-10T07:23:18.800Z"
   },
   {
    "duration": 176,
    "start_time": "2025-07-10T07:23:18.936Z"
   },
   {
    "duration": 305,
    "start_time": "2025-07-10T07:23:19.113Z"
   },
   {
    "duration": 158,
    "start_time": "2025-07-10T07:23:19.420Z"
   },
   {
    "duration": 87,
    "start_time": "2025-07-10T07:23:19.580Z"
   },
   {
    "duration": 338,
    "start_time": "2025-07-10T07:23:19.671Z"
   },
   {
    "duration": 108,
    "start_time": "2025-07-10T07:23:20.011Z"
   },
   {
    "duration": 595,
    "start_time": "2025-07-10T07:23:20.121Z"
   },
   {
    "duration": 101,
    "start_time": "2025-07-10T07:23:20.718Z"
   },
   {
    "duration": 175,
    "start_time": "2025-07-10T07:23:20.821Z"
   },
   {
    "duration": 245,
    "start_time": "2025-07-10T07:23:21.000Z"
   },
   {
    "duration": 51,
    "start_time": "2025-07-10T07:23:21.246Z"
   },
   {
    "duration": 231,
    "start_time": "2025-07-10T07:23:21.300Z"
   },
   {
    "duration": 49,
    "start_time": "2025-07-10T07:23:21.533Z"
   },
   {
    "duration": 218,
    "start_time": "2025-07-10T07:23:21.583Z"
   },
   {
    "duration": 340,
    "start_time": "2025-07-10T07:23:21.802Z"
   },
   {
    "duration": 646,
    "start_time": "2025-07-10T07:23:22.149Z"
   },
   {
    "duration": 499,
    "start_time": "2025-07-10T07:23:22.798Z"
   },
   {
    "duration": 611,
    "start_time": "2025-07-10T07:23:23.301Z"
   },
   {
    "duration": 454,
    "start_time": "2025-07-10T07:23:23.915Z"
   },
   {
    "duration": 269,
    "start_time": "2025-07-10T07:23:24.371Z"
   },
   {
    "duration": 3609,
    "start_time": "2025-07-10T07:23:24.656Z"
   },
   {
    "duration": 389,
    "start_time": "2025-07-10T07:23:28.267Z"
   },
   {
    "duration": 104,
    "start_time": "2025-07-10T07:23:28.661Z"
   },
   {
    "duration": 98,
    "start_time": "2025-07-10T07:23:28.770Z"
   },
   {
    "duration": 101,
    "start_time": "2025-07-10T07:23:28.870Z"
   },
   {
    "duration": 669,
    "start_time": "2025-07-10T07:23:28.973Z"
   },
   {
    "duration": 720,
    "start_time": "2025-07-10T07:23:29.644Z"
   },
   {
    "duration": 145,
    "start_time": "2025-07-10T07:23:30.371Z"
   },
   {
    "duration": 10251,
    "start_time": "2025-07-10T07:23:30.518Z"
   },
   {
    "duration": 154,
    "start_time": "2025-07-10T07:23:40.776Z"
   },
   {
    "duration": 609,
    "start_time": "2025-07-10T07:23:40.931Z"
   },
   {
    "duration": 13,
    "start_time": "2025-07-10T07:23:41.541Z"
   },
   {
    "duration": 26,
    "start_time": "2025-07-10T07:23:41.556Z"
   },
   {
    "duration": 10,
    "start_time": "2025-07-10T07:23:41.584Z"
   },
   {
    "duration": 8,
    "start_time": "2025-07-10T07:23:41.596Z"
   },
   {
    "duration": 162,
    "start_time": "2025-07-10T07:23:41.606Z"
   },
   {
    "duration": 20,
    "start_time": "2025-07-10T07:23:41.773Z"
   }
  ],
  "kernelspec": {
   "display_name": "Python [conda env:base] *",
   "language": "python",
   "name": "conda-base-py"
  },
  "language_info": {
   "codemirror_mode": {
    "name": "ipython",
    "version": 3
   },
   "file_extension": ".py",
   "mimetype": "text/x-python",
   "name": "python",
   "nbconvert_exporter": "python",
   "pygments_lexer": "ipython3",
   "version": "3.12.7"
  },
  "toc": {
   "base_numbering": 1,
   "nav_menu": {},
   "number_sections": true,
   "sideBar": true,
   "skip_h1_title": true,
   "title_cell": "Table of Contents",
   "title_sidebar": "Contents",
   "toc_cell": false,
   "toc_position": {},
   "toc_section_display": true,
   "toc_window_display": false
  }
 },
 "nbformat": 4,
 "nbformat_minor": 5
}
